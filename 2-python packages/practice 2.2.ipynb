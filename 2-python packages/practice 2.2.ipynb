{
 "cells": [
  {
   "cell_type": "code",
   "execution_count": 1,
   "metadata": {},
   "outputs": [],
   "source": [
    "from sklearn.gaussian_process import GaussianProcessClassifier\n",
    "from sklearn.model_selection import train_test_split\n",
    "from sklearn.linear_model import LogisticRegression\n",
    "from sklearn.metrics import classification_report\n",
    "from sklearn.gaussian_process.kernels import RBF\n",
    "from sklearn.metrics import confusion_matrix\n",
    "from sklearn.metrics import accuracy_score\n",
    "from sklearn.decomposition import PCA\n",
    "from sklearn import preprocessing\n",
    "import matplotlib.pyplot as plt\n",
    "from pandas import get_dummies\n",
    "from sklearn import datasets\n",
    "from sklearn.svm import SVC\n",
    "import seaborn as sns\n",
    "import pandas as pd\n",
    "import numpy as np\n",
    "import matplotlib\n",
    "import warnings\n",
    "import sklearn\n",
    "import scipy\n",
    "import numpy\n",
    "import json\n",
    "import sys\n",
    "import csv\n",
    "import os"
   ]
  },
  {
   "cell_type": "code",
   "execution_count": 2,
   "metadata": {},
   "outputs": [
    {
     "name": "stdout",
     "output_type": "stream",
     "text": [
      "matplotlib: 3.0.2\n",
      "sklearn: 0.20.1\n",
      "scipy: 1.1.0\n",
      "seaborn: 0.9.0\n",
      "pandas: 0.23.4\n",
      "numpy: 1.15.4\n",
      "Python: 3.7.1 (default, Dec 14 2018, 19:28:38) \n",
      "[GCC 7.3.0]\n"
     ]
    }
   ],
   "source": [
    "print('matplotlib: {}'.format(matplotlib.__version__))\n",
    "print('sklearn: {}'.format(sklearn.__version__))\n",
    "print('scipy: {}'.format(scipy.__version__))\n",
    "print('seaborn: {}'.format(sns.__version__))\n",
    "print('pandas: {}'.format(pd.__version__))\n",
    "print('numpy: {}'.format(np.__version__))\n",
    "print('Python: {}'.format(sys.version))"
   ]
  },
  {
   "cell_type": "code",
   "execution_count": 3,
   "metadata": {},
   "outputs": [
    {
     "data": {
      "text/plain": [
       "array([1, 2, 3])"
      ]
     },
     "execution_count": 3,
     "metadata": {},
     "output_type": "execute_result"
    }
   ],
   "source": [
    "mylist = [1, 2, 3]\n",
    "x = np.array(mylist)\n",
    "x"
   ]
  },
  {
   "cell_type": "code",
   "execution_count": 4,
   "metadata": {},
   "outputs": [
    {
     "data": {
      "text/plain": [
       "array([4, 5, 6])"
      ]
     },
     "execution_count": 4,
     "metadata": {},
     "output_type": "execute_result"
    }
   ],
   "source": [
    "y = np.array([4, 5, 6])\n",
    "y"
   ]
  },
  {
   "cell_type": "code",
   "execution_count": 5,
   "metadata": {},
   "outputs": [
    {
     "data": {
      "text/plain": [
       "array([[ 7,  8,  9],\n",
       "       [10, 11, 12]])"
      ]
     },
     "execution_count": 5,
     "metadata": {},
     "output_type": "execute_result"
    }
   ],
   "source": [
    "m = np.array([[7, 8, 9], [10, 11, 12]])\n",
    "m"
   ]
  },
  {
   "cell_type": "code",
   "execution_count": 6,
   "metadata": {},
   "outputs": [
    {
     "data": {
      "text/plain": [
       "(2, 3)"
      ]
     },
     "execution_count": 6,
     "metadata": {},
     "output_type": "execute_result"
    }
   ],
   "source": [
    "m.shape"
   ]
  },
  {
   "cell_type": "code",
   "execution_count": 7,
   "metadata": {},
   "outputs": [
    {
     "data": {
      "text/plain": [
       "array([ 0,  2,  4,  6,  8, 10, 12, 14, 16, 18, 20, 22, 24, 26, 28])"
      ]
     },
     "execution_count": 7,
     "metadata": {},
     "output_type": "execute_result"
    }
   ],
   "source": [
    "n = np.arange(0, 30, 2)\n",
    "n"
   ]
  },
  {
   "cell_type": "code",
   "execution_count": 8,
   "metadata": {},
   "outputs": [
    {
     "data": {
      "text/plain": [
       "array([[ 0,  2,  4],\n",
       "       [ 6,  8, 10],\n",
       "       [12, 14, 16],\n",
       "       [18, 20, 22],\n",
       "       [24, 26, 28]])"
      ]
     },
     "execution_count": 8,
     "metadata": {},
     "output_type": "execute_result"
    }
   ],
   "source": [
    "n.reshape(5, 3)"
   ]
  },
  {
   "cell_type": "code",
   "execution_count": 9,
   "metadata": {},
   "outputs": [
    {
     "data": {
      "text/plain": [
       "array([0. , 0.5, 1. , 1.5, 2. , 2.5, 3. , 3.5, 4. ])"
      ]
     },
     "execution_count": 9,
     "metadata": {},
     "output_type": "execute_result"
    }
   ],
   "source": [
    "o = np.linspace(0,4,9)\n",
    "o"
   ]
  },
  {
   "cell_type": "code",
   "execution_count": 10,
   "metadata": {},
   "outputs": [
    {
     "data": {
      "text/plain": [
       "array([[0. , 0.5, 1. ],\n",
       "       [1.5, 2. , 2.5],\n",
       "       [3. , 3.5, 4. ]])"
      ]
     },
     "execution_count": 10,
     "metadata": {},
     "output_type": "execute_result"
    }
   ],
   "source": [
    "o.resize(3,3)\n",
    "o"
   ]
  },
  {
   "cell_type": "code",
   "execution_count": 11,
   "metadata": {},
   "outputs": [
    {
     "data": {
      "text/plain": [
       "array([[1., 1., 1., 1.],\n",
       "       [1., 1., 1., 1.],\n",
       "       [1., 1., 1., 1.]])"
      ]
     },
     "execution_count": 11,
     "metadata": {},
     "output_type": "execute_result"
    }
   ],
   "source": [
    "np.ones((3,4))"
   ]
  },
  {
   "cell_type": "code",
   "execution_count": 12,
   "metadata": {},
   "outputs": [
    {
     "data": {
      "text/plain": [
       "array([[0., 0., 0., 0.],\n",
       "       [0., 0., 0., 0.],\n",
       "       [0., 0., 0., 0.]])"
      ]
     },
     "execution_count": 12,
     "metadata": {},
     "output_type": "execute_result"
    }
   ],
   "source": [
    "np.zeros((3, 4))"
   ]
  },
  {
   "cell_type": "code",
   "execution_count": 13,
   "metadata": {},
   "outputs": [
    {
     "data": {
      "text/plain": [
       "array([[1., 0., 0., 0.],\n",
       "       [0., 1., 0., 0.],\n",
       "       [0., 0., 1., 0.],\n",
       "       [0., 0., 0., 1.]])"
      ]
     },
     "execution_count": 13,
     "metadata": {},
     "output_type": "execute_result"
    }
   ],
   "source": [
    "np.eye((4))"
   ]
  },
  {
   "cell_type": "code",
   "execution_count": 14,
   "metadata": {},
   "outputs": [
    {
     "data": {
      "text/plain": [
       "array([[4, 0, 0],\n",
       "       [0, 5, 0],\n",
       "       [0, 0, 6]])"
      ]
     },
     "execution_count": 14,
     "metadata": {},
     "output_type": "execute_result"
    }
   ],
   "source": [
    "np.diag((y))"
   ]
  },
  {
   "cell_type": "code",
   "execution_count": 15,
   "metadata": {},
   "outputs": [
    {
     "data": {
      "text/plain": [
       "array([1, 2, 3, 1, 2, 3, 1, 2, 3])"
      ]
     },
     "execution_count": 15,
     "metadata": {},
     "output_type": "execute_result"
    }
   ],
   "source": [
    "np.array([1,2,3]*3)"
   ]
  },
  {
   "cell_type": "code",
   "execution_count": 16,
   "metadata": {},
   "outputs": [
    {
     "data": {
      "text/plain": [
       "array([1, 1, 1, 2, 2, 2, 3, 3, 3])"
      ]
     },
     "execution_count": 16,
     "metadata": {},
     "output_type": "execute_result"
    }
   ],
   "source": [
    "np.repeat([1,2,3],3)"
   ]
  },
  {
   "cell_type": "markdown",
   "metadata": {},
   "source": [
    "# 2-2 Numpy:Combining Arrays"
   ]
  },
  {
   "cell_type": "code",
   "execution_count": 17,
   "metadata": {},
   "outputs": [
    {
     "data": {
      "text/plain": [
       "array([[1, 1, 1],\n",
       "       [1, 1, 1]])"
      ]
     },
     "execution_count": 17,
     "metadata": {},
     "output_type": "execute_result"
    }
   ],
   "source": [
    "p = np.ones([2,3],int) \n",
    "p"
   ]
  },
  {
   "cell_type": "code",
   "execution_count": 18,
   "metadata": {},
   "outputs": [
    {
     "data": {
      "text/plain": [
       "array([[1, 1, 1],\n",
       "       [1, 1, 1],\n",
       "       [2, 2, 2],\n",
       "       [2, 2, 2]])"
      ]
     },
     "execution_count": 18,
     "metadata": {},
     "output_type": "execute_result"
    }
   ],
   "source": [
    "np.vstack([p, 2*p])"
   ]
  },
  {
   "cell_type": "code",
   "execution_count": 19,
   "metadata": {},
   "outputs": [
    {
     "data": {
      "text/plain": [
       "array([[1, 1, 1, 2, 2, 2],\n",
       "       [1, 1, 1, 2, 2, 2]])"
      ]
     },
     "execution_count": 19,
     "metadata": {},
     "output_type": "execute_result"
    }
   ],
   "source": [
    "np.hstack([p, 2*p])"
   ]
  },
  {
   "cell_type": "markdown",
   "metadata": {},
   "source": [
    "## Numpy:Operations¶"
   ]
  },
  {
   "cell_type": "code",
   "execution_count": 20,
   "metadata": {},
   "outputs": [
    {
     "name": "stdout",
     "output_type": "stream",
     "text": [
      "[5 7 9]\n",
      "[-3 -3 -3]\n"
     ]
    }
   ],
   "source": [
    "print(x + y) # elementwise addition     [1 2 3] + [4 5 6] = [5  7  9]\n",
    "print(x - y) # elementwise subtraction  [1 2 3] - [4 5 6] = [-3 -3 -3]"
   ]
  },
  {
   "cell_type": "code",
   "execution_count": 21,
   "metadata": {},
   "outputs": [
    {
     "name": "stdout",
     "output_type": "stream",
     "text": [
      "[ 4 10 18]\n",
      "[0.25 0.4  0.5 ]\n"
     ]
    }
   ],
   "source": [
    "print(x * y) # elementwise multiplication  [1 2 3] * [4 5 6] = [4  10  18]\n",
    "print(x / y) # elementwise divison         [1 2 3] / [4 5 6] = [0.25  0.4  0.5]"
   ]
  },
  {
   "cell_type": "code",
   "execution_count": 22,
   "metadata": {},
   "outputs": [
    {
     "name": "stdout",
     "output_type": "stream",
     "text": [
      "[1 4 9]\n"
     ]
    }
   ],
   "source": [
    "print(x**2) # elementwise power  [1 2 3] ^2 =  [1 4 9]"
   ]
  },
  {
   "cell_type": "code",
   "execution_count": 23,
   "metadata": {},
   "outputs": [
    {
     "data": {
      "text/plain": [
       "32"
      ]
     },
     "execution_count": 23,
     "metadata": {},
     "output_type": "execute_result"
    }
   ],
   "source": [
    "x.dot(y) # dot product  1*4 + 2*5 + 3*6"
   ]
  },
  {
   "cell_type": "code",
   "execution_count": 24,
   "metadata": {},
   "outputs": [
    {
     "data": {
      "text/plain": [
       "array([[ 4,  5,  6],\n",
       "       [16, 25, 36]])"
      ]
     },
     "execution_count": 24,
     "metadata": {},
     "output_type": "execute_result"
    }
   ],
   "source": [
    "z = np.array([y, y**2])\n",
    "z"
   ]
  },
  {
   "cell_type": "code",
   "execution_count": 25,
   "metadata": {},
   "outputs": [
    {
     "data": {
      "text/plain": [
       "2"
      ]
     },
     "execution_count": 25,
     "metadata": {},
     "output_type": "execute_result"
    }
   ],
   "source": [
    "len(z)"
   ]
  },
  {
   "cell_type": "code",
   "execution_count": 26,
   "metadata": {},
   "outputs": [
    {
     "data": {
      "text/plain": [
       "(2, 3)"
      ]
     },
     "execution_count": 26,
     "metadata": {},
     "output_type": "execute_result"
    }
   ],
   "source": [
    "z.shape"
   ]
  },
  {
   "cell_type": "code",
   "execution_count": 27,
   "metadata": {},
   "outputs": [
    {
     "data": {
      "text/plain": [
       "array([[ 4, 16],\n",
       "       [ 5, 25],\n",
       "       [ 6, 36]])"
      ]
     },
     "execution_count": 27,
     "metadata": {},
     "output_type": "execute_result"
    }
   ],
   "source": [
    "z.T"
   ]
  },
  {
   "cell_type": "code",
   "execution_count": 28,
   "metadata": {},
   "outputs": [
    {
     "data": {
      "text/plain": [
       "(3, 2)"
      ]
     },
     "execution_count": 28,
     "metadata": {},
     "output_type": "execute_result"
    }
   ],
   "source": [
    "z.T.shape"
   ]
  },
  {
   "cell_type": "code",
   "execution_count": 29,
   "metadata": {},
   "outputs": [
    {
     "data": {
      "text/plain": [
       "dtype('int64')"
      ]
     },
     "execution_count": 29,
     "metadata": {},
     "output_type": "execute_result"
    }
   ],
   "source": [
    "z.dtype"
   ]
  },
  {
   "cell_type": "code",
   "execution_count": 30,
   "metadata": {},
   "outputs": [
    {
     "data": {
      "text/plain": [
       "numpy.ndarray"
      ]
     },
     "execution_count": 30,
     "metadata": {},
     "output_type": "execute_result"
    }
   ],
   "source": [
    "type(z)"
   ]
  },
  {
   "cell_type": "code",
   "execution_count": 31,
   "metadata": {},
   "outputs": [
    {
     "data": {
      "text/plain": [
       "array([[ 4.,  5.,  6.],\n",
       "       [16., 25., 36.]], dtype=float32)"
      ]
     },
     "execution_count": 31,
     "metadata": {},
     "output_type": "execute_result"
    }
   ],
   "source": [
    "z = z.astype('f')\n",
    "z"
   ]
  },
  {
   "cell_type": "code",
   "execution_count": 32,
   "metadata": {},
   "outputs": [
    {
     "data": {
      "text/plain": [
       "dtype('float32')"
      ]
     },
     "execution_count": 32,
     "metadata": {},
     "output_type": "execute_result"
    }
   ],
   "source": [
    "z.dtype"
   ]
  },
  {
   "cell_type": "markdown",
   "metadata": {},
   "source": [
    "#  Numpy: Math Functions"
   ]
  },
  {
   "cell_type": "code",
   "execution_count": 141,
   "metadata": {},
   "outputs": [],
   "source": [
    "a = np.array([-4, -2, 1, 3, 5])"
   ]
  },
  {
   "cell_type": "code",
   "execution_count": 144,
   "metadata": {},
   "outputs": [
    {
     "data": {
      "text/plain": [
       "3"
      ]
     },
     "execution_count": 144,
     "metadata": {},
     "output_type": "execute_result"
    }
   ],
   "source": [
    "a.sum()              of a slice"
   ]
  },
  {
   "cell_type": "code",
   "execution_count": 35,
   "metadata": {},
   "outputs": [
    {
     "data": {
      "text/plain": [
       "5"
      ]
     },
     "execution_count": 35,
     "metadata": {},
     "output_type": "execute_result"
    }
   ],
   "source": [
    "a.max()"
   ]
  },
  {
   "cell_type": "code",
   "execution_count": 36,
   "metadata": {},
   "outputs": [
    {
     "data": {
      "text/plain": [
       "-4"
      ]
     },
     "execution_count": 36,
     "metadata": {},
     "output_type": "execute_result"
    }
   ],
   "source": [
    "a.min()"
   ]
  },
  {
   "cell_type": "code",
   "execution_count": 37,
   "metadata": {},
   "outputs": [
    {
     "data": {
      "text/plain": [
       "0.6"
      ]
     },
     "execution_count": 37,
     "metadata": {},
     "output_type": "execute_result"
    }
   ],
   "source": [
    "a.mean()"
   ]
  },
  {
   "cell_type": "code",
   "execution_count": 38,
   "metadata": {},
   "outputs": [
    {
     "data": {
      "text/plain": [
       "3.2619012860600183"
      ]
     },
     "execution_count": 38,
     "metadata": {},
     "output_type": "execute_result"
    }
   ],
   "source": [
    "a.std()"
   ]
  },
  {
   "cell_type": "code",
   "execution_count": 39,
   "metadata": {},
   "outputs": [
    {
     "data": {
      "text/plain": [
       "[-1, 2, 3]"
      ]
     },
     "execution_count": 39,
     "metadata": {},
     "output_type": "execute_result"
    }
   ],
   "source": [
    "b = [-1,2,3]\n",
    "b"
   ]
  },
  {
   "cell_type": "code",
   "execution_count": 40,
   "metadata": {},
   "outputs": [
    {
     "data": {
      "text/plain": [
       "[1, 2, 3]"
      ]
     },
     "execution_count": 40,
     "metadata": {},
     "output_type": "execute_result"
    }
   ],
   "source": [
    "[abs(x) for x in b]"
   ]
  },
  {
   "cell_type": "code",
   "execution_count": 41,
   "metadata": {},
   "outputs": [
    {
     "data": {
      "text/plain": [
       "4"
      ]
     },
     "execution_count": 41,
     "metadata": {},
     "output_type": "execute_result"
    }
   ],
   "source": [
    "a.argmax()"
   ]
  },
  {
   "cell_type": "code",
   "execution_count": 42,
   "metadata": {},
   "outputs": [
    {
     "data": {
      "text/plain": [
       "0"
      ]
     },
     "execution_count": 42,
     "metadata": {},
     "output_type": "execute_result"
    }
   ],
   "source": [
    "a.argmin()"
   ]
  },
  {
   "cell_type": "markdown",
   "metadata": {},
   "source": [
    "## Numpy:Indexing / Slicing"
   ]
  },
  {
   "cell_type": "code",
   "execution_count": 43,
   "metadata": {},
   "outputs": [
    {
     "data": {
      "text/plain": [
       "array([  0,   1,   4,   9,  16,  25,  36,  49,  64,  81, 100, 121, 144])"
      ]
     },
     "execution_count": 43,
     "metadata": {},
     "output_type": "execute_result"
    }
   ],
   "source": [
    "s = np.arange(13)**2\n",
    "s"
   ]
  },
  {
   "cell_type": "code",
   "execution_count": 44,
   "metadata": {},
   "outputs": [
    {
     "data": {
      "text/plain": [
       "(0, 16, 144)"
      ]
     },
     "execution_count": 44,
     "metadata": {},
     "output_type": "execute_result"
    }
   ],
   "source": [
    "s[0], s[4], s[-1]"
   ]
  },
  {
   "cell_type": "code",
   "execution_count": 45,
   "metadata": {},
   "outputs": [
    {
     "data": {
      "text/plain": [
       "array([ 1,  4,  9, 16])"
      ]
     },
     "execution_count": 45,
     "metadata": {},
     "output_type": "execute_result"
    }
   ],
   "source": [
    "s[1:5]"
   ]
  },
  {
   "cell_type": "code",
   "execution_count": 46,
   "metadata": {},
   "outputs": [
    {
     "data": {
      "text/plain": [
       "array([ 81, 100, 121, 144])"
      ]
     },
     "execution_count": 46,
     "metadata": {},
     "output_type": "execute_result"
    }
   ],
   "source": [
    "s[-4:]"
   ]
  },
  {
   "cell_type": "code",
   "execution_count": 47,
   "metadata": {},
   "outputs": [
    {
     "data": {
      "text/plain": [
       "array([64, 36, 16,  4,  0])"
      ]
     },
     "execution_count": 47,
     "metadata": {},
     "output_type": "execute_result"
    }
   ],
   "source": [
    "s[-5::-2]"
   ]
  },
  {
   "cell_type": "code",
   "execution_count": 48,
   "metadata": {},
   "outputs": [
    {
     "data": {
      "text/plain": [
       "array([ 64, 100, 144])"
      ]
     },
     "execution_count": 48,
     "metadata": {},
     "output_type": "execute_result"
    }
   ],
   "source": [
    "s[-5::2]"
   ]
  },
  {
   "cell_type": "code",
   "execution_count": 49,
   "metadata": {},
   "outputs": [
    {
     "data": {
      "text/plain": [
       "array([[ 0,  1,  2,  3,  4,  5],\n",
       "       [ 6,  7,  8,  9, 10, 11],\n",
       "       [12, 13, 14, 15, 16, 17],\n",
       "       [18, 19, 20, 21, 22, 23],\n",
       "       [24, 25, 26, 27, 28, 29],\n",
       "       [30, 31, 32, 33, 34, 35]])"
      ]
     },
     "execution_count": 49,
     "metadata": {},
     "output_type": "execute_result"
    }
   ],
   "source": [
    "r = np.arange(36)\n",
    "r.resize((6, 6))\n",
    "r"
   ]
  },
  {
   "cell_type": "code",
   "execution_count": 50,
   "metadata": {},
   "outputs": [
    {
     "data": {
      "text/plain": [
       "14"
      ]
     },
     "execution_count": 50,
     "metadata": {},
     "output_type": "execute_result"
    }
   ],
   "source": [
    "r[2, 2]"
   ]
  },
  {
   "cell_type": "code",
   "execution_count": 51,
   "metadata": {},
   "outputs": [
    {
     "data": {
      "text/plain": [
       "array([21, 22, 23])"
      ]
     },
     "execution_count": 51,
     "metadata": {},
     "output_type": "execute_result"
    }
   ],
   "source": [
    "r[3, 3:6]"
   ]
  },
  {
   "cell_type": "code",
   "execution_count": 52,
   "metadata": {},
   "outputs": [
    {
     "data": {
      "text/plain": [
       "array([[ 0,  1,  2,  3,  4],\n",
       "       [ 6,  7,  8,  9, 10]])"
      ]
     },
     "execution_count": 52,
     "metadata": {},
     "output_type": "execute_result"
    }
   ],
   "source": [
    "r[:2, :-1]"
   ]
  },
  {
   "cell_type": "code",
   "execution_count": 53,
   "metadata": {},
   "outputs": [
    {
     "data": {
      "text/plain": [
       "array([30, 32, 34])"
      ]
     },
     "execution_count": 53,
     "metadata": {},
     "output_type": "execute_result"
    }
   ],
   "source": [
    "r[-1, ::2]"
   ]
  },
  {
   "cell_type": "code",
   "execution_count": 54,
   "metadata": {},
   "outputs": [
    {
     "data": {
      "text/plain": [
       "array([[ 0,  4],\n",
       "       [ 6, 10],\n",
       "       [12, 16],\n",
       "       [18, 22],\n",
       "       [24, 28],\n",
       "       [30, 34]])"
      ]
     },
     "execution_count": 54,
     "metadata": {},
     "output_type": "execute_result"
    }
   ],
   "source": [
    "r[:, ::4]"
   ]
  },
  {
   "cell_type": "code",
   "execution_count": 55,
   "metadata": {},
   "outputs": [
    {
     "data": {
      "text/plain": [
       "array([31, 32, 33, 34, 35])"
      ]
     },
     "execution_count": 55,
     "metadata": {},
     "output_type": "execute_result"
    }
   ],
   "source": [
    "r[r > 30]"
   ]
  },
  {
   "cell_type": "code",
   "execution_count": 56,
   "metadata": {},
   "outputs": [
    {
     "data": {
      "text/plain": [
       "array([ 0,  2,  4,  6,  8, 10, 12, 14, 16, 18, 20, 22, 24, 26, 28, 30, 32,\n",
       "       34])"
      ]
     },
     "execution_count": 56,
     "metadata": {},
     "output_type": "execute_result"
    }
   ],
   "source": [
    "r[r % 2 == 0]"
   ]
  },
  {
   "cell_type": "code",
   "execution_count": 57,
   "metadata": {},
   "outputs": [
    {
     "data": {
      "text/plain": [
       "array([[ 0,  1,  2,  3,  4,  5],\n",
       "       [ 6,  7,  8,  9, 10, 11],\n",
       "       [12, 13, 14, 15, 16, 17],\n",
       "       [18, 19, 20, 21, 22, 23],\n",
       "       [24, 25, 26, 27, 28, 29],\n",
       "       [30, 30, 30, 30, 30, 30]])"
      ]
     },
     "execution_count": 57,
     "metadata": {},
     "output_type": "execute_result"
    }
   ],
   "source": [
    "r[r > 30] = 30\n",
    "r"
   ]
  },
  {
   "cell_type": "code",
   "execution_count": 58,
   "metadata": {},
   "outputs": [
    {
     "data": {
      "text/plain": [
       "array([[ 0,  0,  2,  0,  4,  0],\n",
       "       [ 6,  0,  8,  0, 10,  0],\n",
       "       [12,  0, 14,  0, 16,  0],\n",
       "       [18,  0, 20,  0, 22,  0],\n",
       "       [24,  0, 26,  0, 28,  0],\n",
       "       [30, 30, 30, 30, 30, 30]])"
      ]
     },
     "execution_count": 58,
     "metadata": {},
     "output_type": "execute_result"
    }
   ],
   "source": [
    "r[r % 2 != 0] = 0\n",
    "r"
   ]
  },
  {
   "cell_type": "markdown",
   "metadata": {},
   "source": [
    "##  Numpy :Copying Data¶"
   ]
  },
  {
   "cell_type": "code",
   "execution_count": 59,
   "metadata": {},
   "outputs": [
    {
     "data": {
      "text/plain": [
       "array([[ 0,  0,  2],\n",
       "       [ 6,  0,  8],\n",
       "       [12,  0, 14]])"
      ]
     },
     "execution_count": 59,
     "metadata": {},
     "output_type": "execute_result"
    }
   ],
   "source": [
    "r2 = r[:3,:3]\n",
    "r2"
   ]
  },
  {
   "cell_type": "code",
   "execution_count": 60,
   "metadata": {},
   "outputs": [
    {
     "data": {
      "text/plain": [
       "array([[0, 0, 0],\n",
       "       [0, 0, 0],\n",
       "       [0, 0, 0]])"
      ]
     },
     "execution_count": 60,
     "metadata": {},
     "output_type": "execute_result"
    }
   ],
   "source": [
    "r2[:] = 0\n",
    "r2"
   ]
  },
  {
   "cell_type": "code",
   "execution_count": 61,
   "metadata": {},
   "outputs": [
    {
     "data": {
      "text/plain": [
       "array([[ 0,  0,  0,  0,  4,  0],\n",
       "       [ 0,  0,  0,  0, 10,  0],\n",
       "       [ 0,  0,  0,  0, 16,  0],\n",
       "       [18,  0, 20,  0, 22,  0],\n",
       "       [24,  0, 26,  0, 28,  0],\n",
       "       [30, 30, 30, 30, 30, 30]])"
      ]
     },
     "execution_count": 61,
     "metadata": {},
     "output_type": "execute_result"
    }
   ],
   "source": [
    "r          #r` has also been changed!"
   ]
  },
  {
   "cell_type": "code",
   "execution_count": 62,
   "metadata": {},
   "outputs": [
    {
     "data": {
      "text/plain": [
       "array([[ 0,  0,  0,  0,  4,  0],\n",
       "       [ 0,  0,  0,  0, 10,  0],\n",
       "       [ 0,  0,  0,  0, 16,  0],\n",
       "       [18,  0, 20,  0, 22,  0],\n",
       "       [24,  0, 26,  0, 28,  0],\n",
       "       [30, 30, 30, 30, 30, 30]])"
      ]
     },
     "execution_count": 62,
     "metadata": {},
     "output_type": "execute_result"
    }
   ],
   "source": [
    "r_copy = r.copy()\n",
    "r_copy"
   ]
  },
  {
   "cell_type": "code",
   "execution_count": 63,
   "metadata": {},
   "outputs": [
    {
     "data": {
      "text/plain": [
       "array([[ 0,  0,  0,  0,  4,  0],\n",
       "       [ 0,  0,  0,  0, 10,  0],\n",
       "       [ 0,  0,  0,  0, 16,  0],\n",
       "       [18,  0, 20,  0, 22,  0],\n",
       "       [24,  0, 26,  0, 28,  0],\n",
       "       [30, 30, 30, 30, 30, 30]])"
      ]
     },
     "execution_count": 63,
     "metadata": {},
     "output_type": "execute_result"
    }
   ],
   "source": [
    "r_copy = r[:]\n",
    "r_copy"
   ]
  },
  {
   "cell_type": "code",
   "execution_count": 64,
   "metadata": {},
   "outputs": [
    {
     "name": "stdout",
     "output_type": "stream",
     "text": [
      "[[10 10 10 10 10 10]\n",
      " [10 10 10 10 10 10]\n",
      " [10 10 10 10 10 10]\n",
      " [10 10 10 10 10 10]\n",
      " [10 10 10 10 10 10]\n",
      " [10 10 10 10 10 10]] \n",
      "\n",
      "[[10 10 10 10 10 10]\n",
      " [10 10 10 10 10 10]\n",
      " [10 10 10 10 10 10]\n",
      " [10 10 10 10 10 10]\n",
      " [10 10 10 10 10 10]\n",
      " [10 10 10 10 10 10]]\n"
     ]
    }
   ],
   "source": [
    "r_copy[:] = 10\n",
    "print(r_copy, '\\n')\n",
    "print(r)"
   ]
  },
  {
   "cell_type": "markdown",
   "metadata": {},
   "source": [
    "# Numpy: Iterating Over Arrays¶"
   ]
  },
  {
   "cell_type": "code",
   "execution_count": 65,
   "metadata": {},
   "outputs": [
    {
     "data": {
      "text/plain": [
       "array([[4, 0, 3],\n",
       "       [6, 7, 2],\n",
       "       [2, 8, 4],\n",
       "       [9, 3, 5]])"
      ]
     },
     "execution_count": 65,
     "metadata": {},
     "output_type": "execute_result"
    }
   ],
   "source": [
    "test = np.random.randint(0,10,(4,3))\n",
    "test"
   ]
  },
  {
   "cell_type": "code",
   "execution_count": 66,
   "metadata": {},
   "outputs": [
    {
     "name": "stdout",
     "output_type": "stream",
     "text": [
      "[4 0 3]\n",
      "[6 7 2]\n",
      "[2 8 4]\n",
      "[9 3 5]\n"
     ]
    }
   ],
   "source": [
    "for row in test:\n",
    "    print(row)"
   ]
  },
  {
   "cell_type": "code",
   "execution_count": 67,
   "metadata": {},
   "outputs": [
    {
     "name": "stdout",
     "output_type": "stream",
     "text": [
      "[4 0 3]\n",
      "[6 7 2]\n",
      "[2 8 4]\n",
      "[9 3 5]\n"
     ]
    }
   ],
   "source": [
    "for i in range(len(test)):\n",
    "    print(test[i])"
   ]
  },
  {
   "cell_type": "code",
   "execution_count": 68,
   "metadata": {},
   "outputs": [
    {
     "name": "stdout",
     "output_type": "stream",
     "text": [
      "row 0 is [4 0 3]\n",
      "row 1 is [6 7 2]\n",
      "row 2 is [2 8 4]\n",
      "row 3 is [9 3 5]\n"
     ]
    }
   ],
   "source": [
    "for i, row in enumerate(test):      #Iterate by row and index:\n",
    "    print('row', i, 'is', row)"
   ]
  },
  {
   "cell_type": "code",
   "execution_count": 69,
   "metadata": {},
   "outputs": [
    {
     "data": {
      "text/plain": [
       "array([[16,  0,  9],\n",
       "       [36, 49,  4],\n",
       "       [ 4, 64, 16],\n",
       "       [81,  9, 25]])"
      ]
     },
     "execution_count": 69,
     "metadata": {},
     "output_type": "execute_result"
    }
   ],
   "source": [
    "test2 = test**2\n",
    "test2"
   ]
  },
  {
   "cell_type": "code",
   "execution_count": 70,
   "metadata": {},
   "outputs": [
    {
     "name": "stdout",
     "output_type": "stream",
     "text": [
      "[4 0 3] + [16  0  9] = [20  0 12]\n",
      "[6 7 2] + [36 49  4] = [42 56  6]\n",
      "[2 8 4] + [ 4 64 16] = [ 6 72 20]\n",
      "[9 3 5] + [81  9 25] = [90 12 30]\n"
     ]
    }
   ],
   "source": [
    "for i, j in zip(test, test2):   # Use `zip` to iterate over multiple iterables.\n",
    "    print(i,'+',j,'=',i+j)"
   ]
  },
  {
   "cell_type": "markdown",
   "metadata": {},
   "source": [
    "## Numpy: The Series Data Structure¶"
   ]
  },
  {
   "cell_type": "code",
   "execution_count": 71,
   "metadata": {},
   "outputs": [
    {
     "data": {
      "text/plain": [
       "0    Tiger\n",
       "1     Bear\n",
       "2    Moose\n",
       "dtype: object"
      ]
     },
     "execution_count": 71,
     "metadata": {},
     "output_type": "execute_result"
    }
   ],
   "source": [
    "animals = ['Tiger', 'Bear', 'Moose']\n",
    "pd.Series(animals)"
   ]
  },
  {
   "cell_type": "code",
   "execution_count": 72,
   "metadata": {},
   "outputs": [
    {
     "data": {
      "text/plain": [
       "0    1\n",
       "1    2\n",
       "2    3\n",
       "dtype: int64"
      ]
     },
     "execution_count": 72,
     "metadata": {},
     "output_type": "execute_result"
    }
   ],
   "source": [
    "numbers = [1, 2, 3]\n",
    "pd.Series(numbers)"
   ]
  },
  {
   "cell_type": "code",
   "execution_count": 73,
   "metadata": {},
   "outputs": [
    {
     "data": {
      "text/plain": [
       "0    1.0\n",
       "1    2.0\n",
       "2    NaN\n",
       "dtype: float64"
      ]
     },
     "execution_count": 73,
     "metadata": {},
     "output_type": "execute_result"
    }
   ],
   "source": [
    "numbers = [1, 2, None]\n",
    "pd.Series(numbers)"
   ]
  },
  {
   "cell_type": "code",
   "execution_count": 74,
   "metadata": {},
   "outputs": [
    {
     "data": {
      "text/plain": [
       "False"
      ]
     },
     "execution_count": 74,
     "metadata": {},
     "output_type": "execute_result"
    }
   ],
   "source": [
    "np.nan == None"
   ]
  },
  {
   "cell_type": "code",
   "execution_count": 75,
   "metadata": {},
   "outputs": [
    {
     "data": {
      "text/plain": [
       "True"
      ]
     },
     "execution_count": 75,
     "metadata": {},
     "output_type": "execute_result"
    }
   ],
   "source": [
    "np.isnan(np.nan)"
   ]
  },
  {
   "cell_type": "code",
   "execution_count": 76,
   "metadata": {},
   "outputs": [
    {
     "data": {
      "text/plain": [
       "Archery           Bhutan\n",
       "Golf            Scotland\n",
       "Sumo               Japan\n",
       "Taekwondo    South Korea\n",
       "dtype: object"
      ]
     },
     "execution_count": 76,
     "metadata": {},
     "output_type": "execute_result"
    }
   ],
   "source": [
    "sports = {'Archery': 'Bhutan',\n",
    "          'Golf': 'Scotland',\n",
    "          'Sumo': 'Japan',\n",
    "          'Taekwondo': 'South Korea'}\n",
    "s = pd.Series(sports)\n",
    "s"
   ]
  },
  {
   "cell_type": "code",
   "execution_count": 77,
   "metadata": {},
   "outputs": [
    {
     "data": {
      "text/plain": [
       "Index(['Archery', 'Golf', 'Sumo', 'Taekwondo'], dtype='object')"
      ]
     },
     "execution_count": 77,
     "metadata": {},
     "output_type": "execute_result"
    }
   ],
   "source": [
    "s.index"
   ]
  },
  {
   "cell_type": "code",
   "execution_count": 78,
   "metadata": {},
   "outputs": [
    {
     "data": {
      "text/plain": [
       "India      Tiger\n",
       "America     Bear\n",
       "Canada     Moose\n",
       "dtype: object"
      ]
     },
     "execution_count": 78,
     "metadata": {},
     "output_type": "execute_result"
    }
   ],
   "source": [
    "s = pd.Series(['Tiger', 'Bear', 'Moose'], index=['India', 'America', 'Canada'])\n",
    "s"
   ]
  },
  {
   "cell_type": "code",
   "execution_count": 79,
   "metadata": {},
   "outputs": [
    {
     "data": {
      "text/plain": [
       "Golf      Scotland\n",
       "Sumo         Japan\n",
       "Hockey         NaN\n",
       "dtype: object"
      ]
     },
     "execution_count": 79,
     "metadata": {},
     "output_type": "execute_result"
    }
   ],
   "source": [
    "sports = {'Archery': 'Bhutan',\n",
    "          'Golf': 'Scotland',\n",
    "          'Sumo': 'Japan',\n",
    "          'Taekwondo': 'South Korea'}\n",
    "s = pd.Series(sports, index=['Golf', 'Sumo', 'Hockey'])\n",
    "s"
   ]
  },
  {
   "cell_type": "markdown",
   "metadata": {},
   "source": [
    "#  Numpy: Querying a Series"
   ]
  },
  {
   "cell_type": "code",
   "execution_count": 80,
   "metadata": {},
   "outputs": [
    {
     "data": {
      "text/plain": [
       "Archery           Bhutan\n",
       "Golf            Scotland\n",
       "Sumo               Japan\n",
       "Taekwondo    South Korea\n",
       "dtype: object"
      ]
     },
     "execution_count": 80,
     "metadata": {},
     "output_type": "execute_result"
    }
   ],
   "source": [
    "sports = {'Archery': 'Bhutan',\n",
    "          'Golf': 'Scotland',\n",
    "          'Sumo': 'Japan',\n",
    "          'Taekwondo': 'South Korea'}\n",
    "s = pd.Series(sports)\n",
    "s"
   ]
  },
  {
   "cell_type": "code",
   "execution_count": 81,
   "metadata": {},
   "outputs": [
    {
     "data": {
      "text/plain": [
       "'South Korea'"
      ]
     },
     "execution_count": 81,
     "metadata": {},
     "output_type": "execute_result"
    }
   ],
   "source": [
    "s.iloc[3]"
   ]
  },
  {
   "cell_type": "code",
   "execution_count": 82,
   "metadata": {},
   "outputs": [
    {
     "data": {
      "text/plain": [
       "'South Korea'"
      ]
     },
     "execution_count": 82,
     "metadata": {},
     "output_type": "execute_result"
    }
   ],
   "source": [
    "s.loc['Taekwondo']"
   ]
  },
  {
   "cell_type": "code",
   "execution_count": 83,
   "metadata": {},
   "outputs": [
    {
     "data": {
      "text/plain": [
       "'South Korea'"
      ]
     },
     "execution_count": 83,
     "metadata": {},
     "output_type": "execute_result"
    }
   ],
   "source": [
    "s[3]"
   ]
  },
  {
   "cell_type": "code",
   "execution_count": 84,
   "metadata": {},
   "outputs": [
    {
     "data": {
      "text/plain": [
       "'South Korea'"
      ]
     },
     "execution_count": 84,
     "metadata": {},
     "output_type": "execute_result"
    }
   ],
   "source": [
    "s['Taekwondo']"
   ]
  },
  {
   "cell_type": "code",
   "execution_count": 85,
   "metadata": {},
   "outputs": [
    {
     "data": {
      "text/plain": [
       "99          Bhutan\n",
       "100       Scotland\n",
       "101          Japan\n",
       "102    South Korea\n",
       "dtype: object"
      ]
     },
     "execution_count": 85,
     "metadata": {},
     "output_type": "execute_result"
    }
   ],
   "source": [
    "sports = {99: 'Bhutan',\n",
    "          100: 'Scotland',\n",
    "          101: 'Japan',\n",
    "          102: 'South Korea'}\n",
    "s = pd.Series(sports)\n",
    "s"
   ]
  },
  {
   "cell_type": "code",
   "execution_count": 86,
   "metadata": {},
   "outputs": [
    {
     "data": {
      "text/plain": [
       "'Japan'"
      ]
     },
     "execution_count": 86,
     "metadata": {},
     "output_type": "execute_result"
    }
   ],
   "source": [
    "s.iloc[2]                   # Q why is s[2] not locking"
   ]
  },
  {
   "cell_type": "code",
   "execution_count": 87,
   "metadata": {},
   "outputs": [
    {
     "data": {
      "text/plain": [
       "'Scotland'"
      ]
     },
     "execution_count": 87,
     "metadata": {},
     "output_type": "execute_result"
    }
   ],
   "source": [
    "s.loc[100]"
   ]
  },
  {
   "cell_type": "code",
   "execution_count": 88,
   "metadata": {},
   "outputs": [
    {
     "data": {
      "text/plain": [
       "'Scotland'"
      ]
     },
     "execution_count": 88,
     "metadata": {},
     "output_type": "execute_result"
    }
   ],
   "source": [
    "s[100]"
   ]
  },
  {
   "cell_type": "code",
   "execution_count": 89,
   "metadata": {},
   "outputs": [
    {
     "data": {
      "text/plain": [
       "0    100.0\n",
       "1    120.0\n",
       "2    101.0\n",
       "3      3.0\n",
       "dtype: float64"
      ]
     },
     "execution_count": 89,
     "metadata": {},
     "output_type": "execute_result"
    }
   ],
   "source": [
    "s = pd.Series([100.00, 120.00, 101.00, 3.00])\n",
    "s"
   ]
  },
  {
   "cell_type": "code",
   "execution_count": 90,
   "metadata": {},
   "outputs": [
    {
     "name": "stdout",
     "output_type": "stream",
     "text": [
      "324.0\n"
     ]
    }
   ],
   "source": [
    "total = 0\n",
    "for item in s:\n",
    "    total += item\n",
    "print(total)    "
   ]
  },
  {
   "cell_type": "code",
   "execution_count": 91,
   "metadata": {},
   "outputs": [
    {
     "name": "stdout",
     "output_type": "stream",
     "text": [
      "324.0\n"
     ]
    }
   ],
   "source": [
    "total = np.sum(s)\n",
    "print(total)"
   ]
  },
  {
   "cell_type": "code",
   "execution_count": 92,
   "metadata": {},
   "outputs": [],
   "source": [
    "m=np.random.randint(0,1000,10000)"
   ]
  },
  {
   "cell_type": "code",
   "execution_count": 93,
   "metadata": {},
   "outputs": [
    {
     "data": {
      "text/plain": [
       "0    925\n",
       "1    129\n",
       "2     10\n",
       "3    366\n",
       "4    707\n",
       "dtype: int64"
      ]
     },
     "execution_count": 93,
     "metadata": {},
     "output_type": "execute_result"
    }
   ],
   "source": [
    "s=pd.Series(np.random.randint(0,1000,10000))\n",
    "s.head()"
   ]
  },
  {
   "cell_type": "code",
   "execution_count": 94,
   "metadata": {},
   "outputs": [
    {
     "data": {
      "text/plain": [
       "10000"
      ]
     },
     "execution_count": 94,
     "metadata": {},
     "output_type": "execute_result"
    }
   ],
   "source": [
    "len(s)"
   ]
  },
  {
   "cell_type": "code",
   "execution_count": 95,
   "metadata": {},
   "outputs": [
    {
     "name": "stdout",
     "output_type": "stream",
     "text": [
      "1.17 ms ± 25.5 µs per loop (mean ± std. dev. of 7 runs, 100 loops each)\n"
     ]
    }
   ],
   "source": [
    "%%timeit -n 100\n",
    "summary = 0\n",
    "for item in s:\n",
    "    summary+=item"
   ]
  },
  {
   "cell_type": "code",
   "execution_count": 96,
   "metadata": {},
   "outputs": [
    {
     "name": "stdout",
     "output_type": "stream",
     "text": [
      "227 µs ± 58.3 µs per loop (mean ± std. dev. of 7 runs, 100 loops each)\n"
     ]
    }
   ],
   "source": [
    "%%timeit -n 100\n",
    "summary = np.sum(s)"
   ]
  },
  {
   "cell_type": "code",
   "execution_count": 97,
   "metadata": {},
   "outputs": [
    {
     "data": {
      "text/plain": [
       "0    927\n",
       "1    131\n",
       "2     12\n",
       "3    368\n",
       "4    709\n",
       "dtype: int64"
      ]
     },
     "execution_count": 97,
     "metadata": {},
     "output_type": "execute_result"
    }
   ],
   "source": [
    "s += 2\n",
    "s.head()"
   ]
  },
  {
   "cell_type": "code",
   "execution_count": 98,
   "metadata": {},
   "outputs": [
    {
     "name": "stderr",
     "output_type": "stream",
     "text": [
      "/home/kadas/anaconda3/lib/python3.7/site-packages/ipykernel_launcher.py:2: FutureWarning: set_value is deprecated and will be removed in a future release. Please use .at[] or .iat[] accessors instead\n",
      "  \n"
     ]
    },
    {
     "data": {
      "text/plain": [
       "0    929\n",
       "1    133\n",
       "2     14\n",
       "3    370\n",
       "4    711\n",
       "dtype: int64"
      ]
     },
     "execution_count": 98,
     "metadata": {},
     "output_type": "execute_result"
    }
   ],
   "source": [
    "for label, value in s.iteritems():\n",
    "    s.set_value(label, value+2)\n",
    "s.head()"
   ]
  },
  {
   "cell_type": "code",
   "execution_count": 99,
   "metadata": {},
   "outputs": [
    {
     "name": "stdout",
     "output_type": "stream",
     "text": [
      "16.1 ms ± 1.47 ms per loop (mean ± std. dev. of 7 runs, 10 loops each)\n"
     ]
    }
   ],
   "source": [
    "%%timeit -n 10\n",
    "s = pd.Series(np.random.randint(0,1000,100))\n",
    "for label, value in s.iteritems():\n",
    "    s.loc[label]= value+2"
   ]
  },
  {
   "cell_type": "code",
   "execution_count": 100,
   "metadata": {},
   "outputs": [
    {
     "name": "stdout",
     "output_type": "stream",
     "text": [
      "336 µs ± 65.4 µs per loop (mean ± std. dev. of 7 runs, 10 loops each)\n"
     ]
    }
   ],
   "source": [
    "%%timeit -n 10\n",
    "s = pd.Series(np.random.randint(0,1000,100))\n",
    "s+=2"
   ]
  },
  {
   "cell_type": "code",
   "execution_count": 101,
   "metadata": {},
   "outputs": [
    {
     "name": "stdout",
     "output_type": "stream",
     "text": [
      "1.26 ms ± 15.3 µs per loop (mean ± std. dev. of 7 runs, 100 loops each)\n"
     ]
    }
   ],
   "source": [
    "%%timeit -n 100\n",
    "q = pd.Series(np.random.randint(0,1000,10000))\n",
    "total = 0\n",
    "for item in q:\n",
    "    total += item \n"
   ]
  },
  {
   "cell_type": "code",
   "execution_count": 102,
   "metadata": {},
   "outputs": [
    {
     "data": {
      "text/plain": [
       "0              1\n",
       "1              2\n",
       "2              3\n",
       "Animals    bears\n",
       "dtype: object"
      ]
     },
     "execution_count": 102,
     "metadata": {},
     "output_type": "execute_result"
    }
   ],
   "source": [
    "s = pd.Series([1, 2, 3])\n",
    "s.loc['Animals'] = 'bears'\n",
    "s"
   ]
  },
  {
   "cell_type": "code",
   "execution_count": 103,
   "metadata": {},
   "outputs": [],
   "source": [
    "original_sports = pd.Series({'Archery': 'Bhutan',\n",
    "                   'Golf': 'Scotland',\n",
    "                   'Sumo': 'Japan',\n",
    "                   'Taekwondo': 'South Korea'})\n",
    "cricket_loving_countries = pd.Series(['Australia',\n",
    "                                      'Barbados',\n",
    "                                      'Pakistan',\n",
    "                                      'England'],\n",
    "                                   index=['Cricket',\n",
    "                                          'Cricket',\n",
    "                                          'Cricket',\n",
    "                                          'Cricket'])\n",
    "all_countries = original_sports.append(cricket_loving_countries)\n"
   ]
  },
  {
   "cell_type": "code",
   "execution_count": 104,
   "metadata": {},
   "outputs": [
    {
     "data": {
      "text/plain": [
       "Archery           Bhutan\n",
       "Golf            Scotland\n",
       "Sumo               Japan\n",
       "Taekwondo    South Korea\n",
       "dtype: object"
      ]
     },
     "execution_count": 104,
     "metadata": {},
     "output_type": "execute_result"
    }
   ],
   "source": [
    "original_sports"
   ]
  },
  {
   "cell_type": "code",
   "execution_count": 105,
   "metadata": {},
   "outputs": [
    {
     "data": {
      "text/plain": [
       "Cricket    Australia\n",
       "Cricket     Barbados\n",
       "Cricket     Pakistan\n",
       "Cricket      England\n",
       "dtype: object"
      ]
     },
     "execution_count": 105,
     "metadata": {},
     "output_type": "execute_result"
    }
   ],
   "source": [
    "cricket_loving_countries"
   ]
  },
  {
   "cell_type": "code",
   "execution_count": 106,
   "metadata": {},
   "outputs": [
    {
     "data": {
      "text/plain": [
       "Archery           Bhutan\n",
       "Golf            Scotland\n",
       "Sumo               Japan\n",
       "Taekwondo    South Korea\n",
       "Cricket        Australia\n",
       "Cricket         Barbados\n",
       "Cricket         Pakistan\n",
       "Cricket          England\n",
       "dtype: object"
      ]
     },
     "execution_count": 106,
     "metadata": {},
     "output_type": "execute_result"
    }
   ],
   "source": [
    "all_countries"
   ]
  },
  {
   "cell_type": "code",
   "execution_count": 107,
   "metadata": {},
   "outputs": [
    {
     "data": {
      "text/plain": [
       "Cricket    Australia\n",
       "Cricket     Barbados\n",
       "Cricket     Pakistan\n",
       "Cricket      England\n",
       "dtype: object"
      ]
     },
     "execution_count": 107,
     "metadata": {},
     "output_type": "execute_result"
    }
   ],
   "source": [
    "all_countries.loc['Cricket']"
   ]
  },
  {
   "cell_type": "code",
   "execution_count": 108,
   "metadata": {},
   "outputs": [
    {
     "data": {
      "text/plain": [
       "Cricket    Australia\n",
       "Cricket     Barbados\n",
       "Cricket     Pakistan\n",
       "Cricket      England\n",
       "dtype: object"
      ]
     },
     "execution_count": 108,
     "metadata": {},
     "output_type": "execute_result"
    }
   ],
   "source": [
    "all_countries['Cricket']"
   ]
  },
  {
   "cell_type": "markdown",
   "metadata": {},
   "source": [
    "# Numphy Distributions"
   ]
  },
  {
   "cell_type": "code",
   "execution_count": 109,
   "metadata": {},
   "outputs": [
    {
     "data": {
      "text/plain": [
       "3"
      ]
     },
     "execution_count": 109,
     "metadata": {},
     "output_type": "execute_result"
    }
   ],
   "source": [
    "np.random.binomial(10,0.5)"
   ]
  },
  {
   "cell_type": "code",
   "execution_count": 133,
   "metadata": {},
   "outputs": [
    {
     "data": {
      "text/plain": [
       "1"
      ]
     },
     "execution_count": 133,
     "metadata": {},
     "output_type": "execute_result"
    }
   ],
   "source": [
    "np.random.binomial(1,0.5)"
   ]
  },
  {
   "cell_type": "code",
   "execution_count": 111,
   "metadata": {},
   "outputs": [
    {
     "data": {
      "text/plain": [
       "0.5"
      ]
     },
     "execution_count": 111,
     "metadata": {},
     "output_type": "execute_result"
    }
   ],
   "source": [
    "np.random.binomial(10,0.5)/10"
   ]
  },
  {
   "cell_type": "code",
   "execution_count": 112,
   "metadata": {},
   "outputs": [
    {
     "data": {
      "text/plain": [
       "0.497"
      ]
     },
     "execution_count": 112,
     "metadata": {},
     "output_type": "execute_result"
    }
   ],
   "source": [
    "np.random.binomial(1000, 0.5)/1000"
   ]
  },
  {
   "cell_type": "code",
   "execution_count": 113,
   "metadata": {},
   "outputs": [
    {
     "data": {
      "text/plain": [
       "18"
      ]
     },
     "execution_count": 113,
     "metadata": {},
     "output_type": "execute_result"
    }
   ],
   "source": [
    "chance_of_tornado = 0.01/100\n",
    "np.random.binomial(100000, chance_of_tornado)"
   ]
  },
  {
   "cell_type": "code",
   "execution_count": 114,
   "metadata": {},
   "outputs": [
    {
     "data": {
      "text/plain": [
       "array([0, 0, 0, ..., 0, 0, 0])"
      ]
     },
     "execution_count": 114,
     "metadata": {},
     "output_type": "execute_result"
    }
   ],
   "source": [
    "chance_of_tornado = 0.01\n",
    "\n",
    "tornado_events = np.random.binomial(1, chance_of_tornado, 1000000)\n",
    "tornado_events"
   ]
  },
  {
   "cell_type": "code",
   "execution_count": 137,
   "metadata": {},
   "outputs": [
    {
     "data": {
      "text/plain": [
       "1000000"
      ]
     },
     "execution_count": 137,
     "metadata": {},
     "output_type": "execute_result"
    }
   ],
   "source": [
    "len(tornado_events)"
   ]
  },
  {
   "cell_type": "code",
   "execution_count": 136,
   "metadata": {},
   "outputs": [
    {
     "data": {
      "text/plain": [
       "0"
      ]
     },
     "execution_count": 136,
     "metadata": {},
     "output_type": "execute_result"
    }
   ],
   "source": [
    "np.random.binomial(1,0.01)"
   ]
  },
  {
   "cell_type": "code",
   "execution_count": 116,
   "metadata": {},
   "outputs": [
    {
     "name": "stdout",
     "output_type": "stream",
     "text": [
      "94 tornadoes back to back in 2739.72602739726 years\n"
     ]
    }
   ],
   "source": [
    "chance_of_tornado = 0.01\n",
    "\n",
    "tornado_events = np.random.binomial(1, chance_of_tornado,1000000)\n",
    "\n",
    "two_days_in_a_row = 0\n",
    "for j in range(1, len(tornado_events)-1):\n",
    "    if tornado_events[j] == 1 and tornado_events[j-1] == 1:\n",
    "        two_days_in_a_row +=1\n",
    "print('{} tornadoes back to back in {} years'.format(two_days_in_a_row,1000000/365))"
   ]
  },
  {
   "cell_type": "code",
   "execution_count": 117,
   "metadata": {},
   "outputs": [
    {
     "data": {
      "text/plain": [
       "0.8084122022862981"
      ]
     },
     "execution_count": 117,
     "metadata": {},
     "output_type": "execute_result"
    }
   ],
   "source": [
    "np.random.uniform(0, 1)"
   ]
  },
  {
   "cell_type": "code",
   "execution_count": 118,
   "metadata": {},
   "outputs": [
    {
     "data": {
      "text/plain": [
       "2.069841592117453"
      ]
     },
     "execution_count": 118,
     "metadata": {},
     "output_type": "execute_result"
    }
   ],
   "source": [
    "np.random.normal(0.75)                 #what if we have both "
   ]
  },
  {
   "cell_type": "code",
   "execution_count": 139,
   "metadata": {},
   "outputs": [
    {
     "data": {
      "text/plain": [
       "array([ 1.64023056e+00,  1.66131286e+00,  1.10871044e+00,  4.46254069e-01,\n",
       "        3.19959799e+00,  5.51631259e-01,  6.02548683e-01,  1.70988130e+00,\n",
       "        2.96318992e-01,  5.40833826e-01,  7.58793325e-01, -1.10148167e+00,\n",
       "        2.37090154e-01,  2.69716705e-01,  2.54958563e-01,  1.21080230e+00,\n",
       "        1.71498428e-01,  1.46629972e+00,  1.44203376e-01,  5.45599351e-01,\n",
       "        2.52528543e+00,  8.03610379e-01, -3.69288499e-02,  1.31136206e-01,\n",
       "       -7.68476727e-02,  5.37309864e-01, -1.69536738e-01,  3.69007039e-01,\n",
       "        1.36129218e+00,  2.36174226e-01,  1.83012738e+00, -3.31312802e-01,\n",
       "        1.26505654e+00,  6.50065947e-01,  2.54868640e-02,  1.39226912e-01,\n",
       "        2.34245560e+00, -6.44659965e-01,  1.61513886e+00,  9.44434332e-01,\n",
       "        5.88532227e-01,  7.11293953e-01,  2.76024100e-01,  1.09962557e+00,\n",
       "        9.59690500e-01,  1.61191772e+00,  5.08110264e-01, -8.51498722e-01,\n",
       "        1.57019111e+00,  8.69098526e-01,  7.20650611e-03,  5.97930475e-01,\n",
       "        2.82860128e+00,  1.25230088e+00,  1.08539781e+00,  1.61963968e+00,\n",
       "        1.45392388e+00,  1.62317578e+00, -1.23825904e-01,  4.68766255e-01,\n",
       "       -2.74792202e-01,  8.27058698e-01, -6.85772458e-01, -6.09913432e-01,\n",
       "        1.34552820e+00,  1.54377891e+00,  1.92841517e+00,  2.13364977e-01,\n",
       "        1.22059652e+00, -9.15598912e-03,  1.43217413e+00,  1.06015545e+00,\n",
       "        1.42678234e-01,  5.37680390e-01,  2.33860962e+00,  5.19164356e-01,\n",
       "        2.80356493e-01,  7.70464226e-01,  7.46286672e-01,  9.08102463e-01,\n",
       "        1.06024644e+00, -2.00248748e+00,  9.37352020e-01,  9.30504814e-01,\n",
       "        1.85353180e+00,  6.69580552e-01,  9.98200801e-03,  1.33327825e-01,\n",
       "        9.50698363e-01, -6.25025406e-01, -5.98265488e-01,  1.33676155e+00,\n",
       "        1.14317449e+00, -8.37584031e-01,  1.90331712e+00,  5.24646018e-01,\n",
       "       -5.35254839e-01,  6.47482450e-01,  6.35422033e-01, -7.10222135e-02,\n",
       "        1.74932375e+00,  2.23263186e+00,  2.84949442e-01, -3.36587916e-01,\n",
       "       -1.91716774e-01, -1.63036049e-01, -1.07537302e+00,  8.85200682e-01,\n",
       "        1.28946925e+00,  1.06708480e+00,  9.97572306e-01,  6.72971694e-01,\n",
       "        3.27922021e-01,  2.73865079e-01,  6.75788601e-03,  4.11449461e-01,\n",
       "        4.55059388e-01,  5.12225176e-01, -1.45653365e+00,  2.01002022e+00,\n",
       "        1.92646092e+00,  5.23511560e-01,  4.36233501e-01, -1.48707906e-01,\n",
       "       -5.10354180e-01,  2.15065742e+00,  2.73665128e+00,  2.16526266e+00,\n",
       "        5.38951190e-01, -6.84348414e-01, -5.09963018e-02,  1.49664671e+00,\n",
       "        8.63705751e-01,  4.08281517e-01, -1.27171545e-01,  1.43810564e+00,\n",
       "        8.42574045e-02,  1.77864075e-01,  2.11213073e+00,  1.61863018e+00,\n",
       "        1.10514522e+00,  8.32198469e-01, -1.43547237e+00,  7.92587873e-01,\n",
       "        1.09811765e+00, -4.76351274e-01,  1.54517627e+00, -1.01254961e+00,\n",
       "        2.70993388e+00,  1.36837441e+00,  8.07312044e-01, -8.19368397e-01,\n",
       "        8.21450950e-01, -1.73564631e-01,  1.40192977e+00, -3.16526436e+00,\n",
       "        1.84428145e+00, -7.85135938e-02,  1.24857720e+00,  1.20590351e+00,\n",
       "        3.00938185e-01,  1.65826779e+00,  6.98700532e-01,  2.44989800e-01,\n",
       "       -1.53405469e-02,  1.60543282e-01, -9.14496145e-01,  2.87085733e+00,\n",
       "        1.20301809e+00,  9.22060684e-01, -7.88711788e-01,  7.09549721e-01,\n",
       "        3.33005862e-01,  6.51146345e-01, -9.98600274e-02, -4.35767955e-01,\n",
       "        1.01129157e+00, -1.16565884e+00, -5.59844773e-01, -4.28526444e-01,\n",
       "        5.28395820e-01,  1.26622075e+00,  3.12652317e-01,  1.29869433e+00,\n",
       "       -4.94120390e-01,  3.24718358e+00, -6.41247046e-02,  2.18646881e+00,\n",
       "       -3.31906913e-01,  1.03744829e+00,  1.40528852e+00,  4.86541433e-01,\n",
       "        7.54637132e-01,  7.63229632e-01,  1.91213258e+00,  1.54187546e+00,\n",
       "        8.50223625e-01,  1.96031358e+00,  6.52004993e-02,  8.50044050e-01,\n",
       "        1.77310678e+00, -9.61984080e-01,  1.89743991e+00,  9.90542285e-01,\n",
       "        9.46318070e-01,  1.32305556e+00,  3.40823716e-01,  1.70060632e+00,\n",
       "       -4.16702437e-02,  2.66046660e+00,  7.90925320e-01,  1.82300860e-01,\n",
       "        8.47509638e-01,  6.90630152e-01,  1.25083384e+00,  1.13322573e+00,\n",
       "       -4.69616255e-02,  1.16833365e+00,  1.27367348e-01, -1.33252719e+00,\n",
       "       -1.30089476e+00,  1.21991108e+00, -5.99867066e-01,  1.99343166e+00,\n",
       "        9.12664050e-01,  1.10306999e-01, -1.43778957e+00, -6.44997689e-01,\n",
       "       -1.18269070e+00,  1.68537660e+00,  2.15182514e+00,  2.49765477e-01,\n",
       "        1.02731882e+00, -5.77346803e-01,  7.20932493e-03,  7.59218195e-01,\n",
       "        2.18209625e+00,  7.45242557e-01,  1.27487843e+00,  8.88701144e-01,\n",
       "        2.21006796e+00, -1.37977875e-01,  2.26796863e+00, -6.06430395e-01,\n",
       "        1.06921684e+00,  1.60018055e+00,  1.60844728e+00, -2.88046081e-01,\n",
       "        1.28197540e+00,  1.35236458e+00, -5.27605108e-01,  5.82980278e-01,\n",
       "        1.97426251e+00,  5.91396883e-01,  6.27518498e-01,  1.37140161e+00,\n",
       "        1.21357788e+00,  2.17054361e+00,  7.99572941e-01, -4.23503159e-01,\n",
       "        8.54738163e-01,  1.36499787e+00,  4.67129013e-01,  1.74707076e+00,\n",
       "        9.69854021e-01, -8.79424392e-01,  1.65946556e+00,  1.41675362e+00,\n",
       "        8.47052270e-01,  4.15829574e-01,  7.47260842e-01,  5.22148162e-01,\n",
       "        4.52826804e-01,  1.17956598e+00,  4.55778251e-01,  2.08326991e+00,\n",
       "        1.55164177e+00,  1.80857878e-01,  1.38153560e+00, -4.03768813e-01,\n",
       "        1.46609413e+00,  2.16010679e+00, -5.36647383e-01,  1.36193965e+00,\n",
       "        4.02744777e-01,  2.49819678e+00, -1.01688638e+00,  2.15766731e+00,\n",
       "        1.08999426e+00,  5.64890231e-01, -1.70322560e+00, -9.54603297e-01,\n",
       "        4.73512952e-01,  5.48519285e-01,  3.64770056e-01, -1.27856566e+00,\n",
       "        1.77848525e+00,  3.15931823e-01,  1.02342966e+00,  1.98128188e+00,\n",
       "        7.56921415e-01,  2.78227311e+00,  1.55550583e+00,  4.36945846e+00,\n",
       "       -1.85511764e-01, -4.82577180e-01, -1.44292865e-01,  1.14990972e+00,\n",
       "        1.04745415e+00,  1.42653549e+00,  9.19885088e-01,  2.21178400e-01,\n",
       "       -5.11986511e-01,  1.90576503e+00, -1.79839379e-01,  1.68845675e-01,\n",
       "        8.01380327e-01,  1.69185479e+00, -1.30741508e-01, -4.71630428e-01,\n",
       "        8.64025042e-01, -6.12458272e-01,  1.88236922e+00,  2.17612205e+00,\n",
       "        1.35608907e+00, -1.47164417e-01,  4.22823694e-01, -8.31955241e-02,\n",
       "        2.25423542e+00,  1.42462898e+00, -1.47990208e+00,  2.18874547e+00,\n",
       "        1.76952078e+00,  1.36077427e+00,  1.35304451e+00,  1.05200624e+00,\n",
       "        1.28372940e-01,  1.81065843e+00,  1.60885550e+00,  5.49861052e-01,\n",
       "        1.81292720e+00, -2.76012484e-01,  1.40717277e+00,  2.03264515e+00,\n",
       "        1.66274160e+00,  1.08782629e+00,  8.18430659e-01,  1.48441113e+00,\n",
       "       -7.17150714e-01,  6.06230420e-01, -1.17540090e+00,  1.33534858e+00,\n",
       "       -9.76559589e-01, -5.57600494e-01,  1.85282342e+00,  1.09575023e+00,\n",
       "        7.56613220e-01,  3.07056707e-01, -4.45364410e-01,  9.08275693e-01,\n",
       "        6.57279622e-01,  2.83954743e+00,  6.05142733e-01,  3.34804832e-01,\n",
       "        5.58478992e-01,  8.49545473e-01,  1.25798633e-01,  7.25170818e-01,\n",
       "        1.58186104e+00,  1.26081089e+00,  6.76762137e-01,  6.95359878e-01,\n",
       "       -9.34248767e-01,  2.13815259e+00,  2.88326587e+00,  1.31179259e+00,\n",
       "       -5.91901059e-01, -5.52238722e-01, -5.91363707e-02,  7.26911052e-01,\n",
       "        7.97259132e-01,  1.41515220e+00,  1.27826901e+00, -4.70955313e-01,\n",
       "        2.22346341e+00,  2.74460311e+00, -8.87722703e-01,  1.21644075e+00,\n",
       "        1.97709991e+00,  1.71778632e+00,  1.76799223e+00,  2.42955112e-01,\n",
       "       -1.93659380e-01,  1.39654059e+00,  2.34409080e+00,  3.33834564e-01,\n",
       "        2.39259410e+00, -3.84064021e-01, -9.82394427e-01,  2.33005364e+00,\n",
       "        7.81419230e-01,  3.37296466e-01,  6.58703203e-01,  1.94634932e-01,\n",
       "        2.32652242e+00,  7.89260984e-01,  1.35797584e+00, -2.60345231e-02,\n",
       "        2.07334936e+00, -1.09532593e+00,  9.07493613e-01,  1.06579049e+00,\n",
       "        1.80680116e+00,  1.62989947e+00,  1.57328128e+00,  5.98996678e-01,\n",
       "        7.57774849e-01,  3.01643482e+00,  1.27802868e+00, -6.69462493e-01,\n",
       "        1.21813377e+00,  5.82114606e-01,  1.46775272e+00, -5.21632795e-01,\n",
       "        2.14865448e+00,  1.89706402e+00,  5.91165918e-01,  1.58534954e+00,\n",
       "        1.03077722e-01,  2.18415769e+00,  1.41736235e+00,  1.54183563e+00,\n",
       "       -5.91148738e-02,  2.45587892e+00,  2.05479184e+00, -4.73262925e-02,\n",
       "       -9.60033722e-02,  1.05269738e-01,  2.17052661e+00, -6.44926170e-01,\n",
       "        2.11160679e+00,  2.53847216e+00,  1.20152014e+00, -4.52376457e-01,\n",
       "        1.57980275e-01, -1.09797470e+00,  2.13146666e+00,  1.23972133e+00,\n",
       "        2.20428262e+00, -5.82082304e-01, -8.39527614e-01,  1.17493571e+00,\n",
       "       -5.99653875e-01,  1.67513868e+00,  1.61371591e+00, -1.17360311e+00,\n",
       "        2.20570001e-01,  6.28567160e-02,  1.04964243e+00,  1.88814614e+00,\n",
       "        9.05165674e-01,  1.39086743e+00,  1.10554493e+00,  7.51701276e-01,\n",
       "        7.94543664e-02,  4.60447456e-01,  2.73499221e+00, -1.46817567e+00,\n",
       "       -6.54643920e-01,  9.14685067e-01,  7.16641231e-01,  7.89429964e-01,\n",
       "       -2.81939908e-01, -2.08835182e-01,  1.48282292e+00, -4.35899332e-01,\n",
       "        2.75065391e+00,  6.79704673e-01, -4.24336942e-02,  3.26631345e-01,\n",
       "        1.24787620e+00,  1.62160868e+00,  5.31958872e-01,  8.18763766e-01,\n",
       "        8.74762968e-01,  1.80670529e-01, -4.03768369e-01,  3.11028102e+00,\n",
       "        2.12334983e-01,  2.17624755e+00,  1.22824882e+00, -7.97302447e-01,\n",
       "        2.76340830e+00,  2.34228009e-01,  2.44422671e+00,  1.17923833e+00,\n",
       "       -2.35560438e+00,  1.11490344e+00,  1.64281859e+00, -1.01906803e+00,\n",
       "        3.55646050e+00,  1.63410288e+00, -4.07058762e-01,  2.24884392e+00,\n",
       "        5.55976434e-01, -6.44714703e-01,  7.47046930e-01, -2.87187386e-01,\n",
       "        2.43661241e-01,  1.04280178e+00,  5.65816337e-01,  1.98858675e+00,\n",
       "        8.38692961e-01,  2.99567028e-01, -1.92526180e-02,  1.33443887e+00,\n",
       "        1.23642444e+00, -8.54895022e-01,  7.24591881e-01,  1.08929986e+00,\n",
       "        6.29805734e-01,  1.24008730e+00,  1.37282638e+00,  5.77098444e-01,\n",
       "        1.64792365e+00,  1.72205999e+00, -2.22795592e-01,  1.07269833e+00,\n",
       "        7.36882560e-01,  1.13469505e+00, -9.36321934e-01,  8.73041291e-01,\n",
       "        1.10740670e+00,  1.03413420e+00,  2.11738191e-01,  9.48124176e-01,\n",
       "        6.20199125e-01, -1.30196147e+00,  8.30695618e-01, -9.41538551e-01,\n",
       "        7.20885346e-01,  1.22903246e+00,  8.46847397e-01,  1.45320617e+00,\n",
       "        7.60119106e-01,  6.19376153e-01,  5.60178995e-01,  1.44317411e+00,\n",
       "        3.87988099e-01,  1.74051077e+00,  4.82938133e-02,  1.73850741e+00,\n",
       "       -1.14889678e+00,  1.37747891e+00,  8.55770436e-01, -4.12989401e-01,\n",
       "        1.96361933e+00,  3.51642220e-01,  2.16651885e+00,  1.64773211e-01,\n",
       "        4.56020868e-01,  2.89774614e+00,  1.09768805e+00, -7.01487506e-02,\n",
       "       -1.35846327e+00,  1.53494523e+00, -2.25483918e-01,  2.43313980e+00,\n",
       "        1.31489941e+00, -5.24314373e-01,  4.51919589e-02,  5.54537929e-02,\n",
       "        7.52841607e-01,  9.76423494e-01,  2.12356006e+00, -3.95382511e-01,\n",
       "        6.44027487e-01,  8.29760855e-01, -1.45351188e-01,  3.79747128e-01,\n",
       "       -3.81519669e-01,  1.50280241e+00,  2.58078557e-01,  9.56332195e-01,\n",
       "        3.88503724e+00, -1.43150065e-02, -5.60631724e-01,  6.08448414e-01,\n",
       "        1.36849398e-01,  8.40338372e-01,  6.78137466e-01,  1.38467655e+00,\n",
       "        2.24241064e+00,  1.71539651e-01,  1.49702338e+00,  3.83560703e-02,\n",
       "       -1.01940610e+00,  5.38456970e-01,  1.59918107e+00,  1.67552333e-02,\n",
       "        8.25132760e-01, -3.64939399e-02, -5.53979619e-01,  1.20800822e+00,\n",
       "        4.26588567e-01, -1.05282852e-01, -1.14254999e+00,  1.63255231e+00,\n",
       "        2.11714970e+00, -9.06898336e-01, -5.95499191e-01,  9.34888124e-01,\n",
       "        8.09124734e-01,  1.48535233e-02,  3.29130872e-02, -3.03927176e-01,\n",
       "        1.60274758e+00,  2.44092226e-01,  3.76120722e-01,  1.89798398e+00,\n",
       "        1.72510938e+00, -2.06435054e+00,  1.82012508e+00, -1.07810014e+00,\n",
       "        1.48021164e+00,  2.44160858e+00,  1.32665940e+00,  1.26005924e+00,\n",
       "       -2.65711928e-02,  4.43318118e-01,  8.37332012e-01, -7.65209510e-02,\n",
       "        1.86616197e+00,  1.09254577e+00,  1.08030215e+00,  4.03661659e-01,\n",
       "       -4.96163852e-01,  8.08660557e-01,  7.61723162e-01, -6.89181278e-01,\n",
       "        2.53327559e+00,  1.54052959e+00, -2.88718034e-01, -5.24943401e-01,\n",
       "        2.08369514e+00,  1.14098478e+00, -4.31444969e-01,  2.00376513e+00,\n",
       "       -2.36268187e-01,  3.50050861e-02,  3.03365640e-01,  4.09272297e-01,\n",
       "        2.62471466e-01,  2.71949332e+00,  1.75422051e+00,  8.82621359e-01,\n",
       "        7.48125441e-01,  4.28770611e-03,  8.16964483e-01, -6.65718380e-01,\n",
       "        1.20030754e+00,  9.89920536e-01,  1.13176443e+00, -1.51024302e-01,\n",
       "        1.68037180e+00, -5.61177739e-01, -5.84663778e-01,  5.64991783e-01,\n",
       "        7.97823012e-01,  2.54616487e+00,  1.03650305e+00,  2.21528373e+00,\n",
       "        4.13333574e-01,  1.57230620e+00,  1.58617200e+00, -1.45611173e+00,\n",
       "        1.68076707e+00,  3.98329560e-01,  1.96029448e+00,  2.21050273e+00,\n",
       "        8.80680130e-01, -1.16570277e+00,  2.15433803e+00, -7.97920488e-02,\n",
       "       -2.91114871e-01,  1.62765107e+00,  6.83421354e-01,  4.76064994e-01,\n",
       "       -4.26655182e-01,  5.59756753e-02, -1.86351786e-01,  1.33352442e+00,\n",
       "        3.87336398e-01,  1.46984377e+00,  1.14128609e+00, -6.96270157e-02,\n",
       "        7.47557463e-01, -2.37718768e-02,  2.84782916e-01,  1.03846708e+00,\n",
       "        9.80541227e-01,  1.27917216e+00,  1.36801588e-01,  1.28486224e+00,\n",
       "        3.96998015e-01,  1.87915897e+00,  5.46054646e-01,  1.65152278e+00,\n",
       "       -8.88517237e-01,  4.07257378e-01, -4.58624145e-01,  2.13035167e+00,\n",
       "        6.18802958e-01, -1.15710399e+00,  2.21146600e+00,  1.27714545e+00,\n",
       "        1.55525946e+00, -5.28761864e-01, -6.45647235e-01,  1.30410487e+00,\n",
       "        2.22459919e+00,  5.97445176e-01, -5.91300799e-01,  1.57744965e+00,\n",
       "       -7.21856028e-01,  2.52331666e+00,  1.06369564e+00,  4.57033261e-01,\n",
       "        2.18277764e+00,  6.63505450e-01, -1.43964291e+00,  1.73989455e+00,\n",
       "        8.07191303e-01,  1.93090579e+00,  2.10864143e+00,  1.95812079e+00,\n",
       "        1.93293581e+00, -8.80069185e-01,  1.65939031e+00, -1.00750455e+00,\n",
       "        9.92038865e-01, -6.47755609e-01, -1.32746157e+00,  1.32182468e-01,\n",
       "        8.31201687e-01,  9.54508896e-01,  1.48548758e+00,  4.83527308e-01,\n",
       "        3.09125639e-01,  3.72371202e-01, -3.99623026e-01,  7.63677114e-01,\n",
       "        1.26141883e+00, -2.04301559e+00,  5.71902393e-01,  1.35694526e+00,\n",
       "        1.61034028e+00,  7.36270946e-01,  4.30354895e-01,  2.09664323e+00,\n",
       "        1.32007355e+00,  4.97639754e-01,  1.34804318e+00,  8.57973427e-01,\n",
       "        8.93337254e-01, -2.00885179e+00,  8.04098221e-01, -3.17602419e-01,\n",
       "        1.44099638e+00,  2.67599143e+00,  3.75868982e-02,  1.22765648e-01,\n",
       "        1.06021326e-01,  9.08404347e-01,  1.85268153e+00,  1.35839699e+00,\n",
       "        7.61964835e-02,  5.91483858e-01, -1.16915639e+00, -2.06442251e-01,\n",
       "        1.21648822e+00,  3.16457120e-01,  6.28841696e-02,  1.68658242e+00,\n",
       "        4.55178905e-01,  6.84791915e-01,  6.78378200e-01,  1.12359404e+00,\n",
       "        9.87649819e-01,  1.21482676e+00,  2.76382075e-01,  1.17097536e+00,\n",
       "       -5.63828630e-01, -9.12521579e-01,  1.87992575e+00, -2.50199446e-01,\n",
       "        4.28868297e-01, -2.85701890e-01,  1.78510777e+00,  1.50962069e+00,\n",
       "        2.05910632e-01,  1.62981334e+00,  4.55901757e-01, -6.78031802e-02,\n",
       "        1.63152902e-01,  7.35742090e-01,  2.22207060e+00,  5.60622997e-01,\n",
       "        7.34815614e-01,  7.32089946e-01,  1.12948074e+00, -3.07479531e+00,\n",
       "        2.68795407e-01, -1.04898683e-01,  6.57508111e-01,  1.01304684e-01,\n",
       "        3.17226094e-01,  9.45219375e-01, -3.76955368e-02,  1.13992351e+00,\n",
       "        1.37383749e+00,  5.45180471e-01, -5.98323693e-01,  8.58200419e-01,\n",
       "        8.52590025e-01,  1.29684687e+00,  1.72957284e+00,  3.99030855e-01,\n",
       "       -2.03725915e-01,  4.86686967e-01,  3.07026305e-01,  6.78296105e-02,\n",
       "        4.25844399e-01,  5.99065043e-01,  1.07588024e+00,  6.88402586e-01,\n",
       "        5.82460900e-01, -3.75903792e-01,  2.22824287e+00,  9.43759918e-01,\n",
       "       -1.72201775e-01,  8.43690105e-03,  5.80079850e-01,  7.76993714e-01,\n",
       "        7.51103253e-01,  5.50670915e-01,  2.38734479e-01,  2.60049908e+00,\n",
       "        1.58959599e+00,  1.66719051e+00,  1.41596036e+00, -2.13126414e-01,\n",
       "        3.44491362e-01,  7.28301897e-01,  2.91208097e-01,  1.21550266e+00,\n",
       "        2.28982930e+00, -7.75440498e-01, -9.43649205e-01,  6.34640274e-01,\n",
       "       -6.26419227e-01,  8.45445945e-01, -2.79899322e-01,  2.33782159e-02,\n",
       "       -1.16103101e-02,  1.05891720e+00, -2.28000907e-01,  9.07817214e-01,\n",
       "        9.11928428e-01,  1.73186970e-01,  1.05255639e+00,  1.04110076e+00,\n",
       "        2.03805936e-01,  1.37317171e+00, -3.83497847e-01,  6.73023006e-01,\n",
       "       -4.54867971e-02,  2.12916811e+00,  9.67190195e-01, -9.60773108e-01,\n",
       "        2.39748598e+00,  4.13418563e-01,  4.30476640e-01, -1.29805071e+00,\n",
       "        9.67457817e-01,  1.87945367e+00, -1.74412781e-01,  1.05640813e+00,\n",
       "        1.41879569e+00, -3.52457659e-01, -2.49740438e-01,  1.51067103e+00,\n",
       "       -5.20259785e-01,  4.20054821e-01,  1.77494814e+00, -2.80800919e-01,\n",
       "        3.94559413e-01,  1.40904249e-01,  1.20436974e+00,  5.92494576e-01,\n",
       "       -9.73767139e-02, -3.85336710e-01,  5.50293853e-01,  2.24002450e+00,\n",
       "       -1.67528108e-01, -5.38913467e-01, -7.65047888e-01,  2.21806337e+00,\n",
       "        7.82684157e-01,  3.84848920e-01,  1.78775455e+00, -2.61856801e-02,\n",
       "        7.34662822e-01,  1.33604081e+00,  6.78920827e-02,  4.14200133e-01,\n",
       "        1.04314101e+00,  1.50100916e+00,  2.17078970e+00,  9.40229233e-01,\n",
       "        2.27099007e-01, -3.01432584e-02, -8.18150393e-01, -1.29174669e-01,\n",
       "        3.61066402e-03,  9.09543461e-01,  1.16092000e+00,  1.38967736e+00,\n",
       "       -1.03978532e+00,  1.50517106e+00,  6.05481667e-01,  9.50857432e-01,\n",
       "        1.27357100e+00, -6.14920716e-01,  1.59467346e-01,  2.74236857e+00,\n",
       "        2.14275068e+00, -4.00446753e-01,  2.49026941e-01,  6.08336331e-01,\n",
       "        1.44353068e+00,  4.89697408e-01, -4.57343573e-01, -1.51646792e+00,\n",
       "        1.10183990e+00,  2.67008873e+00,  1.64690885e+00,  1.44139945e+00,\n",
       "       -2.09056658e-01,  4.19020256e-01, -6.79025729e-01,  1.04180382e+00,\n",
       "        6.73512949e-01,  7.75885443e-01,  1.95407579e-01, -8.69084324e-02,\n",
       "        6.44169592e-01,  1.73278259e+00,  1.32214716e+00,  7.56852117e-01,\n",
       "        1.03435396e+00,  6.16427046e-01,  1.83647195e+00,  1.35394719e+00,\n",
       "        8.37520949e-01,  4.66253017e-01,  1.65000548e+00,  2.07192288e-01,\n",
       "        3.63059725e-01,  1.06288636e+00,  6.54578785e-01, -4.93290390e-01,\n",
       "       -7.11954215e-02, -1.65273562e+00,  1.49288454e+00,  9.03890346e-01,\n",
       "        1.94605917e+00,  1.29083954e+00, -2.15797982e-01, -5.88222817e-01,\n",
       "       -1.55158773e-01,  7.39623661e-02, -7.11733713e-01,  1.49178116e+00,\n",
       "        9.17705983e-01,  1.28234364e+00,  1.65119381e-01,  1.57174333e+00,\n",
       "        1.82587389e-01,  2.66728477e-02,  3.22936619e-01,  2.28122347e+00,\n",
       "        2.28583848e+00,  1.39831664e+00,  1.57740862e+00,  1.48627550e+00,\n",
       "        2.24093271e+00, -1.08029461e+00,  2.06527971e+00,  1.13517065e+00])"
      ]
     },
     "execution_count": 139,
     "metadata": {},
     "output_type": "execute_result"
    }
   ],
   "source": [
    "distribution = np.random.normal(0.75,size=1000)\n",
    "distribution"
   ]
  },
  {
   "cell_type": "code",
   "execution_count": 121,
   "metadata": {},
   "outputs": [
    {
     "data": {
      "text/plain": [
       "0.9571615296127635"
      ]
     },
     "execution_count": 121,
     "metadata": {},
     "output_type": "execute_result"
    }
   ],
   "source": [
    "np.sqrt(np.sum((np.mean(distribution)-distribution)**2)/len(distribution))"
   ]
  },
  {
   "cell_type": "code",
   "execution_count": 122,
   "metadata": {},
   "outputs": [
    {
     "data": {
      "text/plain": [
       "5.0"
      ]
     },
     "execution_count": 122,
     "metadata": {},
     "output_type": "execute_result"
    }
   ],
   "source": [
    "np.sqrt(25)"
   ]
  },
  {
   "cell_type": "code",
   "execution_count": 123,
   "metadata": {},
   "outputs": [
    {
     "data": {
      "text/plain": [
       "0.7040091639082127"
      ]
     },
     "execution_count": 123,
     "metadata": {},
     "output_type": "execute_result"
    }
   ],
   "source": [
    "np.mean(distribution)"
   ]
  },
  {
   "cell_type": "code",
   "execution_count": 124,
   "metadata": {},
   "outputs": [
    {
     "data": {
      "text/plain": [
       "array([ 0.45411604,  0.85065553,  0.40118064,  0.14400805, -0.31359431,\n",
       "       -2.16357421, -0.07318583, -0.87809804,  0.478383  ,  0.16913288,\n",
       "        1.37508669,  0.24929039, -0.29436641, -0.21095384,  0.66552054,\n",
       "        0.89869889, -0.46366921,  0.98326381,  0.08828102,  1.23295216,\n",
       "        0.64964495,  1.83750269,  2.1603754 ,  2.44524788,  0.16220015,\n",
       "        0.45062035,  0.11448654,  0.40204732, -0.20409094,  1.05661907,\n",
       "        0.52990657,  0.09010651, -0.1885581 ,  0.72008752, -0.81800265,\n",
       "        0.99080216,  1.81973796, -1.19051111,  0.32049749,  0.70973452,\n",
       "       -0.90717278,  0.90523511,  0.01889261, -0.13606774, -2.79449863,\n",
       "       -1.21186699,  2.23403507,  0.86118886,  0.40887822, -1.40416364,\n",
       "       -1.76310346,  0.52461382, -0.60111909, -0.23082405,  0.64855713,\n",
       "        0.45552078, -0.12815162, -1.26971656,  1.19113638,  1.31406315,\n",
       "        2.18660976,  0.82307291,  0.09773941, -1.30879435, -0.52994843,\n",
       "       -0.2320074 ,  0.38851115,  1.26072769, -1.13638663,  0.31012427,\n",
       "        0.38869631, -1.03244608, -1.6116345 , -0.63295578, -0.45402449,\n",
       "        0.21259003,  0.42649044, -1.11448149,  0.30020027,  0.67189925,\n",
       "       -0.42336311,  0.69289658, -1.05611223,  0.27835917, -0.4936497 ,\n",
       "       -1.04192807,  0.45249544,  1.180905  , -1.08730564, -0.56953599,\n",
       "        0.70296418, -0.0880841 ,  2.30898479,  0.36370264,  0.08135674,\n",
       "       -0.58712903, -0.91588317,  1.41230532, -0.32588036, -0.98345292,\n",
       "       -0.86236736,  0.39338693, -1.97727769,  0.67794142,  1.95120469,\n",
       "       -1.94301445, -0.26814534,  0.23024604, -1.68676621, -0.87748758,\n",
       "        1.6224123 , -0.41229369, -0.25447668,  2.99133241,  1.46690601,\n",
       "        0.13918535,  0.89341453, -0.72785894, -1.71670864,  0.32861842,\n",
       "       -2.5154725 , -1.8120358 , -0.12726373,  0.33563915,  1.91703789,\n",
       "        0.31791077,  1.03412676, -0.75633261, -0.71977905,  1.00687063,\n",
       "       -0.53694476,  0.17868133,  0.4794892 , -0.25958256, -0.64023657,\n",
       "        0.563648  ,  1.33896963, -0.76473377, -0.03668387, -0.12137944,\n",
       "        0.12176969,  0.17564737, -0.39344792,  0.25964302,  0.34531589,\n",
       "       -0.53220774,  0.81122261,  1.35056685,  0.08972711,  1.50220448,\n",
       "        0.45646301,  0.76037146, -1.37831398, -0.46477207,  0.35524001,\n",
       "        0.6129925 , -0.63951517, -0.615461  ,  1.1292565 , -0.09765006,\n",
       "        0.90464509, -0.81825981,  2.48066357, -0.62515983, -1.36012698,\n",
       "        0.40487384,  0.26592413, -1.99305068,  1.55930137, -0.95044381,\n",
       "        0.496468  , -1.13371316,  0.90808107,  0.62841211, -1.64957582,\n",
       "        0.21400418,  1.6875303 ,  0.64556212,  0.54886185, -0.56831097,\n",
       "        0.11538718,  1.50681037,  0.3495423 , -0.38842911,  0.64269883,\n",
       "       -0.71873726,  0.78484161, -1.46550362,  0.11234686,  1.18842665,\n",
       "        1.39406717, -0.91798491, -0.26576952,  0.01478603, -0.24087131,\n",
       "       -0.33447065,  0.22509793, -1.78206975, -2.17542846,  0.81100382,\n",
       "        0.18003932, -0.8510424 ,  0.05052079,  0.06326543,  0.04067892,\n",
       "       -0.39398155, -0.56082715,  0.25756878,  0.080147  , -0.05767437,\n",
       "       -0.7833659 ,  1.59416004, -0.16458449,  0.51814331, -0.81969023,\n",
       "       -0.59125482,  0.93985777,  0.17645749, -2.17333819,  1.03305055,\n",
       "       -1.1972367 ,  0.63869512,  0.12010687,  1.12239244,  0.89741306,\n",
       "       -0.14108475,  0.1924436 , -0.34615509, -0.25688742,  0.10433916,\n",
       "        1.19775704, -1.0619002 ,  0.42620241, -0.02505499,  0.75685501,\n",
       "        2.30839829, -0.90336317, -0.73882959, -0.34140426, -0.10964238,\n",
       "       -1.71345953, -1.99595961, -1.42267349,  0.21220316,  0.71998273,\n",
       "       -2.23999026, -1.97383301,  0.18823366,  0.19650268,  0.83730754,\n",
       "        0.27321229,  0.61327764, -1.3504428 ,  0.52005781,  0.76605971,\n",
       "       -1.95754813, -2.05575642,  1.7227193 , -1.21542223,  0.67195414,\n",
       "       -0.05276304,  0.13274009,  0.62153882,  1.7744262 , -0.07308353,\n",
       "        0.33709503, -0.98368119,  1.10075801, -0.64394205,  0.42117239,\n",
       "        0.83970486,  0.25625325, -0.52942402,  0.10566276,  1.24403681,\n",
       "        0.71463209, -0.35255072,  0.8800764 ,  0.69556254, -0.14619535,\n",
       "       -0.37907546,  1.48312822, -1.7940429 , -1.21781355, -0.21200481,\n",
       "       -1.35636706, -0.46571008,  0.01403257, -0.28832339,  1.61846593,\n",
       "       -1.12986947,  0.03341381,  0.48416095,  0.91852234,  0.01534306,\n",
       "        0.92557689, -0.96307188, -0.12222547,  0.83078806, -0.4310479 ,\n",
       "       -0.6054583 , -0.3310227 , -0.28437705,  0.09860161, -0.95948879,\n",
       "       -0.82959691, -0.90013671,  1.67622878, -1.23901564, -0.29597925,\n",
       "       -0.61142861,  1.08945063,  0.61611239,  2.43049346,  0.28275751,\n",
       "       -1.17972371,  0.47751031,  0.04373867, -0.21283041,  1.08096479,\n",
       "       -0.11879076, -2.23498279,  0.74950524, -0.1514218 , -0.14535299,\n",
       "        0.23815308, -0.7668961 ,  1.49219033,  0.57532236, -1.06666974,\n",
       "        0.6745932 , -0.99851126, -1.71784368,  1.21318763, -1.11130492,\n",
       "        1.6990563 ,  0.28807652,  0.37664391, -1.06482984,  0.02319621,\n",
       "        0.88230467, -0.02453986,  1.36355533,  0.69088265, -0.02447725,\n",
       "        0.8497056 , -0.31814097,  1.13944422, -0.64744028, -0.09070487,\n",
       "        0.69887326, -0.24599726,  0.60594135,  0.01712217, -0.80315702,\n",
       "       -0.78560755,  0.25801854,  2.00186333, -0.37955816, -0.09746829,\n",
       "        1.17363732, -1.36101596,  0.48548675,  0.81996413, -0.34563447,\n",
       "        0.80020656,  1.28083849,  0.83648824, -1.77282712,  0.45139754,\n",
       "       -1.50024283,  0.50043402,  1.11276942,  0.16961427,  0.17050411,\n",
       "        1.43527513, -1.65463346, -2.25179944, -0.47411304, -1.058406  ,\n",
       "        0.63326042, -0.16120555,  0.59157871, -0.80432302, -1.9670276 ,\n",
       "        0.45444553, -0.82086729, -0.97812148,  0.25287946, -0.50603389,\n",
       "       -2.16447184, -0.75242982, -0.59627253,  1.10468985, -1.23034768,\n",
       "        0.5121319 ,  0.1012074 , -1.0462131 ,  1.24879643, -0.8486381 ,\n",
       "       -0.58479761,  1.1914577 , -0.91175592,  0.03432487, -0.65745439,\n",
       "       -1.60824777,  0.64339166,  0.77574906, -0.92667558,  0.79258084,\n",
       "       -1.00641843, -2.07473979, -0.11032782, -0.05232914,  0.99962691,\n",
       "        0.79220473,  0.50086895, -0.03175092,  1.36861407, -0.2030103 ,\n",
       "       -0.13457807,  1.21562478,  0.10099429,  1.80838519, -0.0415367 ,\n",
       "        1.42080704, -0.73835232,  0.28762758, -0.11074587,  1.89440618,\n",
       "       -0.06858476, -0.11812446,  0.41927208, -0.36492622, -0.83037913,\n",
       "        0.50470595, -0.28664151, -0.22310779,  0.66585867, -0.76155733,\n",
       "       -0.77180164,  0.41631313,  0.67246505,  1.29206121, -2.70014517,\n",
       "       -0.63232112,  0.47805543, -0.78138014, -0.95059636, -0.53093218,\n",
       "       -1.77264562,  0.57192487, -0.00363533, -0.51819149,  1.07365368,\n",
       "       -0.35240005,  1.06424982,  0.70721746,  1.72508129,  0.06223943,\n",
       "       -1.62891556,  0.45040016,  0.21538672, -1.10322494,  0.19485105,\n",
       "        0.11870537,  0.72768868,  0.67386408,  2.24947143,  1.61663664,\n",
       "        0.99871589,  0.23279784,  0.40569089,  0.03911369, -0.43868923,\n",
       "       -1.67030206, -0.12213125, -0.1001541 ,  0.47008594, -0.9748892 ,\n",
       "       -0.90301363,  0.55906086, -0.09996202,  0.19462212,  0.43855413,\n",
       "       -0.15926775,  1.279018  , -0.71266824, -0.13060826,  0.74753003,\n",
       "       -0.12394769, -0.93953524, -0.16736239, -0.40037145,  0.35227671,\n",
       "       -0.77218438,  2.24480893, -0.28526585,  1.03704474, -0.19889527,\n",
       "        0.68566659, -0.74423596, -0.64006965, -0.58854821,  0.31378243,\n",
       "        0.20596686,  0.9490596 ,  1.61439671,  0.91824837, -0.16154987,\n",
       "       -0.55697468, -0.68046102,  0.06305283, -0.77347254, -0.28157747,\n",
       "        0.70913077, -0.06350558,  0.46474231, -0.20046421, -1.39573091,\n",
       "       -0.24828266,  1.89265772, -1.7890784 ,  1.5270306 , -1.08773777,\n",
       "        0.31641802, -0.32217274, -0.18715291,  1.39778281,  0.88356586,\n",
       "       -0.30887375,  2.0414239 ,  1.83435531, -0.03681874,  1.74189645,\n",
       "        0.31226121, -0.24176704,  0.28235193, -1.13052701, -1.56465719,\n",
       "        0.61279543, -1.1467836 ,  0.92128481,  0.89896414, -0.05558655,\n",
       "       -0.6134417 ,  0.32546763, -0.6390961 , -0.89117223,  0.92074235,\n",
       "        1.49506765,  1.38927571, -1.36299801,  0.4768128 ,  0.46615767,\n",
       "        0.47793361, -0.85914809, -0.55405153,  0.66458744,  0.647263  ,\n",
       "       -0.47595474, -0.63032436,  1.135891  , -1.57421885, -0.59262362,\n",
       "        0.50324117, -0.70647419, -1.92490663, -0.50533982,  0.27687376,\n",
       "       -1.59306808, -0.5149229 , -0.25166827, -0.47276664, -1.42122775,\n",
       "       -0.65361031, -0.64239698, -0.48432785,  1.17122847, -0.96398014,\n",
       "       -1.17313103,  0.23721409, -0.17099528,  0.97272899,  1.17968963,\n",
       "        0.4759509 , -0.2674122 ,  0.19874382, -1.89241354,  0.49939202,\n",
       "       -1.78579805, -1.15285417,  1.26945307, -0.28545596, -0.92367439,\n",
       "       -0.96229086, -1.63179352, -0.10185416,  2.37848193,  0.56626602,\n",
       "        0.03189101, -0.70935066,  0.94091067,  0.60587721,  0.22675287,\n",
       "        0.90574989, -0.63824183,  0.81365117,  0.65605881,  0.08915582,\n",
       "        0.12535508,  1.35620308, -0.33703316, -0.58687488, -1.25802593,\n",
       "       -1.26362437,  1.40336325, -1.97902484, -0.75918759,  0.0979892 ,\n",
       "       -0.55919969, -0.01806706, -0.07709644,  0.82689954,  1.00378797,\n",
       "        0.78593927,  0.02308709, -0.39289493, -0.95827136,  0.15359774,\n",
       "        0.7716529 , -0.21405597, -0.7863752 ,  0.57829063,  1.20571757,\n",
       "        2.04704599, -0.75500907,  0.16367089, -0.12345649,  1.84605892,\n",
       "       -0.96094444,  0.91643024, -0.18701127, -0.18643174, -0.32246271,\n",
       "       -1.14127143, -0.7907232 ,  0.44525707,  0.12615595,  0.20574435,\n",
       "        1.13198924, -0.50531897, -0.11368265,  0.46960761, -1.01763151,\n",
       "       -1.9242723 , -0.48143144, -0.12483008,  1.30139326, -2.21833877,\n",
       "       -1.34033891,  0.68270574, -0.98254245, -0.10297771, -0.71995918,\n",
       "       -0.75319127, -0.02000054, -1.16847462,  0.83060175,  0.09481531,\n",
       "        0.23466221, -0.55403169,  0.24619052, -0.44209718,  0.8133433 ,\n",
       "       -0.12416115, -0.6699017 ,  0.8886261 ,  1.90358895,  1.47687391,\n",
       "       -0.39007187, -0.56845201,  0.68861317, -0.91651002, -1.78604314,\n",
       "        0.45351333,  0.64228466, -1.18621092,  0.05344388, -0.89741577,\n",
       "        0.40549703,  0.02836219,  2.01740282,  0.20702155,  0.01050451,\n",
       "       -0.33715468, -0.70868882, -0.23586683,  0.81636161,  1.15387383,\n",
       "        0.47164501,  0.558097  ,  1.16784242,  0.76797371, -0.372804  ,\n",
       "        1.00439523, -1.29233989,  0.21449451, -0.1488064 , -0.94108902,\n",
       "       -0.64165848, -0.80169028, -0.28172205,  0.31241171, -0.68726271,\n",
       "       -0.14943461,  0.30949841, -0.94507673,  1.38929834, -1.26060499,\n",
       "        0.59613758, -1.77733305,  0.76138229, -0.28205112,  1.36145961,\n",
       "       -0.50598148, -0.41646146, -0.80001896,  0.39274825,  0.40795433,\n",
       "        0.30757384,  0.29182741,  0.01757248,  0.35047527,  0.36911695,\n",
       "       -0.44565013, -1.76957795, -0.22117162,  0.96100855, -0.41015418,\n",
       "       -0.01946917, -1.49759655, -0.56265138, -0.3448635 ,  1.84337122,\n",
       "        0.61801024, -0.96874397, -0.27176759,  1.18821655,  0.80312085,\n",
       "        1.06939236,  0.36153428, -1.26685291, -2.04792448, -0.51464464,\n",
       "        1.12966162,  0.21055459, -0.20835489, -2.4380294 ,  0.18159429,\n",
       "        0.65668378, -1.38563248,  1.24620593, -0.90434762,  1.55032474,\n",
       "        0.0403729 , -0.25037641,  1.14707378,  0.29444065, -2.10810749,\n",
       "       -0.34294247, -0.89100217, -1.001488  , -0.25516754, -0.05321361,\n",
       "       -1.25356217, -0.357315  ,  0.34812621, -0.85774929, -1.53835996,\n",
       "       -0.68920675, -1.68347705, -0.21906061, -0.29543125,  0.50606952,\n",
       "       -0.39867778,  0.57048957,  0.43377436, -0.61281817, -0.24779021,\n",
       "        0.97933756,  0.59223422, -0.61502661, -0.61560733, -0.58719397,\n",
       "       -1.11605469, -0.67720318,  0.62368785,  2.77194662,  0.86305465,\n",
       "       -0.61191058,  0.99198117, -0.30263207, -0.76733865,  2.02444783,\n",
       "        0.24584814, -0.34277788,  1.56297928,  0.71179853, -0.71445522,\n",
       "        0.20679154, -0.57236888,  0.27822068,  0.58185188, -0.44313737,\n",
       "       -1.61809055,  0.40109104, -0.09798972,  0.70221564, -0.88389573,\n",
       "       -0.19730583, -0.87450019, -0.68143545, -1.17531263, -1.26582594,\n",
       "        0.40700124,  1.34047768,  1.03174599,  0.10754931,  0.04102776,\n",
       "        2.1713361 ,  0.35552236,  0.31593995,  0.0608959 ,  1.38354327,\n",
       "       -0.20866034, -0.15592905, -0.46317239,  0.31949624,  1.06171345,\n",
       "       -0.16248337,  0.71376098,  2.61651412, -1.10864028, -1.1786524 ,\n",
       "       -0.48691143, -0.50066128, -0.51424185, -0.49780621,  0.27882212,\n",
       "       -0.8909895 ,  0.95124384, -0.25513634,  0.44760674,  1.62116322,\n",
       "       -0.1588267 ,  1.28854775, -0.18964848,  0.38954385, -1.06450146,\n",
       "       -0.39304939, -0.34198267,  0.54106448, -0.39523466,  0.26042085,\n",
       "       -0.86387224,  0.03232517,  0.90384918,  2.13926305, -1.4509901 ,\n",
       "       -1.04211568, -0.46115783, -0.82619151,  1.42926834,  1.59534198,\n",
       "       -0.08283225,  1.44814277,  0.33141078,  2.08827035, -0.13041631,\n",
       "       -2.37162566,  0.56139579, -0.71158888,  0.14713762,  0.40400651,\n",
       "       -0.293691  ,  0.90924089,  0.15120985,  0.60930053, -0.68111907,\n",
       "       -0.04488377,  0.19246488, -0.18242362, -1.2360554 , -0.316854  ,\n",
       "       -1.73212168,  1.19947242,  0.18883153, -1.43334665, -0.68810775,\n",
       "       -0.23650511,  0.85619814, -0.14282148, -0.47242182, -0.07759951,\n",
       "       -0.01482706, -0.0461862 ,  0.27742107, -0.44156435, -0.94285185,\n",
       "        0.2603918 ,  1.09698499,  0.77686506,  0.34861477, -0.82324301,\n",
       "       -0.01209574,  0.56872427, -0.58618925,  0.12997456, -0.28346331,\n",
       "        0.13948733, -0.11374501, -1.27417082, -0.449462  , -0.66449559,\n",
       "        2.05779997, -0.50489702, -0.829721  , -1.41184668, -0.5399744 ,\n",
       "       -1.34547923,  1.07458234, -0.63184907, -0.24561743,  0.76934868,\n",
       "        0.03268476,  1.35584408,  0.26047926,  0.02535845, -1.16668036,\n",
       "        1.61053049,  0.33540094,  0.3626589 , -2.1291351 , -0.48283239,\n",
       "       -0.015615  ,  1.51676291,  0.6405333 ,  0.31045303, -0.25838489,\n",
       "       -0.18757571,  0.17434943, -0.07822811, -0.47665724,  0.79084554,\n",
       "        0.12209189,  0.50583055,  0.13173014, -0.74383018, -1.9962338 ,\n",
       "        0.29093112, -0.57382208, -0.93952576,  0.70144927, -0.00644989,\n",
       "        0.87921227, -3.02992388,  1.12130325, -1.81407091,  1.75905635,\n",
       "        0.51773686, -1.8293378 , -0.32867471,  1.51129611, -1.19173875,\n",
       "       -0.81740787,  1.78243514, -0.36927566,  0.13879132,  1.07389815,\n",
       "        0.37280337,  0.46013071,  0.71542983,  0.317391  ,  1.81637051,\n",
       "       -0.0037358 , -0.14341081,  0.08549154,  1.02874325, -0.81043065,\n",
       "        1.46060403, -0.99439747,  0.01035298, -1.40024419,  0.5382263 ,\n",
       "       -1.34177385, -1.04024488, -0.99251921,  0.66804492, -0.37660437])"
      ]
     },
     "execution_count": 124,
     "metadata": {},
     "output_type": "execute_result"
    }
   ],
   "source": [
    "np.mean(distribution)-distribution"
   ]
  },
  {
   "cell_type": "code",
   "execution_count": 125,
   "metadata": {},
   "outputs": [
    {
     "data": {
      "text/plain": [
       "array([2.06221378e-01, 7.23614835e-01, 1.60945908e-01, 2.07383196e-02,\n",
       "       9.83413912e-02, 4.68105336e+00, 5.35616591e-03, 7.71056165e-01,\n",
       "       2.28850296e-01, 2.86059295e-02, 1.89086341e+00, 6.21456967e-02,\n",
       "       8.66515817e-02, 4.45015214e-02, 4.42917595e-01, 8.07659703e-01,\n",
       "       2.14989137e-01, 9.66807725e-01, 7.79353927e-03, 1.52017103e+00,\n",
       "       4.22038561e-01, 3.37641615e+00, 4.66722188e+00, 5.97923720e+00,\n",
       "       2.63088878e-02, 2.03058699e-01, 1.31071677e-02, 1.61642046e-01,\n",
       "       4.16531138e-02, 1.11644387e+00, 2.80800976e-01, 8.11918391e-03,\n",
       "       3.55541568e-02, 5.18526035e-01, 6.69128340e-01, 9.81688922e-01,\n",
       "       3.31144623e+00, 1.41731671e+00, 1.02718640e-01, 5.03723090e-01,\n",
       "       8.22962457e-01, 8.19450596e-01, 3.56930641e-04, 1.85144297e-02,\n",
       "       7.80922257e+00, 1.46862161e+00, 4.99091271e+00, 7.41646254e-01,\n",
       "       1.67181402e-01, 1.97167554e+00, 3.10853383e+00, 2.75219658e-01,\n",
       "       3.61344157e-01, 5.32797411e-02, 4.20626357e-01, 2.07499182e-01,\n",
       "       1.64228384e-02, 1.61218015e+00, 1.41880589e+00, 1.72676196e+00,\n",
       "       4.78126225e+00, 6.77449019e-01, 9.55299133e-03, 1.71294266e+00,\n",
       "       2.80845335e-01, 5.38274320e-02, 1.50940914e-01, 1.58943432e+00,\n",
       "       1.29137457e+00, 9.61770632e-02, 1.51084819e-01, 1.06594490e+00,\n",
       "       2.59736576e+00, 4.00633026e-01, 2.06138238e-01, 4.51945191e-02,\n",
       "       1.81894097e-01, 1.24206899e+00, 9.01202004e-02, 4.51448598e-01,\n",
       "       1.79236327e-01, 4.80105665e-01, 1.11537304e+00, 7.74838259e-02,\n",
       "       2.43690026e-01, 1.08561410e+00, 2.04752120e-01, 1.39453661e+00,\n",
       "       1.18223355e+00, 3.24371244e-01, 4.94158635e-01, 7.75880784e-03,\n",
       "       5.33141075e+00, 1.32279611e-01, 6.61891960e-03, 3.44720496e-01,\n",
       "       8.38841974e-01, 1.99460632e+00, 1.06198010e-01, 9.67179638e-01,\n",
       "       7.43677460e-01, 1.54753274e-01, 3.90962704e+00, 4.59604573e-01,\n",
       "       3.80719975e+00, 3.77530516e+00, 7.19019235e-02, 5.30132390e-02,\n",
       "       2.84518025e+00, 7.69984458e-01, 2.63222166e+00, 1.69986087e-01,\n",
       "       6.47583794e-02, 8.94806961e+00, 2.15181323e+00, 1.93725608e-02,\n",
       "       7.98189520e-01, 5.29778629e-01, 2.94708856e+00, 1.07990063e-01,\n",
       "       6.32760191e+00, 3.28347375e+00, 1.61960570e-02, 1.12653642e-01,\n",
       "       3.67503426e+00, 1.01067259e-01, 1.06941816e+00, 5.72039019e-01,\n",
       "       5.18081874e-01, 1.01378847e+00, 2.88309674e-01, 3.19270193e-02,\n",
       "       2.29909893e-01, 6.73831063e-02, 4.09902865e-01, 3.17699072e-01,\n",
       "       1.79283968e+00, 5.84817744e-01, 1.34570613e-03, 1.47329683e-02,\n",
       "       1.48278579e-02, 3.08519986e-02, 1.54801265e-01, 6.74144996e-02,\n",
       "       1.19243062e-01, 2.83245083e-01, 6.58082123e-01, 1.82403081e+00,\n",
       "       8.05095375e-03, 2.25661829e+00, 2.08358479e-01, 5.78164762e-01,\n",
       "       1.89974943e+00, 2.16013078e-01, 1.26195465e-01, 3.75759803e-01,\n",
       "       4.08979649e-01, 3.78792241e-01, 1.27522023e+00, 9.53553374e-03,\n",
       "       8.18382740e-01, 6.69549114e-01, 6.15369173e+00, 3.90824816e-01,\n",
       "       1.84994541e+00, 1.63922826e-01, 7.07156407e-02, 3.97225102e+00,\n",
       "       2.43142078e+00, 9.03343436e-01, 2.46480480e-01, 1.28530553e+00,\n",
       "       8.24611232e-01, 3.94901785e-01, 2.72110038e+00, 4.57977875e-02,\n",
       "       2.84775851e+00, 4.16750453e-01, 3.01249333e-01, 3.22977364e-01,\n",
       "       1.33142006e-02, 2.27047749e+00, 1.22179820e-01, 1.50877171e-01,\n",
       "       4.13061787e-01, 5.16583250e-01, 6.15976354e-01, 2.14770086e+00,\n",
       "       1.26218176e-02, 1.41235790e+00, 1.94342327e+00, 8.42696301e-01,\n",
       "       7.06334370e-02, 2.18626812e-04, 5.80189873e-02, 1.11870615e-01,\n",
       "       5.06690789e-02, 3.17577261e+00, 4.73248900e+00, 6.57727193e-01,\n",
       "       3.24141552e-02, 7.24273173e-01, 2.55235012e-03, 4.00251455e-03,\n",
       "       1.65477469e-03, 1.55221464e-01, 3.14527096e-01, 6.63416749e-02,\n",
       "       6.42354156e-03, 3.32633332e-03, 6.13662137e-01, 2.54134622e+00,\n",
       "       2.70880558e-02, 2.68472490e-01, 6.71892076e-01, 3.49582268e-01,\n",
       "       8.83332635e-01, 3.11372455e-02, 4.72339889e+00, 1.06719344e+00,\n",
       "       1.43337571e+00, 4.07931451e-01, 1.44256591e-02, 1.25976478e+00,\n",
       "       8.05350199e-01, 1.99049071e-02, 3.70345374e-02, 1.19823349e-01,\n",
       "       6.59911483e-02, 1.08866598e-02, 1.43462192e+00, 1.12763204e+00,\n",
       "       1.81648498e-01, 6.27752437e-04, 5.72829512e-01, 5.32870265e+00,\n",
       "       8.16065024e-01, 5.45869163e-01, 1.16556870e-01, 1.20214522e-02,\n",
       "       2.93594356e+00, 3.98385478e+00, 2.02399987e+00, 4.50301829e-02,\n",
       "       5.18375137e-01, 5.01755636e+00, 3.89601677e+00, 3.54319124e-02,\n",
       "       3.86133023e-02, 7.01083911e-01, 7.46449532e-02, 3.76109462e-01,\n",
       "       1.82369575e+00, 2.70460129e-01, 5.86847486e-01, 3.83199468e+00,\n",
       "       4.22613445e+00, 2.96776180e+00, 1.47725119e+00, 4.51522361e-01,\n",
       "       2.78393854e-03, 1.76199312e-02, 3.86310510e-01, 3.14858836e+00,\n",
       "       5.34120191e-03, 1.13633057e-01, 9.67628674e-01, 1.21166820e+00,\n",
       "       4.14661364e-01, 1.77386181e-01, 7.05104250e-01, 6.56657274e-02,\n",
       "       2.80289792e-01, 1.11646185e-02, 1.54762757e+00, 5.10699019e-01,\n",
       "       1.24292008e-01, 7.74534477e-01, 4.83807242e-01, 2.13730805e-02,\n",
       "       1.43698202e-01, 2.19966932e+00, 3.21858991e+00, 1.48306985e+00,\n",
       "       4.49460403e-02, 1.83973160e+00, 2.16885875e-01, 1.96912908e-04,\n",
       "       8.31303745e-02, 2.61943197e+00, 1.27660503e+00, 1.11648299e-03,\n",
       "       2.34411825e-01, 8.43683296e-01, 2.35409397e-04, 8.56692573e-01,\n",
       "       9.27507451e-01, 1.49390646e-02, 6.90208799e-01, 1.85802291e-01,\n",
       "       3.66579755e-01, 1.09576026e-01, 8.08703061e-02, 9.72227673e-03,\n",
       "       9.20618737e-01, 6.88231028e-01, 8.10246103e-01, 2.80974292e+00,\n",
       "       1.53515975e+00, 8.76037157e-02, 3.73844940e-01, 1.18690268e+00,\n",
       "       3.79594474e-01, 5.90729845e+00, 7.99518075e-02, 1.39174802e+00,\n",
       "       2.28016099e-01, 1.91307091e-03, 4.52967854e-02, 1.16848488e+00,\n",
       "       1.41112438e-02, 4.99514808e+00, 5.61758104e-01, 2.29285612e-02,\n",
       "       2.11274913e-02, 5.67168890e-02, 5.88129623e-01, 2.22663198e+00,\n",
       "       3.30995815e-01, 1.13778433e+00, 4.55075986e-01, 9.97024743e-01,\n",
       "       2.95098689e+00, 1.47182422e+00, 1.23499863e+00, 2.88679233e+00,\n",
       "       8.29880818e-02, 1.41860633e-01, 1.13386259e+00, 5.38064105e-04,\n",
       "       7.78461539e-01, 6.02204721e-04, 1.85928315e+00, 4.77318831e-01,\n",
       "       5.99135599e-04, 7.21999602e-01, 1.01213678e-01, 1.29833313e+00,\n",
       "       4.19178920e-01, 8.22737331e-03, 4.88423833e-01, 6.05146527e-02,\n",
       "       3.67164920e-01, 2.93168698e-04, 6.45061201e-01, 6.17179218e-01,\n",
       "       6.65735657e-02, 4.00745678e+00, 1.44064397e-01, 9.50006717e-03,\n",
       "       1.37742455e+00, 1.85236445e+00, 2.35697380e-01, 6.72341181e-01,\n",
       "       1.19463188e-01, 6.40330543e-01, 1.64054724e+00, 6.99712572e-01,\n",
       "       3.14291601e+00, 2.03759735e-01, 2.25072854e+00, 2.50434204e-01,\n",
       "       1.23825579e+00, 2.87689997e-02, 2.90716510e-02, 2.06001471e+00,\n",
       "       2.73781189e+00, 5.07060070e+00, 2.24783174e-01, 1.12022327e+00,\n",
       "       4.01018759e-01, 2.59872300e-02, 3.49965371e-01, 6.46935525e-01,\n",
       "       3.86919759e+00, 2.06520739e-01, 6.73823106e-01, 9.56721623e-01,\n",
       "       6.39480207e-02, 2.56070295e-01, 4.68493834e+00, 5.66150633e-01,\n",
       "       3.55540930e-01, 1.22033967e+00, 1.51375542e+00, 2.62279078e-01,\n",
       "       1.02429387e-02, 1.09456186e+00, 1.55949252e+00, 7.20186632e-01,\n",
       "       3.41988243e-01, 1.41957145e+00, 8.31298867e-01, 1.17819691e-03,\n",
       "       4.32246273e-01, 2.58646087e+00, 4.13952830e-01, 6.01786610e-01,\n",
       "       8.58727638e-01, 6.28184384e-01, 1.01287805e+00, 4.30454520e+00,\n",
       "       1.21722277e-02, 2.73833916e-03, 9.99253967e-01, 6.27588335e-01,\n",
       "       2.50869703e-01, 1.00812066e-03, 1.87310448e+00, 4.12131808e-02,\n",
       "       1.81112556e-02, 1.47774361e+00, 1.01998467e-02, 3.27025700e+00,\n",
       "       1.72529739e-03, 2.01869265e+00, 5.45164149e-01, 8.27296245e-02,\n",
       "       1.22646476e-02, 3.58877479e+00, 4.70386881e-03, 1.39533874e-02,\n",
       "       1.75789079e-01, 1.33171147e-01, 6.89529502e-01, 2.54728096e-01,\n",
       "       8.21633545e-02, 4.97770844e-02, 4.43367763e-01, 5.79969571e-01,\n",
       "       5.95677774e-01, 1.73316623e-01, 4.52209249e-01, 1.66942216e+00,\n",
       "       7.29078393e+00, 3.99830000e-01, 2.28536996e-01, 6.10554928e-01,\n",
       "       9.03633433e-01, 2.81888977e-01, 3.14227250e+00, 3.27098058e-01,\n",
       "       1.32156228e-05, 2.68522419e-01, 1.15273223e+00, 1.24185792e-01,\n",
       "       1.13262769e+00, 5.00156530e-01, 2.97590545e+00, 3.87374697e-03,\n",
       "       2.65336592e+00, 2.02860303e-01, 4.63914403e-02, 1.21710527e+00,\n",
       "       3.79669310e-02, 1.40909650e-02, 5.29530815e-01, 4.54092801e-01,\n",
       "       5.06012173e+00, 2.61351403e+00, 9.97433424e-01, 5.41948320e-02,\n",
       "       1.64585096e-01, 1.52988071e-03, 1.92448238e-01, 2.78990898e+00,\n",
       "       1.49160414e-02, 1.00308433e-02, 2.20980789e-01, 9.50408951e-01,\n",
       "       8.15433616e-01, 3.12549047e-01, 9.99240521e-03, 3.78777685e-02,\n",
       "       1.92329728e-01, 2.53662157e-02, 1.63588704e+00, 5.07896024e-01,\n",
       "       1.70585176e-02, 5.58801152e-01, 1.53630304e-02, 8.82726466e-01,\n",
       "       2.80101687e-02, 1.60297300e-01, 1.24098883e-01, 5.96268718e-01,\n",
       "       5.03916712e+00, 8.13766066e-02, 1.07546178e+00, 3.95593279e-02,\n",
       "       4.70138670e-01, 5.53887170e-01, 4.09689160e-01, 3.46388998e-01,\n",
       "       9.84594130e-02, 4.24223483e-02, 9.00714125e-01, 2.60627675e+00,\n",
       "       8.43180077e-01, 2.60983594e-02, 3.10220798e-01, 4.63027194e-01,\n",
       "       3.97565939e-03, 5.98259770e-01, 7.92858689e-02, 5.02866451e-01,\n",
       "       4.03295871e-03, 2.15985416e-01, 4.01858981e-02, 1.94806476e+00,\n",
       "       6.16442801e-02, 3.58215323e+00, 3.20080151e+00, 2.33182246e+00,\n",
       "       1.18317346e+00, 1.00120364e-01, 1.03795274e-01, 3.50262112e-02,\n",
       "       1.95379677e+00, 7.80688620e-01, 9.54029950e-02, 4.16741154e+00,\n",
       "       3.36485941e+00, 1.35561993e-03, 3.03420325e+00, 9.75070610e-02,\n",
       "       5.84513032e-02, 7.97226096e-02, 1.27809131e+00, 2.44815213e+00,\n",
       "       3.75518234e-01, 1.31511263e+00, 8.48765707e-01, 8.08136520e-01,\n",
       "       3.08986413e-03, 3.76310724e-01, 1.05929179e-01, 4.08443828e-01,\n",
       "       7.94187950e-01, 8.47766479e-01, 2.23522728e+00, 1.93008701e+00,\n",
       "       1.85776358e+00, 2.27350445e-01, 2.17302975e-01, 2.28420536e-01,\n",
       "       7.38135436e-01, 3.06973097e-01, 4.41676469e-01, 4.18949391e-01,\n",
       "       2.26532916e-01, 3.97308798e-01, 1.29024837e+00, 2.47816498e+00,\n",
       "       3.51202756e-01, 2.53251671e-01, 4.99105788e-01, 3.70526553e+00,\n",
       "       2.55368332e-01, 7.66590777e-02, 2.53786591e+00, 2.65145596e-01,\n",
       "       6.33369161e-02, 2.23508293e-01, 2.01988831e+00, 4.27206441e-01,\n",
       "       4.12673876e-01, 2.34573467e-01, 1.37177613e+00, 9.29257706e-01,\n",
       "       1.37623642e+00, 5.62705267e-02, 2.92393851e-02, 9.46201683e-01,\n",
       "       1.39166762e+00, 2.26529262e-01, 7.15092838e-02, 3.94991058e-02,\n",
       "       3.58122902e+00, 2.49392391e-01, 3.18907468e+00, 1.32907275e+00,\n",
       "       1.61151110e+00, 8.14851039e-02, 8.53174378e-01, 9.26003693e-01,\n",
       "       2.66275011e+00, 1.03742693e-02, 5.65717630e+00, 3.20657210e-01,\n",
       "       1.01703630e-03, 5.03178353e-01, 8.85312882e-01, 3.67087198e-01,\n",
       "       5.14168638e-02, 8.20382867e-01, 4.07352637e-01, 6.62028221e-01,\n",
       "       4.30413164e-01, 7.94875947e-03, 1.57138963e-02, 1.83928680e+00,\n",
       "       1.13591354e-01, 3.44422121e-01, 1.58262925e+00, 1.59674654e+00,\n",
       "       1.96942841e+00, 3.91653932e+00, 5.76365790e-01, 9.60188428e-03,\n",
       "       3.12704298e-01, 3.26418490e-04, 5.94386129e-03, 6.83762842e-01,\n",
       "       1.00759028e+00, 6.17700537e-01, 5.33013830e-04, 1.54366428e-01,\n",
       "       9.18284003e-01, 2.35922670e-02, 5.95448193e-01, 4.58199598e-02,\n",
       "       6.18385957e-01, 3.34420058e-01, 1.45375485e+00, 4.19039728e+00,\n",
       "       5.70038698e-01, 2.67881602e-02, 1.52415048e-02, 3.40793353e+00,\n",
       "       9.23414212e-01, 8.39844393e-01, 3.49732155e-02, 3.47567923e-02,\n",
       "       1.03982196e-01, 1.30250048e+00, 6.25243178e-01, 1.98253861e-01,\n",
       "       1.59153231e-02, 4.23307356e-02, 1.28139964e+00, 2.55347266e-01,\n",
       "       1.29237444e-02, 2.20531311e-01, 1.03557390e+00, 3.70282390e+00,\n",
       "       2.31776233e-01, 1.55825491e-02, 1.69362442e+00, 4.92102692e+00,\n",
       "       1.79650840e+00, 4.66087121e-01, 9.65389676e-01, 1.06044096e-02,\n",
       "       5.18341226e-01, 5.67297088e-01, 4.00021663e-04, 1.36533295e+00,\n",
       "       6.89899269e-01, 8.98994298e-03, 5.50663546e-02, 3.06951111e-01,\n",
       "       6.06097746e-02, 1.95449921e-01, 6.61527323e-01, 1.54159900e-02,\n",
       "       4.48768282e-01, 7.89656340e-01, 3.62365090e+00, 2.18115656e+00,\n",
       "       1.52156064e-01, 3.23137687e-01, 4.74188100e-01, 8.39990623e-01,\n",
       "       3.18995009e+00, 2.05674340e-01, 4.12529586e-01, 1.40709634e+00,\n",
       "       2.85624876e-03, 8.05355061e-01, 1.64427840e-01, 8.04414062e-04,\n",
       "       4.06991414e+00, 4.28579218e-02, 1.10344627e-04, 1.13673280e-01,\n",
       "       5.02239848e-01, 5.56331601e-02, 6.66446283e-01, 1.33142483e+00,\n",
       "       2.22449013e-01, 3.11472258e-01, 1.36385592e+00, 5.89783626e-01,\n",
       "       1.38982820e-01, 1.00880978e+00, 1.67014238e+00, 4.60078967e-02,\n",
       "       2.21433450e-02, 8.85648547e-01, 4.11725599e-01, 6.42707308e-01,\n",
       "       7.93673132e-02, 9.76010767e-02, 4.72330033e-01, 2.23307031e-02,\n",
       "       9.57892631e-02, 8.93170019e-01, 1.93014987e+00, 1.58912493e+00,\n",
       "       3.55380018e-01, 3.15891277e+00, 5.79702985e-01, 7.95528352e-02,\n",
       "       1.85357227e+00, 2.56017254e-01, 1.73440147e-01, 6.40030334e-01,\n",
       "       1.54251185e-01, 1.66426736e-01, 9.46016667e-02, 8.51632351e-02,\n",
       "       3.08792201e-04, 1.22832914e-01, 1.36247319e-01, 1.98604037e-01,\n",
       "       3.13140612e+00, 4.89168868e-02, 9.23537439e-01, 1.68226450e-01,\n",
       "       3.79048573e-04, 2.24279542e+00, 3.16576576e-01, 1.18930835e-01,\n",
       "       3.39801747e+00, 3.81936656e-01, 9.38464883e-01, 7.38576229e-02,\n",
       "       1.41185856e+00, 6.45003103e-01, 1.14360001e+00, 1.30707034e-01,\n",
       "       1.60491630e+00, 4.19399469e+00, 2.64859105e-01, 1.27613537e+00,\n",
       "       4.43332340e-02, 4.34117606e-02, 5.94398734e+00, 3.29764847e-02,\n",
       "       4.31233593e-01, 1.91997738e+00, 1.55302922e+00, 8.17844612e-01,\n",
       "       2.40350680e+00, 1.62997079e-03, 6.26883476e-02, 1.31577826e+00,\n",
       "       8.66952950e-02, 4.44411717e+00, 1.17609540e-01, 7.93884873e-01,\n",
       "       1.00297821e+00, 6.51104731e-02, 2.83168850e-03, 1.57141812e+00,\n",
       "       1.27674007e-01, 1.21191855e-01, 7.35733838e-01, 2.36655136e+00,\n",
       "       4.75005950e-01, 2.83409499e+00, 4.79875502e-02, 8.72796213e-02,\n",
       "       2.56106360e-01, 1.58943975e-01, 3.25458352e-01, 1.88160196e-01,\n",
       "       3.75546109e-01, 6.13999867e-02, 9.59102064e-01, 3.50741373e-01,\n",
       "       3.78257732e-01, 3.78972385e-01, 3.44796758e-01, 1.24557807e+00,\n",
       "       4.58604146e-01, 3.88986533e-01, 7.68368805e+00, 7.44863334e-01,\n",
       "       3.74434562e-01, 9.84026645e-01, 9.15861728e-02, 5.88808606e-01,\n",
       "       4.09838900e+00, 6.04413065e-02, 1.17496678e-01, 2.44290424e+00,\n",
       "       5.06657152e-01, 5.10446262e-01, 4.27627399e-02, 3.27606136e-01,\n",
       "       7.74067452e-02, 3.38551605e-01, 1.96370728e-01, 2.61821702e+00,\n",
       "       1.60874026e-01, 9.60198570e-03, 4.93106800e-01, 7.81271659e-01,\n",
       "       3.89295896e-02, 7.64750579e-01, 4.64354271e-01, 1.38135978e+00,\n",
       "       1.60231530e+00, 1.65650007e-01, 1.79688041e+00, 1.06449979e+00,\n",
       "       1.15668535e-02, 1.68327747e-03, 4.71470047e+00, 1.26396147e-01,\n",
       "       9.98180534e-02, 3.70831030e-03, 1.91419198e+00, 4.35391388e-02,\n",
       "       2.43138675e-02, 2.14528662e-01, 1.02077850e-01, 1.12723545e+00,\n",
       "       2.64008446e-02, 5.09454739e-01, 6.84614612e+00, 1.22908326e+00,\n",
       "       1.38922147e+00, 2.37082744e-01, 2.50661713e-01, 2.64444685e-01,\n",
       "       2.47811023e-01, 7.77417724e-02, 7.93862296e-01, 9.04864846e-01,\n",
       "       6.50945497e-02, 2.00351793e-01, 2.62817019e+00, 2.52259196e-02,\n",
       "       1.66035531e+00, 3.59665457e-02, 1.51744412e-01, 1.13316336e+00,\n",
       "       1.54487824e-01, 1.16952146e-01, 2.92750777e-01, 1.56210438e-01,\n",
       "       6.78190179e-02, 7.46275238e-01, 1.04491688e-03, 8.16943339e-01,\n",
       "       4.57644639e+00, 2.10537228e+00, 1.08600509e+00, 2.12666542e-01,\n",
       "       6.82592417e-01, 2.04280798e+00, 2.54511603e+00, 6.86118172e-03,\n",
       "       2.09711749e+00, 1.09833108e-01, 4.36087304e+00, 1.70084143e-02,\n",
       "       5.62460827e+00, 3.15165231e-01, 5.06358731e-01, 2.16494779e-02,\n",
       "       1.63221260e-01, 8.62544024e-02, 8.26719004e-01, 2.28644197e-02,\n",
       "       3.71247138e-01, 4.63923192e-01, 2.01455273e-03, 3.70427282e-02,\n",
       "       3.32783785e-02, 1.52783294e+00, 1.00396456e-01, 3.00024552e+00,\n",
       "       1.43873410e+00, 3.56573456e-02, 2.05448262e+00, 4.73492271e-01,\n",
       "       5.59346660e-02, 7.33075249e-01, 2.03979765e-02, 2.23182378e-01,\n",
       "       6.02168353e-03, 2.19841807e-04, 2.13316519e-03, 7.69624513e-02,\n",
       "       1.94979078e-01, 8.88969608e-01, 6.78038888e-02, 1.20337606e+00,\n",
       "       6.03519320e-01, 1.21532261e-01, 6.77729053e-01, 1.46306833e-04,\n",
       "       3.23447293e-01, 3.43617838e-01, 1.68933867e-02, 8.03514496e-02,\n",
       "       1.94567166e-02, 1.29379279e-02, 1.62351127e+00, 2.02016090e-01,\n",
       "       4.41554383e-01, 4.23454073e+00, 2.54921001e-01, 6.88436933e-01,\n",
       "       1.99331103e+00, 2.91572356e-01, 1.81031436e+00, 1.15472720e+00,\n",
       "       3.99233245e-01, 6.03279237e-02, 5.91897384e-01, 1.06829363e-03,\n",
       "       1.83831318e+00, 6.78494457e-02, 6.43051032e-04, 1.36114306e+00,\n",
       "       2.59380845e+00, 1.12493789e-01, 1.31521478e-01, 4.53321628e+00,\n",
       "       2.33127119e-01, 2.43828093e-04, 2.30056972e+00, 4.10282912e-01,\n",
       "       9.63810844e-02, 6.67627515e-02, 3.51846485e-02, 3.03977226e-02,\n",
       "       6.11963653e-03, 2.27202121e-01, 6.25436667e-01, 1.49064304e-02,\n",
       "       2.55864548e-01, 1.73528307e-02, 5.53283331e-01, 3.98494938e+00,\n",
       "       8.46409172e-02, 3.29271775e-01, 8.82708661e-01, 4.92031078e-01,\n",
       "       4.16010380e-05, 7.73014222e-01, 9.18043870e+00, 1.25732097e+00,\n",
       "       3.29085326e+00, 3.09427925e+00, 2.68051460e-01, 3.34647679e+00,\n",
       "       1.08027062e-01, 2.28401592e+00, 1.42024125e+00, 6.68155621e-01,\n",
       "       3.17707504e+00, 1.36364512e-01, 1.92630310e-02, 1.15325723e+00,\n",
       "       1.38982349e-01, 2.11720269e-01, 5.11839847e-01, 1.00737049e-01,\n",
       "       3.29920182e+00, 1.39561812e-05, 2.05666594e-02, 7.30880285e-03,\n",
       "       1.05831267e+00, 6.56797836e-01, 2.13336414e+00, 9.88826334e-01,\n",
       "       1.07184162e-04, 1.96068379e+00, 2.89687549e-01, 1.80035707e+00,\n",
       "       1.08210941e+00, 9.85094381e-01, 4.46284016e-01, 1.41830848e-01])"
      ]
     },
     "execution_count": 125,
     "metadata": {},
     "output_type": "execute_result"
    }
   ],
   "source": [
    "(np.mean(distribution)-distribution)**2"
   ]
  },
  {
   "cell_type": "code",
   "execution_count": 126,
   "metadata": {},
   "outputs": [
    {
     "data": {
      "text/plain": [
       "916.1581937706451"
      ]
     },
     "execution_count": 126,
     "metadata": {},
     "output_type": "execute_result"
    }
   ],
   "source": [
    "np.sum((np.mean(distribution)-distribution)**2)"
   ]
  },
  {
   "cell_type": "code",
   "execution_count": 127,
   "metadata": {},
   "outputs": [
    {
     "data": {
      "text/plain": [
       "0.9161581937706451"
      ]
     },
     "execution_count": 127,
     "metadata": {},
     "output_type": "execute_result"
    }
   ],
   "source": [
    "np.sum((np.mean(distribution)-distribution)**2)/len(distribution)"
   ]
  },
  {
   "cell_type": "code",
   "execution_count": 128,
   "metadata": {},
   "outputs": [
    {
     "data": {
      "text/plain": [
       "0.9571615296127635"
      ]
     },
     "execution_count": 128,
     "metadata": {},
     "output_type": "execute_result"
    }
   ],
   "source": [
    "np.sqrt(np.sum((np.mean(distribution)-distribution)**2)/len(distribution))"
   ]
  },
  {
   "cell_type": "code",
   "execution_count": 129,
   "metadata": {},
   "outputs": [
    {
     "data": {
      "text/plain": [
       "0.9571615296127635"
      ]
     },
     "execution_count": 129,
     "metadata": {},
     "output_type": "execute_result"
    }
   ],
   "source": [
    "np.std(distribution)"
   ]
  },
  {
   "cell_type": "code",
   "execution_count": 130,
   "metadata": {},
   "outputs": [
    {
     "ename": "NameError",
     "evalue": "name 'stats' is not defined",
     "output_type": "error",
     "traceback": [
      "\u001b[0;31m---------------------------------------------------------------------------\u001b[0m",
      "\u001b[0;31mNameError\u001b[0m                                 Traceback (most recent call last)",
      "\u001b[0;32m<ipython-input-130-c345fb8cf099>\u001b[0m in \u001b[0;36m<module>\u001b[0;34m\u001b[0m\n\u001b[0;32m----> 1\u001b[0;31m \u001b[0mstats\u001b[0m\u001b[0;34m.\u001b[0m\u001b[0mkurtosis\u001b[0m\u001b[0;34m(\u001b[0m\u001b[0mdistribution\u001b[0m\u001b[0;34m)\u001b[0m\u001b[0;34m\u001b[0m\u001b[0;34m\u001b[0m\u001b[0m\n\u001b[0m",
      "\u001b[0;31mNameError\u001b[0m: name 'stats' is not defined"
     ]
    }
   ],
   "source": [
    "stats.kurtosis(distribution)"
   ]
  },
  {
   "cell_type": "code",
   "execution_count": null,
   "metadata": {},
   "outputs": [],
   "source": []
  }
 ],
 "metadata": {
  "kernelspec": {
   "display_name": "Python 3",
   "language": "python",
   "name": "python3"
  },
  "language_info": {
   "codemirror_mode": {
    "name": "ipython",
    "version": 3
   },
   "file_extension": ".py",
   "mimetype": "text/x-python",
   "name": "python",
   "nbconvert_exporter": "python",
   "pygments_lexer": "ipython3",
   "version": "3.7.1"
  }
 },
 "nbformat": 4,
 "nbformat_minor": 2
}
