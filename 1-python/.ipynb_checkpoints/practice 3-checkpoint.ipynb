{
 "cells": [
  {
   "cell_type": "code",
   "execution_count": 1,
   "metadata": {},
   "outputs": [],
   "source": [
    "#from plotly.offline import download_plotlyjs, init_notebook_mode, plot, iplot\n",
    "import matplotlib.pyplot as plt\n",
    "#import plotly.graph_objs as go\n",
    "import scipy.stats as stats\n",
    "import seaborn as sns\n",
    "import pandas as pd\n",
    "import numpy as np\n",
    "import matplotlib\n",
    "import warnings\n",
    "import sklearn\n",
    "import scipy\n",
    "import json\n",
    "import sys\n",
    "import csv\n",
    "import os\n",
    "#import plotly.plotly as py"
   ]
  },
  {
   "cell_type": "code",
   "execution_count": 2,
   "metadata": {},
   "outputs": [
    {
     "name": "stdout",
     "output_type": "stream",
     "text": [
      "matplotlib: 3.0.2\n",
      "sklearn: 0.20.1\n",
      "scipy: 1.1.0\n",
      "seaborn: 0.9.0\n",
      "pandas: 0.23.4\n",
      "numpy: 1.15.4\n",
      "Python: 3.7.1 (default, Dec 14 2018, 19:28:38) \n",
      "[GCC 7.3.0]\n"
     ]
    }
   ],
   "source": [
    "print('matplotlib: {}'.format(matplotlib.__version__))\n",
    "print('sklearn: {}'.format(sklearn.__version__))\n",
    "print('scipy: {}'.format(scipy.__version__))\n",
    "print('seaborn: {}'.format(sns.__version__))\n",
    "print('pandas: {}'.format(pd.__version__))\n",
    "print('numpy: {}'.format(np.__version__))\n",
    "print('Python: {}'.format(sys.version))"
   ]
  },
  {
   "cell_type": "code",
   "execution_count": 3,
   "metadata": {},
   "outputs": [
    {
     "data": {
      "text/plain": [
       "'%.2f'"
      ]
     },
     "execution_count": 3,
     "metadata": {},
     "output_type": "execute_result"
    }
   ],
   "source": [
    "warnings.filterwarnings('ignore')\n",
    "sns.set(color_codes=True)\n",
    "plt.style.available\n",
    "%matplotlib inline\n",
    "%precision 2"
   ]
  },
  {
   "cell_type": "code",
   "execution_count": 4,
   "metadata": {},
   "outputs": [
    {
     "data": {
      "text/html": [
       "<div>\n",
       "<style scoped>\n",
       "    .dataframe tbody tr th:only-of-type {\n",
       "        vertical-align: middle;\n",
       "    }\n",
       "\n",
       "    .dataframe tbody tr th {\n",
       "        vertical-align: top;\n",
       "    }\n",
       "\n",
       "    .dataframe thead th {\n",
       "        text-align: right;\n",
       "    }\n",
       "</style>\n",
       "<table border=\"1\" class=\"dataframe\">\n",
       "  <thead>\n",
       "    <tr style=\"text-align: right;\">\n",
       "      <th></th>\n",
       "      <th>PassengerId</th>\n",
       "      <th>Survived</th>\n",
       "      <th>Pclass</th>\n",
       "      <th>Name</th>\n",
       "      <th>Sex</th>\n",
       "      <th>Age</th>\n",
       "      <th>SibSp</th>\n",
       "      <th>Parch</th>\n",
       "      <th>Ticket</th>\n",
       "      <th>Fare</th>\n",
       "      <th>Cabin</th>\n",
       "      <th>Embarked</th>\n",
       "    </tr>\n",
       "  </thead>\n",
       "  <tbody>\n",
       "    <tr>\n",
       "      <th>0</th>\n",
       "      <td>1</td>\n",
       "      <td>0</td>\n",
       "      <td>3</td>\n",
       "      <td>Braund, Mr. Owen Harris</td>\n",
       "      <td>male</td>\n",
       "      <td>22.0</td>\n",
       "      <td>1</td>\n",
       "      <td>0</td>\n",
       "      <td>A/5 21171</td>\n",
       "      <td>7.2500</td>\n",
       "      <td>NaN</td>\n",
       "      <td>S</td>\n",
       "    </tr>\n",
       "    <tr>\n",
       "      <th>1</th>\n",
       "      <td>2</td>\n",
       "      <td>1</td>\n",
       "      <td>1</td>\n",
       "      <td>Cumings, Mrs. John Bradley (Florence Briggs Th...</td>\n",
       "      <td>female</td>\n",
       "      <td>38.0</td>\n",
       "      <td>1</td>\n",
       "      <td>0</td>\n",
       "      <td>PC 17599</td>\n",
       "      <td>71.2833</td>\n",
       "      <td>C85</td>\n",
       "      <td>C</td>\n",
       "    </tr>\n",
       "    <tr>\n",
       "      <th>2</th>\n",
       "      <td>3</td>\n",
       "      <td>1</td>\n",
       "      <td>3</td>\n",
       "      <td>Heikkinen, Miss. Laina</td>\n",
       "      <td>female</td>\n",
       "      <td>26.0</td>\n",
       "      <td>0</td>\n",
       "      <td>0</td>\n",
       "      <td>STON/O2. 3101282</td>\n",
       "      <td>7.9250</td>\n",
       "      <td>NaN</td>\n",
       "      <td>S</td>\n",
       "    </tr>\n",
       "    <tr>\n",
       "      <th>3</th>\n",
       "      <td>4</td>\n",
       "      <td>1</td>\n",
       "      <td>1</td>\n",
       "      <td>Futrelle, Mrs. Jacques Heath (Lily May Peel)</td>\n",
       "      <td>female</td>\n",
       "      <td>35.0</td>\n",
       "      <td>1</td>\n",
       "      <td>0</td>\n",
       "      <td>113803</td>\n",
       "      <td>53.1000</td>\n",
       "      <td>C123</td>\n",
       "      <td>S</td>\n",
       "    </tr>\n",
       "    <tr>\n",
       "      <th>4</th>\n",
       "      <td>5</td>\n",
       "      <td>0</td>\n",
       "      <td>3</td>\n",
       "      <td>Allen, Mr. William Henry</td>\n",
       "      <td>male</td>\n",
       "      <td>35.0</td>\n",
       "      <td>0</td>\n",
       "      <td>0</td>\n",
       "      <td>373450</td>\n",
       "      <td>8.0500</td>\n",
       "      <td>NaN</td>\n",
       "      <td>S</td>\n",
       "    </tr>\n",
       "  </tbody>\n",
       "</table>\n",
       "</div>"
      ],
      "text/plain": [
       "   PassengerId  Survived  Pclass  \\\n",
       "0            1         0       3   \n",
       "1            2         1       1   \n",
       "2            3         1       3   \n",
       "3            4         1       1   \n",
       "4            5         0       3   \n",
       "\n",
       "                                                Name     Sex   Age  SibSp  \\\n",
       "0                            Braund, Mr. Owen Harris    male  22.0      1   \n",
       "1  Cumings, Mrs. John Bradley (Florence Briggs Th...  female  38.0      1   \n",
       "2                             Heikkinen, Miss. Laina  female  26.0      0   \n",
       "3       Futrelle, Mrs. Jacques Heath (Lily May Peel)  female  35.0      1   \n",
       "4                           Allen, Mr. William Henry    male  35.0      0   \n",
       "\n",
       "   Parch            Ticket     Fare Cabin Embarked  \n",
       "0      0         A/5 21171   7.2500   NaN        S  \n",
       "1      0          PC 17599  71.2833   C85        C  \n",
       "2      0  STON/O2. 3101282   7.9250   NaN        S  \n",
       "3      0            113803  53.1000  C123        S  \n",
       "4      0            373450   8.0500   NaN        S  "
      ]
     },
     "execution_count": 4,
     "metadata": {},
     "output_type": "execute_result"
    }
   ],
   "source": [
    "hp_train=pd.read_csv('train.csv')\n",
    "hp_train.head()"
   ]
  },
  {
   "cell_type": "code",
   "execution_count": 5,
   "metadata": {},
   "outputs": [
    {
     "name": "stdout",
     "output_type": "stream",
     "text": [
      "The Zen of Python, by Tim Peters\n",
      "\n",
      "Beautiful is better than ugly.\n",
      "Explicit is better than implicit.\n",
      "Simple is better than complex.\n",
      "Complex is better than complicated.\n",
      "Flat is better than nested.\n",
      "Sparse is better than dense.\n",
      "Readability counts.\n",
      "Special cases aren't special enough to break the rules.\n",
      "Although practicality beats purity.\n",
      "Errors should never pass silently.\n",
      "Unless explicitly silenced.\n",
      "In the face of ambiguity, refuse the temptation to guess.\n",
      "There should be one-- and preferably only one --obvious way to do it.\n",
      "Although that way may not be obvious at first unless you're Dutch.\n",
      "Now is better than never.\n",
      "Although never is often better than *right* now.\n",
      "If the implementation is hard to explain, it's a bad idea.\n",
      "If the implementation is easy to explain, it may be a good idea.\n",
      "Namespaces are one honking great idea -- let's do more of those!\n"
     ]
    }
   ],
   "source": [
    "import this"
   ]
  },
  {
   "cell_type": "code",
   "execution_count": 6,
   "metadata": {},
   "outputs": [],
   "source": [
    "x = 2\n",
    "y = 5\n",
    "xy = 'Hey'"
   ]
  },
  {
   "cell_type": "code",
   "execution_count": 7,
   "metadata": {},
   "outputs": [
    {
     "data": {
      "text/plain": [
       "3"
      ]
     },
     "execution_count": 7,
     "metadata": {},
     "output_type": "execute_result"
    }
   ],
   "source": [
    "def add_numbers (x, y):\n",
    "    return x + y\n",
    "add_numbers(1, 2)"
   ]
  },
  {
   "cell_type": "code",
   "execution_count": 8,
   "metadata": {},
   "outputs": [
    {
     "data": {
      "text/plain": [
       "str"
      ]
     },
     "execution_count": 8,
     "metadata": {},
     "output_type": "execute_result"
    }
   ],
   "source": [
    "type('This is a string')"
   ]
  },
  {
   "cell_type": "code",
   "execution_count": 9,
   "metadata": {},
   "outputs": [
    {
     "data": {
      "text/plain": [
       "NoneType"
      ]
     },
     "execution_count": 9,
     "metadata": {},
     "output_type": "execute_result"
    }
   ],
   "source": [
    "type(None)"
   ]
  },
  {
   "cell_type": "code",
   "execution_count": 10,
   "metadata": {},
   "outputs": [
    {
     "data": {
      "text/plain": [
       "int"
      ]
     },
     "execution_count": 10,
     "metadata": {},
     "output_type": "execute_result"
    }
   ],
   "source": [
    "type(1)"
   ]
  },
  {
   "cell_type": "code",
   "execution_count": 11,
   "metadata": {},
   "outputs": [
    {
     "data": {
      "text/plain": [
       "float"
      ]
     },
     "execution_count": 11,
     "metadata": {},
     "output_type": "execute_result"
    }
   ],
   "source": [
    "type(1.)"
   ]
  },
  {
   "cell_type": "code",
   "execution_count": 12,
   "metadata": {},
   "outputs": [
    {
     "data": {
      "text/plain": [
       "function"
      ]
     },
     "execution_count": 12,
     "metadata": {},
     "output_type": "execute_result"
    }
   ],
   "source": [
    "type(add_numbers)"
   ]
  },
  {
   "cell_type": "code",
   "execution_count": 13,
   "metadata": {},
   "outputs": [
    {
     "data": {
      "text/plain": [
       "tuple"
      ]
     },
     "execution_count": 13,
     "metadata": {},
     "output_type": "execute_result"
    }
   ],
   "source": [
    "tuple_sample = (1, 'a', 2, 'b')\n",
    "type(tuple_sample)"
   ]
  },
  {
   "cell_type": "code",
   "execution_count": 14,
   "metadata": {},
   "outputs": [
    {
     "data": {
      "text/plain": [
       "list"
      ]
     },
     "execution_count": 14,
     "metadata": {},
     "output_type": "execute_result"
    }
   ],
   "source": [
    "list_sample = [1, 'a', 2, 'b']\n",
    "type(list_sample)"
   ]
  },
  {
   "cell_type": "code",
   "execution_count": 15,
   "metadata": {},
   "outputs": [
    {
     "name": "stdout",
     "output_type": "stream",
     "text": [
      "[1, 'a', 2, 'b', 3.3]\n"
     ]
    }
   ],
   "source": [
    "list_sample.append(3.3)\n",
    "print(list_sample)"
   ]
  },
  {
   "cell_type": "code",
   "execution_count": 16,
   "metadata": {},
   "outputs": [
    {
     "name": "stdout",
     "output_type": "stream",
     "text": [
      "[1, 'a', 2, 'b', 3.3]\n",
      "[1, 'a', 2, 'b', 3.3]\n",
      "[1, 'a', 2, 'b', 3.3]\n",
      "[1, 'a', 2, 'b', 3.3]\n",
      "[1, 'a', 2, 'b', 3.3]\n"
     ]
    }
   ],
   "source": [
    "for item in list_sample:\n",
    "    print(list_sample)\n"
   ]
  },
  {
   "cell_type": "code",
   "execution_count": 17,
   "metadata": {},
   "outputs": [
    {
     "data": {
      "text/plain": [
       "list"
      ]
     },
     "execution_count": 17,
     "metadata": {},
     "output_type": "execute_result"
    }
   ],
   "source": [
    "type(list_sample)"
   ]
  },
  {
   "cell_type": "code",
   "execution_count": 18,
   "metadata": {},
   "outputs": [
    {
     "name": "stdout",
     "output_type": "stream",
     "text": [
      "1\n",
      "a\n",
      "2\n",
      "b\n",
      "3.3\n"
     ]
    }
   ],
   "source": [
    "i = 0\n",
    "while( i != len(list_sample) ):\n",
    "    print(list_sample[i])\n",
    "    i = i + 1\n"
   ]
  },
  {
   "cell_type": "code",
   "execution_count": 19,
   "metadata": {},
   "outputs": [
    {
     "name": "stdout",
     "output_type": "stream",
     "text": [
      "T\n",
      "T\n",
      "Th\n"
     ]
    }
   ],
   "source": [
    "x = 'This is a string'\n",
    "print(x[0]) #first character\n",
    "print(x[0:1]) #first character, but we have explicitly set the end character\n",
    "print(x[0:2]) #first two characters"
   ]
  },
  {
   "cell_type": "code",
   "execution_count": 20,
   "metadata": {},
   "outputs": [
    {
     "data": {
      "text/plain": [
       "'Mohamadjavad.bahmani@gmail.com'"
      ]
     },
     "execution_count": 20,
     "metadata": {},
     "output_type": "execute_result"
    }
   ],
   "source": [
    "x = {'MJ Bahmani': 'Mohamadjavad.bahmani@gmail.com', 'irmatlab': 'irmatlab.ir@gmail.com'}\n",
    "x['MJ Bahmani'] # Retrieve a value by using the indexing operator"
   ]
  },
  {
   "cell_type": "code",
   "execution_count": 21,
   "metadata": {},
   "outputs": [
    {
     "name": "stdout",
     "output_type": "stream",
     "text": [
      "MJ1\n"
     ]
    }
   ],
   "source": [
    "print('MJ' + str(1))"
   ]
  },
  {
   "cell_type": "code",
   "execution_count": 22,
   "metadata": {},
   "outputs": [],
   "source": [
    "sales_record = {\n",
    "   'price' : 3.24,\n",
    "   'num_items' : 4,\n",
    "   'person' : 'MJ'    \n",
    "}"
   ]
  },
  {
   "cell_type": "code",
   "execution_count": 23,
   "metadata": {},
   "outputs": [
    {
     "data": {
      "text/plain": [
       "dict"
      ]
     },
     "execution_count": 23,
     "metadata": {},
     "output_type": "execute_result"
    }
   ],
   "source": [
    "type(sales_record)"
   ]
  },
  {
   "cell_type": "code",
   "execution_count": 24,
   "metadata": {},
   "outputs": [
    {
     "name": "stdout",
     "output_type": "stream",
     "text": [
      "MJ bought 4 item(s) at 3.24 each for a total of 12.96\n"
     ]
    }
   ],
   "source": [
    "sales_statement = '{} bought {} item(s) at {} each for a total of {}'\n",
    "\n",
    "print(sales_statement.format(sales_record['person'],\n",
    "                             sales_record['num_items'],\n",
    "                             sales_record['price'],\n",
    "                             sales_record['num_items'] * sales_record['price']))"
   ]
  },
  {
   "cell_type": "code",
   "execution_count": 25,
   "metadata": {},
   "outputs": [
    {
     "data": {
      "text/plain": [
       "OrderedDict([('PassengerId', '2'),\n",
       "             ('Survived', '1'),\n",
       "             ('Pclass', '1'),\n",
       "             ('Name', 'Cumings, Mrs. John Bradley (Florence Briggs Thayer)'),\n",
       "             ('Sex', 'female'),\n",
       "             ('Age', '38'),\n",
       "             ('SibSp', '1'),\n",
       "             ('Parch', '0'),\n",
       "             ('Ticket', 'PC 17599'),\n",
       "             ('Fare', '71.2833'),\n",
       "             ('Cabin', 'C85'),\n",
       "             ('Embarked', 'C')])"
      ]
     },
     "execution_count": 25,
     "metadata": {},
     "output_type": "execute_result"
    }
   ],
   "source": [
    "with open('train.csv') as csvfile:\n",
    "     house_train = list(csv.DictReader(csvfile))\n",
    "        \n",
    "house_train[1]"
   ]
  },
  {
   "cell_type": "code",
   "execution_count": 26,
   "metadata": {},
   "outputs": [
    {
     "data": {
      "text/plain": [
       "PassengerId                                                    2\n",
       "Survived                                                       1\n",
       "Pclass                                                         1\n",
       "Name           Cumings, Mrs. John Bradley (Florence Briggs Th...\n",
       "Sex                                                       female\n",
       "Age                                                           38\n",
       "SibSp                                                          1\n",
       "Parch                                                          0\n",
       "Ticket                                                  PC 17599\n",
       "Fare                                                     71.2833\n",
       "Cabin                                                        C85\n",
       "Embarked                                                       C\n",
       "Name: 1, dtype: object"
      ]
     },
     "execution_count": 26,
     "metadata": {},
     "output_type": "execute_result"
    }
   ],
   "source": [
    "hp_train.iloc[1]"
   ]
  },
  {
   "cell_type": "code",
   "execution_count": 27,
   "metadata": {},
   "outputs": [
    {
     "data": {
      "text/plain": [
       "list"
      ]
     },
     "execution_count": 27,
     "metadata": {},
     "output_type": "execute_result"
    }
   ],
   "source": [
    "type(house_train)"
   ]
  },
  {
   "cell_type": "code",
   "execution_count": 28,
   "metadata": {},
   "outputs": [
    {
     "data": {
      "text/plain": [
       "891"
      ]
     },
     "execution_count": 28,
     "metadata": {},
     "output_type": "execute_result"
    }
   ],
   "source": [
    "len(house_train)"
   ]
  },
  {
   "cell_type": "code",
   "execution_count": 29,
   "metadata": {},
   "outputs": [
    {
     "data": {
      "text/plain": [
       "odict_keys(['PassengerId', 'Survived', 'Pclass', 'Name', 'Sex', 'Age', 'SibSp', 'Parch', 'Ticket', 'Fare', 'Cabin', 'Embarked'])"
      ]
     },
     "execution_count": 29,
     "metadata": {},
     "output_type": "execute_result"
    }
   ],
   "source": [
    "house_train[0].keys()"
   ]
  },
  {
   "cell_type": "code",
   "execution_count": 30,
   "metadata": {},
   "outputs": [
    {
     "data": {
      "text/plain": [
       "32.20"
      ]
     },
     "execution_count": 30,
     "metadata": {},
     "output_type": "execute_result"
    }
   ],
   "source": [
    "sum(float(d['Fare']) for d in house_train)/ len(house_train) \n"
   ]
  },
  {
   "cell_type": "code",
   "execution_count": 31,
   "metadata": {},
   "outputs": [
    {
     "name": "stdout",
     "output_type": "stream",
     "text": [
      "7.25\n",
      "71.2833\n",
      "7.925\n",
      "53.1\n",
      "8.05\n",
      "8.4583\n",
      "51.8625\n",
      "21.075\n",
      "11.1333\n",
      "30.0708\n",
      "16.7\n",
      "26.55\n",
      "8.05\n",
      "31.275\n",
      "7.8542\n",
      "16\n",
      "29.125\n",
      "13\n",
      "18\n",
      "7.225\n",
      "26\n",
      "13\n",
      "8.0292\n",
      "35.5\n",
      "21.075\n",
      "31.3875\n",
      "7.225\n",
      "263\n",
      "7.8792\n",
      "7.8958\n",
      "27.7208\n",
      "146.5208\n",
      "7.75\n",
      "10.5\n",
      "82.1708\n",
      "52\n",
      "7.2292\n",
      "8.05\n",
      "18\n",
      "11.2417\n",
      "9.475\n",
      "21\n",
      "7.8958\n",
      "41.5792\n",
      "7.8792\n",
      "8.05\n",
      "15.5\n",
      "7.75\n",
      "21.6792\n",
      "17.8\n",
      "39.6875\n",
      "7.8\n",
      "76.7292\n",
      "26\n",
      "61.9792\n",
      "35.5\n",
      "10.5\n",
      "7.2292\n",
      "27.75\n",
      "46.9\n",
      "7.2292\n",
      "80\n",
      "83.475\n",
      "27.9\n",
      "27.7208\n",
      "15.2458\n",
      "10.5\n",
      "8.1583\n",
      "7.925\n",
      "8.6625\n",
      "10.5\n",
      "46.9\n",
      "73.5\n",
      "14.4542\n",
      "56.4958\n",
      "7.65\n",
      "7.8958\n",
      "8.05\n",
      "29\n",
      "12.475\n",
      "9\n",
      "9.5\n",
      "7.7875\n",
      "47.1\n",
      "10.5\n",
      "15.85\n",
      "34.375\n",
      "8.05\n",
      "263\n",
      "8.05\n",
      "8.05\n",
      "7.8542\n",
      "61.175\n",
      "20.575\n",
      "7.25\n",
      "8.05\n",
      "34.6542\n",
      "63.3583\n",
      "23\n",
      "26\n",
      "7.8958\n",
      "7.8958\n",
      "77.2875\n",
      "8.6542\n",
      "7.925\n",
      "7.8958\n",
      "7.65\n",
      "7.775\n",
      "7.8958\n",
      "24.15\n",
      "52\n",
      "14.4542\n",
      "8.05\n",
      "9.825\n",
      "14.4583\n",
      "7.925\n",
      "7.75\n",
      "21\n",
      "247.5208\n",
      "31.275\n",
      "73.5\n",
      "8.05\n",
      "30.0708\n",
      "13\n",
      "77.2875\n",
      "11.2417\n",
      "7.75\n",
      "7.1417\n",
      "22.3583\n",
      "6.975\n",
      "7.8958\n",
      "7.05\n",
      "14.5\n",
      "26\n",
      "13\n",
      "15.0458\n",
      "26.2833\n",
      "53.1\n",
      "9.2167\n",
      "79.2\n",
      "15.2458\n",
      "7.75\n",
      "15.85\n",
      "6.75\n",
      "11.5\n",
      "36.75\n",
      "7.7958\n",
      "34.375\n",
      "26\n",
      "13\n",
      "12.525\n",
      "66.6\n",
      "8.05\n",
      "14.5\n",
      "7.3125\n",
      "61.3792\n",
      "7.7333\n",
      "8.05\n",
      "8.6625\n",
      "69.55\n",
      "16.1\n",
      "15.75\n",
      "7.775\n",
      "8.6625\n",
      "39.6875\n",
      "20.525\n",
      "55\n",
      "27.9\n",
      "25.925\n",
      "56.4958\n",
      "33.5\n",
      "29.125\n",
      "11.1333\n",
      "7.925\n",
      "30.6958\n",
      "7.8542\n",
      "25.4667\n",
      "28.7125\n",
      "13\n",
      "0\n",
      "69.55\n",
      "15.05\n",
      "31.3875\n",
      "39\n",
      "22.025\n",
      "50\n",
      "15.5\n",
      "26.55\n",
      "15.5\n",
      "7.8958\n",
      "13\n",
      "13\n",
      "7.8542\n",
      "26\n",
      "27.7208\n",
      "146.5208\n",
      "7.75\n",
      "8.4042\n",
      "7.75\n",
      "13\n",
      "9.5\n",
      "69.55\n",
      "6.4958\n",
      "7.225\n",
      "8.05\n",
      "10.4625\n",
      "15.85\n",
      "18.7875\n",
      "7.75\n",
      "31\n",
      "7.05\n",
      "21\n",
      "7.25\n",
      "13\n",
      "7.75\n",
      "113.275\n",
      "7.925\n",
      "27\n",
      "76.2917\n",
      "10.5\n",
      "8.05\n",
      "13\n",
      "8.05\n",
      "7.8958\n",
      "90\n",
      "9.35\n",
      "10.5\n",
      "7.25\n",
      "13\n",
      "25.4667\n",
      "83.475\n",
      "7.775\n",
      "13.5\n",
      "31.3875\n",
      "10.5\n",
      "7.55\n",
      "26\n",
      "26.25\n",
      "10.5\n",
      "12.275\n",
      "14.4542\n",
      "15.5\n",
      "10.5\n",
      "7.125\n",
      "7.225\n",
      "90\n",
      "7.775\n",
      "14.5\n",
      "52.5542\n",
      "26\n",
      "7.25\n",
      "10.4625\n",
      "26.55\n",
      "16.1\n",
      "20.2125\n",
      "15.2458\n",
      "79.2\n",
      "86.5\n",
      "512.3292\n",
      "26\n",
      "7.75\n",
      "31.3875\n",
      "79.65\n",
      "0\n",
      "7.75\n",
      "10.5\n",
      "39.6875\n",
      "7.775\n",
      "153.4625\n",
      "135.6333\n",
      "31\n",
      "0\n",
      "19.5\n",
      "29.7\n",
      "7.75\n",
      "77.9583\n",
      "7.75\n",
      "0\n",
      "29.125\n",
      "20.25\n",
      "7.75\n",
      "7.8542\n",
      "9.5\n",
      "8.05\n",
      "26\n",
      "8.6625\n",
      "9.5\n",
      "7.8958\n",
      "13\n",
      "7.75\n",
      "78.85\n",
      "91.0792\n",
      "12.875\n",
      "8.85\n",
      "7.8958\n",
      "27.7208\n",
      "7.2292\n",
      "151.55\n",
      "30.5\n",
      "247.5208\n",
      "7.75\n",
      "23.25\n",
      "0\n",
      "12.35\n",
      "8.05\n",
      "151.55\n",
      "110.8833\n",
      "108.9\n",
      "24\n",
      "56.9292\n",
      "83.1583\n",
      "262.375\n",
      "26\n",
      "7.8958\n",
      "26.25\n",
      "7.8542\n",
      "26\n",
      "14\n",
      "164.8667\n",
      "134.5\n",
      "7.25\n",
      "7.8958\n",
      "12.35\n",
      "29\n",
      "69.55\n",
      "135.6333\n",
      "6.2375\n",
      "13\n",
      "20.525\n",
      "57.9792\n",
      "23.25\n",
      "28.5\n",
      "153.4625\n",
      "18\n",
      "133.65\n",
      "7.8958\n",
      "66.6\n",
      "134.5\n",
      "8.05\n",
      "35.5\n",
      "26\n",
      "263\n",
      "13\n",
      "13\n",
      "13\n",
      "13\n",
      "13\n",
      "16.1\n",
      "15.9\n",
      "8.6625\n",
      "9.225\n",
      "35\n",
      "7.2292\n",
      "17.8\n",
      "7.225\n",
      "9.5\n",
      "55\n",
      "13\n",
      "7.8792\n",
      "7.8792\n",
      "27.9\n",
      "27.7208\n",
      "14.4542\n",
      "7.05\n",
      "15.5\n",
      "7.25\n",
      "75.25\n",
      "7.2292\n",
      "7.75\n",
      "69.3\n",
      "55.4417\n",
      "6.4958\n",
      "8.05\n",
      "135.6333\n",
      "21.075\n",
      "82.1708\n",
      "7.25\n",
      "211.5\n",
      "4.0125\n",
      "7.775\n",
      "227.525\n",
      "15.7417\n",
      "7.925\n",
      "52\n",
      "7.8958\n",
      "73.5\n",
      "46.9\n",
      "13\n",
      "7.7292\n",
      "12\n",
      "120\n",
      "7.7958\n",
      "7.925\n",
      "113.275\n",
      "16.7\n",
      "7.7958\n",
      "7.8542\n",
      "26\n",
      "10.5\n",
      "12.65\n",
      "7.925\n",
      "8.05\n",
      "9.825\n",
      "15.85\n",
      "8.6625\n",
      "21\n",
      "7.75\n",
      "18.75\n",
      "7.775\n",
      "25.4667\n",
      "7.8958\n",
      "6.8583\n",
      "90\n",
      "0\n",
      "7.925\n",
      "8.05\n",
      "32.5\n",
      "13\n",
      "13\n",
      "24.15\n",
      "7.8958\n",
      "7.7333\n",
      "7.875\n",
      "14.4\n",
      "20.2125\n",
      "7.25\n",
      "26\n",
      "26\n",
      "7.75\n",
      "8.05\n",
      "26.55\n",
      "16.1\n",
      "26\n",
      "7.125\n",
      "55.9\n",
      "120\n",
      "34.375\n",
      "18.75\n",
      "263\n",
      "10.5\n",
      "26.25\n",
      "9.5\n",
      "7.775\n",
      "13\n",
      "8.1125\n",
      "81.8583\n",
      "19.5\n",
      "26.55\n",
      "19.2583\n",
      "30.5\n",
      "27.75\n",
      "19.9667\n",
      "27.75\n",
      "89.1042\n",
      "8.05\n",
      "7.8958\n",
      "26.55\n",
      "51.8625\n",
      "10.5\n",
      "7.75\n",
      "26.55\n",
      "8.05\n",
      "38.5\n",
      "13\n",
      "8.05\n",
      "7.05\n",
      "0\n",
      "26.55\n",
      "7.725\n",
      "19.2583\n",
      "7.25\n",
      "8.6625\n",
      "27.75\n",
      "13.7917\n",
      "9.8375\n",
      "52\n",
      "21\n",
      "7.0458\n",
      "7.5208\n",
      "12.2875\n",
      "46.9\n",
      "0\n",
      "8.05\n",
      "9.5875\n",
      "91.0792\n",
      "25.4667\n",
      "90\n",
      "29.7\n",
      "8.05\n",
      "15.9\n",
      "19.9667\n",
      "7.25\n",
      "30.5\n",
      "49.5042\n",
      "8.05\n",
      "14.4583\n",
      "78.2667\n",
      "15.1\n",
      "151.55\n",
      "7.7958\n",
      "8.6625\n",
      "7.75\n",
      "7.6292\n",
      "9.5875\n",
      "86.5\n",
      "108.9\n",
      "26\n",
      "26.55\n",
      "22.525\n",
      "56.4958\n",
      "7.75\n",
      "8.05\n",
      "26.2875\n",
      "59.4\n",
      "7.4958\n",
      "34.0208\n",
      "10.5\n",
      "24.15\n",
      "26\n",
      "7.8958\n",
      "93.5\n",
      "7.8958\n",
      "7.225\n",
      "57.9792\n",
      "7.2292\n",
      "7.75\n",
      "10.5\n",
      "221.7792\n",
      "7.925\n",
      "11.5\n",
      "26\n",
      "7.2292\n",
      "7.2292\n",
      "22.3583\n",
      "8.6625\n",
      "26.25\n",
      "26.55\n",
      "106.425\n",
      "14.5\n",
      "49.5\n",
      "71\n",
      "31.275\n",
      "31.275\n",
      "26\n",
      "106.425\n",
      "26\n",
      "26\n",
      "13.8625\n",
      "20.525\n",
      "36.75\n",
      "110.8833\n",
      "26\n",
      "7.8292\n",
      "7.225\n",
      "7.775\n",
      "26.55\n",
      "39.6\n",
      "227.525\n",
      "79.65\n",
      "17.4\n",
      "7.75\n",
      "7.8958\n",
      "13.5\n",
      "8.05\n",
      "8.05\n",
      "24.15\n",
      "7.8958\n",
      "21.075\n",
      "7.2292\n",
      "7.8542\n",
      "10.5\n",
      "51.4792\n",
      "26.3875\n",
      "7.75\n",
      "8.05\n",
      "14.5\n",
      "13\n",
      "55.9\n",
      "14.4583\n",
      "7.925\n",
      "30\n",
      "110.8833\n",
      "26\n",
      "40.125\n",
      "8.7125\n",
      "79.65\n",
      "15\n",
      "79.2\n",
      "8.05\n",
      "8.05\n",
      "7.125\n",
      "78.2667\n",
      "7.25\n",
      "7.75\n",
      "26\n",
      "24.15\n",
      "33\n",
      "0\n",
      "7.225\n",
      "56.9292\n",
      "27\n",
      "7.8958\n",
      "42.4\n",
      "8.05\n",
      "26.55\n",
      "15.55\n",
      "7.8958\n",
      "30.5\n",
      "41.5792\n",
      "153.4625\n",
      "31.275\n",
      "7.05\n",
      "15.5\n",
      "7.75\n",
      "8.05\n",
      "65\n",
      "14.4\n",
      "16.1\n",
      "39\n",
      "10.5\n",
      "14.4542\n",
      "52.5542\n",
      "15.7417\n",
      "7.8542\n",
      "16.1\n",
      "32.3208\n",
      "12.35\n",
      "77.9583\n",
      "7.8958\n",
      "7.7333\n",
      "30\n",
      "7.0542\n",
      "30.5\n",
      "0\n",
      "27.9\n",
      "13\n",
      "7.925\n",
      "26.25\n",
      "39.6875\n",
      "16.1\n",
      "7.8542\n",
      "69.3\n",
      "27.9\n",
      "56.4958\n",
      "19.2583\n",
      "76.7292\n",
      "7.8958\n",
      "35.5\n",
      "7.55\n",
      "7.55\n",
      "7.8958\n",
      "23\n",
      "8.4333\n",
      "7.8292\n",
      "6.75\n",
      "73.5\n",
      "7.8958\n",
      "15.5\n",
      "13\n",
      "113.275\n",
      "133.65\n",
      "7.225\n",
      "25.5875\n",
      "7.4958\n",
      "7.925\n",
      "73.5\n",
      "13\n",
      "7.775\n",
      "8.05\n",
      "52\n",
      "39\n",
      "52\n",
      "10.5\n",
      "13\n",
      "0\n",
      "7.775\n",
      "8.05\n",
      "9.8417\n",
      "46.9\n",
      "512.3292\n",
      "8.1375\n",
      "76.7292\n",
      "9.225\n",
      "46.9\n",
      "39\n",
      "41.5792\n",
      "39.6875\n",
      "10.1708\n",
      "7.7958\n",
      "211.3375\n",
      "57\n",
      "13.4167\n",
      "56.4958\n",
      "7.225\n",
      "26.55\n",
      "13.5\n",
      "8.05\n",
      "7.7333\n",
      "110.8833\n",
      "7.65\n",
      "227.525\n",
      "26.2875\n",
      "14.4542\n",
      "7.7417\n",
      "7.8542\n",
      "26\n",
      "13.5\n",
      "26.2875\n",
      "151.55\n",
      "15.2458\n",
      "49.5042\n",
      "26.55\n",
      "52\n",
      "9.4833\n",
      "13\n",
      "7.65\n",
      "227.525\n",
      "10.5\n",
      "15.5\n",
      "7.775\n",
      "33\n",
      "7.0542\n",
      "13\n",
      "13\n",
      "53.1\n",
      "8.6625\n",
      "21\n",
      "7.7375\n",
      "26\n",
      "7.925\n",
      "211.3375\n",
      "18.7875\n",
      "0\n",
      "13\n",
      "13\n",
      "16.1\n",
      "34.375\n",
      "512.3292\n",
      "7.8958\n",
      "7.8958\n",
      "30\n",
      "78.85\n",
      "262.375\n",
      "16.1\n",
      "7.925\n",
      "71\n",
      "20.25\n",
      "13\n",
      "53.1\n",
      "7.75\n",
      "23\n",
      "12.475\n",
      "9.5\n",
      "7.8958\n",
      "65\n",
      "14.5\n",
      "7.7958\n",
      "11.5\n",
      "8.05\n",
      "86.5\n",
      "14.5\n",
      "7.125\n",
      "7.2292\n",
      "120\n",
      "7.775\n",
      "77.9583\n",
      "39.6\n",
      "7.75\n",
      "24.15\n",
      "8.3625\n",
      "9.5\n",
      "7.8542\n",
      "10.5\n",
      "7.225\n",
      "23\n",
      "7.75\n",
      "7.75\n",
      "12.475\n",
      "7.7375\n",
      "211.3375\n",
      "7.2292\n",
      "57\n",
      "30\n",
      "23.45\n",
      "7.05\n",
      "7.25\n",
      "7.4958\n",
      "29.125\n",
      "20.575\n",
      "79.2\n",
      "7.75\n",
      "26\n",
      "69.55\n",
      "30.6958\n",
      "7.8958\n",
      "13\n",
      "25.9292\n",
      "8.6833\n",
      "7.2292\n",
      "24.15\n",
      "13\n",
      "26.25\n",
      "120\n",
      "8.5167\n",
      "6.975\n",
      "7.775\n",
      "0\n",
      "7.775\n",
      "13\n",
      "53.1\n",
      "7.8875\n",
      "24.15\n",
      "10.5\n",
      "31.275\n",
      "8.05\n",
      "0\n",
      "7.925\n",
      "37.0042\n",
      "6.45\n",
      "27.9\n",
      "93.5\n",
      "8.6625\n",
      "0\n",
      "12.475\n",
      "39.6875\n",
      "6.95\n",
      "56.4958\n",
      "37.0042\n",
      "7.75\n",
      "80\n",
      "14.4542\n",
      "18.75\n",
      "7.2292\n",
      "7.8542\n",
      "8.3\n",
      "83.1583\n",
      "8.6625\n",
      "8.05\n",
      "56.4958\n",
      "29.7\n",
      "7.925\n",
      "10.5\n",
      "31\n",
      "6.4375\n",
      "8.6625\n",
      "7.55\n",
      "69.55\n",
      "7.8958\n",
      "33\n",
      "89.1042\n",
      "31.275\n",
      "7.775\n",
      "15.2458\n",
      "39.4\n",
      "26\n",
      "9.35\n",
      "164.8667\n",
      "26.55\n",
      "19.2583\n",
      "7.2292\n",
      "14.1083\n",
      "11.5\n",
      "25.9292\n",
      "69.55\n",
      "13\n",
      "13\n",
      "13.8583\n",
      "50.4958\n",
      "9.5\n",
      "11.1333\n",
      "7.8958\n",
      "52.5542\n",
      "5\n",
      "9\n",
      "24\n",
      "7.225\n",
      "9.8458\n",
      "7.8958\n",
      "7.8958\n",
      "83.1583\n",
      "26\n",
      "7.8958\n",
      "10.5167\n",
      "10.5\n",
      "7.05\n",
      "29.125\n",
      "13\n",
      "30\n",
      "23.45\n",
      "30\n",
      "7.75\n"
     ]
    }
   ],
   "source": [
    "for d in house_train:\n",
    "    print(d['Fare'])\n"
   ]
  },
  {
   "cell_type": "code",
   "execution_count": 32,
   "metadata": {},
   "outputs": [
    {
     "data": {
      "text/html": [
       "<div>\n",
       "<style scoped>\n",
       "    .dataframe tbody tr th:only-of-type {\n",
       "        vertical-align: middle;\n",
       "    }\n",
       "\n",
       "    .dataframe tbody tr th {\n",
       "        vertical-align: top;\n",
       "    }\n",
       "\n",
       "    .dataframe thead th {\n",
       "        text-align: right;\n",
       "    }\n",
       "</style>\n",
       "<table border=\"1\" class=\"dataframe\">\n",
       "  <thead>\n",
       "    <tr style=\"text-align: right;\">\n",
       "      <th></th>\n",
       "      <th>0</th>\n",
       "      <th>1</th>\n",
       "      <th>2</th>\n",
       "      <th>3</th>\n",
       "      <th>4</th>\n",
       "      <th>5</th>\n",
       "      <th>6</th>\n",
       "      <th>7</th>\n",
       "      <th>8</th>\n",
       "      <th>9</th>\n",
       "      <th>...</th>\n",
       "      <th>881</th>\n",
       "      <th>882</th>\n",
       "      <th>883</th>\n",
       "      <th>884</th>\n",
       "      <th>885</th>\n",
       "      <th>886</th>\n",
       "      <th>887</th>\n",
       "      <th>888</th>\n",
       "      <th>889</th>\n",
       "      <th>890</th>\n",
       "    </tr>\n",
       "  </thead>\n",
       "  <tbody>\n",
       "    <tr>\n",
       "      <th>PassengerId</th>\n",
       "      <td>1</td>\n",
       "      <td>2</td>\n",
       "      <td>3</td>\n",
       "      <td>4</td>\n",
       "      <td>5</td>\n",
       "      <td>6</td>\n",
       "      <td>7</td>\n",
       "      <td>8</td>\n",
       "      <td>9</td>\n",
       "      <td>10</td>\n",
       "      <td>...</td>\n",
       "      <td>882</td>\n",
       "      <td>883</td>\n",
       "      <td>884</td>\n",
       "      <td>885</td>\n",
       "      <td>886</td>\n",
       "      <td>887</td>\n",
       "      <td>888</td>\n",
       "      <td>889</td>\n",
       "      <td>890</td>\n",
       "      <td>891</td>\n",
       "    </tr>\n",
       "    <tr>\n",
       "      <th>Survived</th>\n",
       "      <td>0</td>\n",
       "      <td>1</td>\n",
       "      <td>1</td>\n",
       "      <td>1</td>\n",
       "      <td>0</td>\n",
       "      <td>0</td>\n",
       "      <td>0</td>\n",
       "      <td>0</td>\n",
       "      <td>1</td>\n",
       "      <td>1</td>\n",
       "      <td>...</td>\n",
       "      <td>0</td>\n",
       "      <td>0</td>\n",
       "      <td>0</td>\n",
       "      <td>0</td>\n",
       "      <td>0</td>\n",
       "      <td>0</td>\n",
       "      <td>1</td>\n",
       "      <td>0</td>\n",
       "      <td>1</td>\n",
       "      <td>0</td>\n",
       "    </tr>\n",
       "    <tr>\n",
       "      <th>Pclass</th>\n",
       "      <td>3</td>\n",
       "      <td>1</td>\n",
       "      <td>3</td>\n",
       "      <td>1</td>\n",
       "      <td>3</td>\n",
       "      <td>3</td>\n",
       "      <td>1</td>\n",
       "      <td>3</td>\n",
       "      <td>3</td>\n",
       "      <td>2</td>\n",
       "      <td>...</td>\n",
       "      <td>3</td>\n",
       "      <td>3</td>\n",
       "      <td>2</td>\n",
       "      <td>3</td>\n",
       "      <td>3</td>\n",
       "      <td>2</td>\n",
       "      <td>1</td>\n",
       "      <td>3</td>\n",
       "      <td>1</td>\n",
       "      <td>3</td>\n",
       "    </tr>\n",
       "    <tr>\n",
       "      <th>Name</th>\n",
       "      <td>Braund, Mr. Owen Harris</td>\n",
       "      <td>Cumings, Mrs. John Bradley (Florence Briggs Th...</td>\n",
       "      <td>Heikkinen, Miss. Laina</td>\n",
       "      <td>Futrelle, Mrs. Jacques Heath (Lily May Peel)</td>\n",
       "      <td>Allen, Mr. William Henry</td>\n",
       "      <td>Moran, Mr. James</td>\n",
       "      <td>McCarthy, Mr. Timothy J</td>\n",
       "      <td>Palsson, Master. Gosta Leonard</td>\n",
       "      <td>Johnson, Mrs. Oscar W (Elisabeth Vilhelmina Berg)</td>\n",
       "      <td>Nasser, Mrs. Nicholas (Adele Achem)</td>\n",
       "      <td>...</td>\n",
       "      <td>Markun, Mr. Johann</td>\n",
       "      <td>Dahlberg, Miss. Gerda Ulrika</td>\n",
       "      <td>Banfield, Mr. Frederick James</td>\n",
       "      <td>Sutehall, Mr. Henry Jr</td>\n",
       "      <td>Rice, Mrs. William (Margaret Norton)</td>\n",
       "      <td>Montvila, Rev. Juozas</td>\n",
       "      <td>Graham, Miss. Margaret Edith</td>\n",
       "      <td>Johnston, Miss. Catherine Helen \"Carrie\"</td>\n",
       "      <td>Behr, Mr. Karl Howell</td>\n",
       "      <td>Dooley, Mr. Patrick</td>\n",
       "    </tr>\n",
       "    <tr>\n",
       "      <th>Sex</th>\n",
       "      <td>male</td>\n",
       "      <td>female</td>\n",
       "      <td>female</td>\n",
       "      <td>female</td>\n",
       "      <td>male</td>\n",
       "      <td>male</td>\n",
       "      <td>male</td>\n",
       "      <td>male</td>\n",
       "      <td>female</td>\n",
       "      <td>female</td>\n",
       "      <td>...</td>\n",
       "      <td>male</td>\n",
       "      <td>female</td>\n",
       "      <td>male</td>\n",
       "      <td>male</td>\n",
       "      <td>female</td>\n",
       "      <td>male</td>\n",
       "      <td>female</td>\n",
       "      <td>female</td>\n",
       "      <td>male</td>\n",
       "      <td>male</td>\n",
       "    </tr>\n",
       "    <tr>\n",
       "      <th>Age</th>\n",
       "      <td>22</td>\n",
       "      <td>38</td>\n",
       "      <td>26</td>\n",
       "      <td>35</td>\n",
       "      <td>35</td>\n",
       "      <td>NaN</td>\n",
       "      <td>54</td>\n",
       "      <td>2</td>\n",
       "      <td>27</td>\n",
       "      <td>14</td>\n",
       "      <td>...</td>\n",
       "      <td>33</td>\n",
       "      <td>22</td>\n",
       "      <td>28</td>\n",
       "      <td>25</td>\n",
       "      <td>39</td>\n",
       "      <td>27</td>\n",
       "      <td>19</td>\n",
       "      <td>NaN</td>\n",
       "      <td>26</td>\n",
       "      <td>32</td>\n",
       "    </tr>\n",
       "    <tr>\n",
       "      <th>SibSp</th>\n",
       "      <td>1</td>\n",
       "      <td>1</td>\n",
       "      <td>0</td>\n",
       "      <td>1</td>\n",
       "      <td>0</td>\n",
       "      <td>0</td>\n",
       "      <td>0</td>\n",
       "      <td>3</td>\n",
       "      <td>0</td>\n",
       "      <td>1</td>\n",
       "      <td>...</td>\n",
       "      <td>0</td>\n",
       "      <td>0</td>\n",
       "      <td>0</td>\n",
       "      <td>0</td>\n",
       "      <td>0</td>\n",
       "      <td>0</td>\n",
       "      <td>0</td>\n",
       "      <td>1</td>\n",
       "      <td>0</td>\n",
       "      <td>0</td>\n",
       "    </tr>\n",
       "    <tr>\n",
       "      <th>Parch</th>\n",
       "      <td>0</td>\n",
       "      <td>0</td>\n",
       "      <td>0</td>\n",
       "      <td>0</td>\n",
       "      <td>0</td>\n",
       "      <td>0</td>\n",
       "      <td>0</td>\n",
       "      <td>1</td>\n",
       "      <td>2</td>\n",
       "      <td>0</td>\n",
       "      <td>...</td>\n",
       "      <td>0</td>\n",
       "      <td>0</td>\n",
       "      <td>0</td>\n",
       "      <td>0</td>\n",
       "      <td>5</td>\n",
       "      <td>0</td>\n",
       "      <td>0</td>\n",
       "      <td>2</td>\n",
       "      <td>0</td>\n",
       "      <td>0</td>\n",
       "    </tr>\n",
       "    <tr>\n",
       "      <th>Ticket</th>\n",
       "      <td>A/5 21171</td>\n",
       "      <td>PC 17599</td>\n",
       "      <td>STON/O2. 3101282</td>\n",
       "      <td>113803</td>\n",
       "      <td>373450</td>\n",
       "      <td>330877</td>\n",
       "      <td>17463</td>\n",
       "      <td>349909</td>\n",
       "      <td>347742</td>\n",
       "      <td>237736</td>\n",
       "      <td>...</td>\n",
       "      <td>349257</td>\n",
       "      <td>7552</td>\n",
       "      <td>C.A./SOTON 34068</td>\n",
       "      <td>SOTON/OQ 392076</td>\n",
       "      <td>382652</td>\n",
       "      <td>211536</td>\n",
       "      <td>112053</td>\n",
       "      <td>W./C. 6607</td>\n",
       "      <td>111369</td>\n",
       "      <td>370376</td>\n",
       "    </tr>\n",
       "    <tr>\n",
       "      <th>Fare</th>\n",
       "      <td>7.25</td>\n",
       "      <td>71.2833</td>\n",
       "      <td>7.925</td>\n",
       "      <td>53.1</td>\n",
       "      <td>8.05</td>\n",
       "      <td>8.4583</td>\n",
       "      <td>51.8625</td>\n",
       "      <td>21.075</td>\n",
       "      <td>11.1333</td>\n",
       "      <td>30.0708</td>\n",
       "      <td>...</td>\n",
       "      <td>7.8958</td>\n",
       "      <td>10.5167</td>\n",
       "      <td>10.5</td>\n",
       "      <td>7.05</td>\n",
       "      <td>29.125</td>\n",
       "      <td>13</td>\n",
       "      <td>30</td>\n",
       "      <td>23.45</td>\n",
       "      <td>30</td>\n",
       "      <td>7.75</td>\n",
       "    </tr>\n",
       "    <tr>\n",
       "      <th>Cabin</th>\n",
       "      <td>NaN</td>\n",
       "      <td>C85</td>\n",
       "      <td>NaN</td>\n",
       "      <td>C123</td>\n",
       "      <td>NaN</td>\n",
       "      <td>NaN</td>\n",
       "      <td>E46</td>\n",
       "      <td>NaN</td>\n",
       "      <td>NaN</td>\n",
       "      <td>NaN</td>\n",
       "      <td>...</td>\n",
       "      <td>NaN</td>\n",
       "      <td>NaN</td>\n",
       "      <td>NaN</td>\n",
       "      <td>NaN</td>\n",
       "      <td>NaN</td>\n",
       "      <td>NaN</td>\n",
       "      <td>B42</td>\n",
       "      <td>NaN</td>\n",
       "      <td>C148</td>\n",
       "      <td>NaN</td>\n",
       "    </tr>\n",
       "    <tr>\n",
       "      <th>Embarked</th>\n",
       "      <td>S</td>\n",
       "      <td>C</td>\n",
       "      <td>S</td>\n",
       "      <td>S</td>\n",
       "      <td>S</td>\n",
       "      <td>Q</td>\n",
       "      <td>S</td>\n",
       "      <td>S</td>\n",
       "      <td>S</td>\n",
       "      <td>C</td>\n",
       "      <td>...</td>\n",
       "      <td>S</td>\n",
       "      <td>S</td>\n",
       "      <td>S</td>\n",
       "      <td>S</td>\n",
       "      <td>Q</td>\n",
       "      <td>S</td>\n",
       "      <td>S</td>\n",
       "      <td>S</td>\n",
       "      <td>C</td>\n",
       "      <td>Q</td>\n",
       "    </tr>\n",
       "  </tbody>\n",
       "</table>\n",
       "<p>12 rows × 891 columns</p>\n",
       "</div>"
      ],
      "text/plain": [
       "                                 0    \\\n",
       "PassengerId                        1   \n",
       "Survived                           0   \n",
       "Pclass                             3   \n",
       "Name         Braund, Mr. Owen Harris   \n",
       "Sex                             male   \n",
       "Age                               22   \n",
       "SibSp                              1   \n",
       "Parch                              0   \n",
       "Ticket                     A/5 21171   \n",
       "Fare                            7.25   \n",
       "Cabin                            NaN   \n",
       "Embarked                           S   \n",
       "\n",
       "                                                           1    \\\n",
       "PassengerId                                                  2   \n",
       "Survived                                                     1   \n",
       "Pclass                                                       1   \n",
       "Name         Cumings, Mrs. John Bradley (Florence Briggs Th...   \n",
       "Sex                                                     female   \n",
       "Age                                                         38   \n",
       "SibSp                                                        1   \n",
       "Parch                                                        0   \n",
       "Ticket                                                PC 17599   \n",
       "Fare                                                   71.2833   \n",
       "Cabin                                                      C85   \n",
       "Embarked                                                     C   \n",
       "\n",
       "                                2    \\\n",
       "PassengerId                       3   \n",
       "Survived                          1   \n",
       "Pclass                            3   \n",
       "Name         Heikkinen, Miss. Laina   \n",
       "Sex                          female   \n",
       "Age                              26   \n",
       "SibSp                             0   \n",
       "Parch                             0   \n",
       "Ticket             STON/O2. 3101282   \n",
       "Fare                          7.925   \n",
       "Cabin                           NaN   \n",
       "Embarked                          S   \n",
       "\n",
       "                                                      3    \\\n",
       "PassengerId                                             4   \n",
       "Survived                                                1   \n",
       "Pclass                                                  1   \n",
       "Name         Futrelle, Mrs. Jacques Heath (Lily May Peel)   \n",
       "Sex                                                female   \n",
       "Age                                                    35   \n",
       "SibSp                                                   1   \n",
       "Parch                                                   0   \n",
       "Ticket                                             113803   \n",
       "Fare                                                 53.1   \n",
       "Cabin                                                C123   \n",
       "Embarked                                                S   \n",
       "\n",
       "                                  4                 5    \\\n",
       "PassengerId                         5                 6   \n",
       "Survived                            0                 0   \n",
       "Pclass                              3                 3   \n",
       "Name         Allen, Mr. William Henry  Moran, Mr. James   \n",
       "Sex                              male              male   \n",
       "Age                                35               NaN   \n",
       "SibSp                               0                 0   \n",
       "Parch                               0                 0   \n",
       "Ticket                         373450            330877   \n",
       "Fare                             8.05            8.4583   \n",
       "Cabin                             NaN               NaN   \n",
       "Embarked                            S                 Q   \n",
       "\n",
       "                                 6                               7    \\\n",
       "PassengerId                        7                               8   \n",
       "Survived                           0                               0   \n",
       "Pclass                             1                               3   \n",
       "Name         McCarthy, Mr. Timothy J  Palsson, Master. Gosta Leonard   \n",
       "Sex                             male                            male   \n",
       "Age                               54                               2   \n",
       "SibSp                              0                               3   \n",
       "Parch                              0                               1   \n",
       "Ticket                         17463                          349909   \n",
       "Fare                         51.8625                          21.075   \n",
       "Cabin                            E46                             NaN   \n",
       "Embarked                           S                               S   \n",
       "\n",
       "                                                           8    \\\n",
       "PassengerId                                                  9   \n",
       "Survived                                                     1   \n",
       "Pclass                                                       3   \n",
       "Name         Johnson, Mrs. Oscar W (Elisabeth Vilhelmina Berg)   \n",
       "Sex                                                     female   \n",
       "Age                                                         27   \n",
       "SibSp                                                        0   \n",
       "Parch                                                        2   \n",
       "Ticket                                                  347742   \n",
       "Fare                                                   11.1333   \n",
       "Cabin                                                      NaN   \n",
       "Embarked                                                     S   \n",
       "\n",
       "                                             9           ...           \\\n",
       "PassengerId                                   10         ...            \n",
       "Survived                                       1         ...            \n",
       "Pclass                                         2         ...            \n",
       "Name         Nasser, Mrs. Nicholas (Adele Achem)         ...            \n",
       "Sex                                       female         ...            \n",
       "Age                                           14         ...            \n",
       "SibSp                                          1         ...            \n",
       "Parch                                          0         ...            \n",
       "Ticket                                    237736         ...            \n",
       "Fare                                     30.0708         ...            \n",
       "Cabin                                        NaN         ...            \n",
       "Embarked                                       C         ...            \n",
       "\n",
       "                            881                           882  \\\n",
       "PassengerId                 882                           883   \n",
       "Survived                      0                             0   \n",
       "Pclass                        3                             3   \n",
       "Name         Markun, Mr. Johann  Dahlberg, Miss. Gerda Ulrika   \n",
       "Sex                        male                        female   \n",
       "Age                          33                            22   \n",
       "SibSp                         0                             0   \n",
       "Parch                         0                             0   \n",
       "Ticket                   349257                          7552   \n",
       "Fare                     7.8958                       10.5167   \n",
       "Cabin                       NaN                           NaN   \n",
       "Embarked                      S                             S   \n",
       "\n",
       "                                       883                     884  \\\n",
       "PassengerId                            884                     885   \n",
       "Survived                                 0                       0   \n",
       "Pclass                                   2                       3   \n",
       "Name         Banfield, Mr. Frederick James  Sutehall, Mr. Henry Jr   \n",
       "Sex                                   male                    male   \n",
       "Age                                     28                      25   \n",
       "SibSp                                    0                       0   \n",
       "Parch                                    0                       0   \n",
       "Ticket                    C.A./SOTON 34068         SOTON/OQ 392076   \n",
       "Fare                                  10.5                    7.05   \n",
       "Cabin                                  NaN                     NaN   \n",
       "Embarked                                 S                       S   \n",
       "\n",
       "                                              885                    886  \\\n",
       "PassengerId                                   886                    887   \n",
       "Survived                                        0                      0   \n",
       "Pclass                                          3                      2   \n",
       "Name         Rice, Mrs. William (Margaret Norton)  Montvila, Rev. Juozas   \n",
       "Sex                                        female                   male   \n",
       "Age                                            39                     27   \n",
       "SibSp                                           0                      0   \n",
       "Parch                                           5                      0   \n",
       "Ticket                                     382652                 211536   \n",
       "Fare                                       29.125                     13   \n",
       "Cabin                                         NaN                    NaN   \n",
       "Embarked                                        Q                      S   \n",
       "\n",
       "                                      887  \\\n",
       "PassengerId                           888   \n",
       "Survived                                1   \n",
       "Pclass                                  1   \n",
       "Name         Graham, Miss. Margaret Edith   \n",
       "Sex                                female   \n",
       "Age                                    19   \n",
       "SibSp                                   0   \n",
       "Parch                                   0   \n",
       "Ticket                             112053   \n",
       "Fare                                   30   \n",
       "Cabin                                 B42   \n",
       "Embarked                                S   \n",
       "\n",
       "                                                  888                    889  \\\n",
       "PassengerId                                       889                    890   \n",
       "Survived                                            0                      1   \n",
       "Pclass                                              3                      1   \n",
       "Name         Johnston, Miss. Catherine Helen \"Carrie\"  Behr, Mr. Karl Howell   \n",
       "Sex                                            female                   male   \n",
       "Age                                               NaN                     26   \n",
       "SibSp                                               1                      0   \n",
       "Parch                                               2                      0   \n",
       "Ticket                                     W./C. 6607                 111369   \n",
       "Fare                                            23.45                     30   \n",
       "Cabin                                             NaN                   C148   \n",
       "Embarked                                            S                      C   \n",
       "\n",
       "                             890  \n",
       "PassengerId                  891  \n",
       "Survived                       0  \n",
       "Pclass                         3  \n",
       "Name         Dooley, Mr. Patrick  \n",
       "Sex                         male  \n",
       "Age                           32  \n",
       "SibSp                          0  \n",
       "Parch                          0  \n",
       "Ticket                    370376  \n",
       "Fare                        7.75  \n",
       "Cabin                        NaN  \n",
       "Embarked                       Q  \n",
       "\n",
       "[12 rows x 891 columns]"
      ]
     },
     "execution_count": 32,
     "metadata": {},
     "output_type": "execute_result"
    }
   ],
   "source": [
    "m = hp_train.T\n",
    "m"
   ]
  },
  {
   "cell_type": "code",
   "execution_count": 33,
   "metadata": {},
   "outputs": [
    {
     "data": {
      "text/plain": [
       "['7.25',\n",
       " '71.2833',\n",
       " '7.925',\n",
       " '53.1',\n",
       " '8.05',\n",
       " '8.4583',\n",
       " '51.8625',\n",
       " '21.075',\n",
       " '11.1333',\n",
       " '30.0708',\n",
       " '16.7',\n",
       " '26.55',\n",
       " '8.05',\n",
       " '31.275',\n",
       " '7.8542',\n",
       " '16',\n",
       " '29.125',\n",
       " '13',\n",
       " '18',\n",
       " '7.225',\n",
       " '26',\n",
       " '13',\n",
       " '8.0292',\n",
       " '35.5',\n",
       " '21.075',\n",
       " '31.3875',\n",
       " '7.225',\n",
       " '263',\n",
       " '7.8792',\n",
       " '7.8958',\n",
       " '27.7208',\n",
       " '146.5208',\n",
       " '7.75',\n",
       " '10.5',\n",
       " '82.1708',\n",
       " '52',\n",
       " '7.2292',\n",
       " '8.05',\n",
       " '18',\n",
       " '11.2417',\n",
       " '9.475',\n",
       " '21',\n",
       " '7.8958',\n",
       " '41.5792',\n",
       " '7.8792',\n",
       " '8.05',\n",
       " '15.5',\n",
       " '7.75',\n",
       " '21.6792',\n",
       " '17.8',\n",
       " '39.6875',\n",
       " '7.8',\n",
       " '76.7292',\n",
       " '26',\n",
       " '61.9792',\n",
       " '35.5',\n",
       " '10.5',\n",
       " '7.2292',\n",
       " '27.75',\n",
       " '46.9',\n",
       " '7.2292',\n",
       " '80',\n",
       " '83.475',\n",
       " '27.9',\n",
       " '27.7208',\n",
       " '15.2458',\n",
       " '10.5',\n",
       " '8.1583',\n",
       " '7.925',\n",
       " '8.6625',\n",
       " '10.5',\n",
       " '46.9',\n",
       " '73.5',\n",
       " '14.4542',\n",
       " '56.4958',\n",
       " '7.65',\n",
       " '7.8958',\n",
       " '8.05',\n",
       " '29',\n",
       " '12.475',\n",
       " '9',\n",
       " '9.5',\n",
       " '7.7875',\n",
       " '47.1',\n",
       " '10.5',\n",
       " '15.85',\n",
       " '34.375',\n",
       " '8.05',\n",
       " '263',\n",
       " '8.05',\n",
       " '8.05',\n",
       " '7.8542',\n",
       " '61.175',\n",
       " '20.575',\n",
       " '7.25',\n",
       " '8.05',\n",
       " '34.6542',\n",
       " '63.3583',\n",
       " '23',\n",
       " '26',\n",
       " '7.8958',\n",
       " '7.8958',\n",
       " '77.2875',\n",
       " '8.6542',\n",
       " '7.925',\n",
       " '7.8958',\n",
       " '7.65',\n",
       " '7.775',\n",
       " '7.8958',\n",
       " '24.15',\n",
       " '52',\n",
       " '14.4542',\n",
       " '8.05',\n",
       " '9.825',\n",
       " '14.4583',\n",
       " '7.925',\n",
       " '7.75',\n",
       " '21',\n",
       " '247.5208',\n",
       " '31.275',\n",
       " '73.5',\n",
       " '8.05',\n",
       " '30.0708',\n",
       " '13',\n",
       " '77.2875',\n",
       " '11.2417',\n",
       " '7.75',\n",
       " '7.1417',\n",
       " '22.3583',\n",
       " '6.975',\n",
       " '7.8958',\n",
       " '7.05',\n",
       " '14.5',\n",
       " '26',\n",
       " '13',\n",
       " '15.0458',\n",
       " '26.2833',\n",
       " '53.1',\n",
       " '9.2167',\n",
       " '79.2',\n",
       " '15.2458',\n",
       " '7.75',\n",
       " '15.85',\n",
       " '6.75',\n",
       " '11.5',\n",
       " '36.75',\n",
       " '7.7958',\n",
       " '34.375',\n",
       " '26',\n",
       " '13',\n",
       " '12.525',\n",
       " '66.6',\n",
       " '8.05',\n",
       " '14.5',\n",
       " '7.3125',\n",
       " '61.3792',\n",
       " '7.7333',\n",
       " '8.05',\n",
       " '8.6625',\n",
       " '69.55',\n",
       " '16.1',\n",
       " '15.75',\n",
       " '7.775',\n",
       " '8.6625',\n",
       " '39.6875',\n",
       " '20.525',\n",
       " '55',\n",
       " '27.9',\n",
       " '25.925',\n",
       " '56.4958',\n",
       " '33.5',\n",
       " '29.125',\n",
       " '11.1333',\n",
       " '7.925',\n",
       " '30.6958',\n",
       " '7.8542',\n",
       " '25.4667',\n",
       " '28.7125',\n",
       " '13',\n",
       " '0',\n",
       " '69.55',\n",
       " '15.05',\n",
       " '31.3875',\n",
       " '39',\n",
       " '22.025',\n",
       " '50',\n",
       " '15.5',\n",
       " '26.55',\n",
       " '15.5',\n",
       " '7.8958',\n",
       " '13',\n",
       " '13',\n",
       " '7.8542',\n",
       " '26',\n",
       " '27.7208',\n",
       " '146.5208',\n",
       " '7.75',\n",
       " '8.4042',\n",
       " '7.75',\n",
       " '13',\n",
       " '9.5',\n",
       " '69.55',\n",
       " '6.4958',\n",
       " '7.225',\n",
       " '8.05',\n",
       " '10.4625',\n",
       " '15.85',\n",
       " '18.7875',\n",
       " '7.75',\n",
       " '31',\n",
       " '7.05',\n",
       " '21',\n",
       " '7.25',\n",
       " '13',\n",
       " '7.75',\n",
       " '113.275',\n",
       " '7.925',\n",
       " '27',\n",
       " '76.2917',\n",
       " '10.5',\n",
       " '8.05',\n",
       " '13',\n",
       " '8.05',\n",
       " '7.8958',\n",
       " '90',\n",
       " '9.35',\n",
       " '10.5',\n",
       " '7.25',\n",
       " '13',\n",
       " '25.4667',\n",
       " '83.475',\n",
       " '7.775',\n",
       " '13.5',\n",
       " '31.3875',\n",
       " '10.5',\n",
       " '7.55',\n",
       " '26',\n",
       " '26.25',\n",
       " '10.5',\n",
       " '12.275',\n",
       " '14.4542',\n",
       " '15.5',\n",
       " '10.5',\n",
       " '7.125',\n",
       " '7.225',\n",
       " '90',\n",
       " '7.775',\n",
       " '14.5',\n",
       " '52.5542',\n",
       " '26',\n",
       " '7.25',\n",
       " '10.4625',\n",
       " '26.55',\n",
       " '16.1',\n",
       " '20.2125',\n",
       " '15.2458',\n",
       " '79.2',\n",
       " '86.5',\n",
       " '512.3292',\n",
       " '26',\n",
       " '7.75',\n",
       " '31.3875',\n",
       " '79.65',\n",
       " '0',\n",
       " '7.75',\n",
       " '10.5',\n",
       " '39.6875',\n",
       " '7.775',\n",
       " '153.4625',\n",
       " '135.6333',\n",
       " '31',\n",
       " '0',\n",
       " '19.5',\n",
       " '29.7',\n",
       " '7.75',\n",
       " '77.9583',\n",
       " '7.75',\n",
       " '0',\n",
       " '29.125',\n",
       " '20.25',\n",
       " '7.75',\n",
       " '7.8542',\n",
       " '9.5',\n",
       " '8.05',\n",
       " '26',\n",
       " '8.6625',\n",
       " '9.5',\n",
       " '7.8958',\n",
       " '13',\n",
       " '7.75',\n",
       " '78.85',\n",
       " '91.0792',\n",
       " '12.875',\n",
       " '8.85',\n",
       " '7.8958',\n",
       " '27.7208',\n",
       " '7.2292',\n",
       " '151.55',\n",
       " '30.5',\n",
       " '247.5208',\n",
       " '7.75',\n",
       " '23.25',\n",
       " '0',\n",
       " '12.35',\n",
       " '8.05',\n",
       " '151.55',\n",
       " '110.8833',\n",
       " '108.9',\n",
       " '24',\n",
       " '56.9292',\n",
       " '83.1583',\n",
       " '262.375',\n",
       " '26',\n",
       " '7.8958',\n",
       " '26.25',\n",
       " '7.8542',\n",
       " '26',\n",
       " '14',\n",
       " '164.8667',\n",
       " '134.5',\n",
       " '7.25',\n",
       " '7.8958',\n",
       " '12.35',\n",
       " '29',\n",
       " '69.55',\n",
       " '135.6333',\n",
       " '6.2375',\n",
       " '13',\n",
       " '20.525',\n",
       " '57.9792',\n",
       " '23.25',\n",
       " '28.5',\n",
       " '153.4625',\n",
       " '18',\n",
       " '133.65',\n",
       " '7.8958',\n",
       " '66.6',\n",
       " '134.5',\n",
       " '8.05',\n",
       " '35.5',\n",
       " '26',\n",
       " '263',\n",
       " '13',\n",
       " '13',\n",
       " '13',\n",
       " '13',\n",
       " '13',\n",
       " '16.1',\n",
       " '15.9',\n",
       " '8.6625',\n",
       " '9.225',\n",
       " '35',\n",
       " '7.2292',\n",
       " '17.8',\n",
       " '7.225',\n",
       " '9.5',\n",
       " '55',\n",
       " '13',\n",
       " '7.8792',\n",
       " '7.8792',\n",
       " '27.9',\n",
       " '27.7208',\n",
       " '14.4542',\n",
       " '7.05',\n",
       " '15.5',\n",
       " '7.25',\n",
       " '75.25',\n",
       " '7.2292',\n",
       " '7.75',\n",
       " '69.3',\n",
       " '55.4417',\n",
       " '6.4958',\n",
       " '8.05',\n",
       " '135.6333',\n",
       " '21.075',\n",
       " '82.1708',\n",
       " '7.25',\n",
       " '211.5',\n",
       " '4.0125',\n",
       " '7.775',\n",
       " '227.525',\n",
       " '15.7417',\n",
       " '7.925',\n",
       " '52',\n",
       " '7.8958',\n",
       " '73.5',\n",
       " '46.9',\n",
       " '13',\n",
       " '7.7292',\n",
       " '12',\n",
       " '120',\n",
       " '7.7958',\n",
       " '7.925',\n",
       " '113.275',\n",
       " '16.7',\n",
       " '7.7958',\n",
       " '7.8542',\n",
       " '26',\n",
       " '10.5',\n",
       " '12.65',\n",
       " '7.925',\n",
       " '8.05',\n",
       " '9.825',\n",
       " '15.85',\n",
       " '8.6625',\n",
       " '21',\n",
       " '7.75',\n",
       " '18.75',\n",
       " '7.775',\n",
       " '25.4667',\n",
       " '7.8958',\n",
       " '6.8583',\n",
       " '90',\n",
       " '0',\n",
       " '7.925',\n",
       " '8.05',\n",
       " '32.5',\n",
       " '13',\n",
       " '13',\n",
       " '24.15',\n",
       " '7.8958',\n",
       " '7.7333',\n",
       " '7.875',\n",
       " '14.4',\n",
       " '20.2125',\n",
       " '7.25',\n",
       " '26',\n",
       " '26',\n",
       " '7.75',\n",
       " '8.05',\n",
       " '26.55',\n",
       " '16.1',\n",
       " '26',\n",
       " '7.125',\n",
       " '55.9',\n",
       " '120',\n",
       " '34.375',\n",
       " '18.75',\n",
       " '263',\n",
       " '10.5',\n",
       " '26.25',\n",
       " '9.5',\n",
       " '7.775',\n",
       " '13',\n",
       " '8.1125',\n",
       " '81.8583',\n",
       " '19.5',\n",
       " '26.55',\n",
       " '19.2583',\n",
       " '30.5',\n",
       " '27.75',\n",
       " '19.9667',\n",
       " '27.75',\n",
       " '89.1042',\n",
       " '8.05',\n",
       " '7.8958',\n",
       " '26.55',\n",
       " '51.8625',\n",
       " '10.5',\n",
       " '7.75',\n",
       " '26.55',\n",
       " '8.05',\n",
       " '38.5',\n",
       " '13',\n",
       " '8.05',\n",
       " '7.05',\n",
       " '0',\n",
       " '26.55',\n",
       " '7.725',\n",
       " '19.2583',\n",
       " '7.25',\n",
       " '8.6625',\n",
       " '27.75',\n",
       " '13.7917',\n",
       " '9.8375',\n",
       " '52',\n",
       " '21',\n",
       " '7.0458',\n",
       " '7.5208',\n",
       " '12.2875',\n",
       " '46.9',\n",
       " '0',\n",
       " '8.05',\n",
       " '9.5875',\n",
       " '91.0792',\n",
       " '25.4667',\n",
       " '90',\n",
       " '29.7',\n",
       " '8.05',\n",
       " '15.9',\n",
       " '19.9667',\n",
       " '7.25',\n",
       " '30.5',\n",
       " '49.5042',\n",
       " '8.05',\n",
       " '14.4583',\n",
       " '78.2667',\n",
       " '15.1',\n",
       " '151.55',\n",
       " '7.7958',\n",
       " '8.6625',\n",
       " '7.75',\n",
       " '7.6292',\n",
       " '9.5875',\n",
       " '86.5',\n",
       " '108.9',\n",
       " '26',\n",
       " '26.55',\n",
       " '22.525',\n",
       " '56.4958',\n",
       " '7.75',\n",
       " '8.05',\n",
       " '26.2875',\n",
       " '59.4',\n",
       " '7.4958',\n",
       " '34.0208',\n",
       " '10.5',\n",
       " '24.15',\n",
       " '26',\n",
       " '7.8958',\n",
       " '93.5',\n",
       " '7.8958',\n",
       " '7.225',\n",
       " '57.9792',\n",
       " '7.2292',\n",
       " '7.75',\n",
       " '10.5',\n",
       " '221.7792',\n",
       " '7.925',\n",
       " '11.5',\n",
       " '26',\n",
       " '7.2292',\n",
       " '7.2292',\n",
       " '22.3583',\n",
       " '8.6625',\n",
       " '26.25',\n",
       " '26.55',\n",
       " '106.425',\n",
       " '14.5',\n",
       " '49.5',\n",
       " '71',\n",
       " '31.275',\n",
       " '31.275',\n",
       " '26',\n",
       " '106.425',\n",
       " '26',\n",
       " '26',\n",
       " '13.8625',\n",
       " '20.525',\n",
       " '36.75',\n",
       " '110.8833',\n",
       " '26',\n",
       " '7.8292',\n",
       " '7.225',\n",
       " '7.775',\n",
       " '26.55',\n",
       " '39.6',\n",
       " '227.525',\n",
       " '79.65',\n",
       " '17.4',\n",
       " '7.75',\n",
       " '7.8958',\n",
       " '13.5',\n",
       " '8.05',\n",
       " '8.05',\n",
       " '24.15',\n",
       " '7.8958',\n",
       " '21.075',\n",
       " '7.2292',\n",
       " '7.8542',\n",
       " '10.5',\n",
       " '51.4792',\n",
       " '26.3875',\n",
       " '7.75',\n",
       " '8.05',\n",
       " '14.5',\n",
       " '13',\n",
       " '55.9',\n",
       " '14.4583',\n",
       " '7.925',\n",
       " '30',\n",
       " '110.8833',\n",
       " '26',\n",
       " '40.125',\n",
       " '8.7125',\n",
       " '79.65',\n",
       " '15',\n",
       " '79.2',\n",
       " '8.05',\n",
       " '8.05',\n",
       " '7.125',\n",
       " '78.2667',\n",
       " '7.25',\n",
       " '7.75',\n",
       " '26',\n",
       " '24.15',\n",
       " '33',\n",
       " '0',\n",
       " '7.225',\n",
       " '56.9292',\n",
       " '27',\n",
       " '7.8958',\n",
       " '42.4',\n",
       " '8.05',\n",
       " '26.55',\n",
       " '15.55',\n",
       " '7.8958',\n",
       " '30.5',\n",
       " '41.5792',\n",
       " '153.4625',\n",
       " '31.275',\n",
       " '7.05',\n",
       " '15.5',\n",
       " '7.75',\n",
       " '8.05',\n",
       " '65',\n",
       " '14.4',\n",
       " '16.1',\n",
       " '39',\n",
       " '10.5',\n",
       " '14.4542',\n",
       " '52.5542',\n",
       " '15.7417',\n",
       " '7.8542',\n",
       " '16.1',\n",
       " '32.3208',\n",
       " '12.35',\n",
       " '77.9583',\n",
       " '7.8958',\n",
       " '7.7333',\n",
       " '30',\n",
       " '7.0542',\n",
       " '30.5',\n",
       " '0',\n",
       " '27.9',\n",
       " '13',\n",
       " '7.925',\n",
       " '26.25',\n",
       " '39.6875',\n",
       " '16.1',\n",
       " '7.8542',\n",
       " '69.3',\n",
       " '27.9',\n",
       " '56.4958',\n",
       " '19.2583',\n",
       " '76.7292',\n",
       " '7.8958',\n",
       " '35.5',\n",
       " '7.55',\n",
       " '7.55',\n",
       " '7.8958',\n",
       " '23',\n",
       " '8.4333',\n",
       " '7.8292',\n",
       " '6.75',\n",
       " '73.5',\n",
       " '7.8958',\n",
       " '15.5',\n",
       " '13',\n",
       " '113.275',\n",
       " '133.65',\n",
       " '7.225',\n",
       " '25.5875',\n",
       " '7.4958',\n",
       " '7.925',\n",
       " '73.5',\n",
       " '13',\n",
       " '7.775',\n",
       " '8.05',\n",
       " '52',\n",
       " '39',\n",
       " '52',\n",
       " '10.5',\n",
       " '13',\n",
       " '0',\n",
       " '7.775',\n",
       " '8.05',\n",
       " '9.8417',\n",
       " '46.9',\n",
       " '512.3292',\n",
       " '8.1375',\n",
       " '76.7292',\n",
       " '9.225',\n",
       " '46.9',\n",
       " '39',\n",
       " '41.5792',\n",
       " '39.6875',\n",
       " '10.1708',\n",
       " '7.7958',\n",
       " '211.3375',\n",
       " '57',\n",
       " '13.4167',\n",
       " '56.4958',\n",
       " '7.225',\n",
       " '26.55',\n",
       " '13.5',\n",
       " '8.05',\n",
       " '7.7333',\n",
       " '110.8833',\n",
       " '7.65',\n",
       " '227.525',\n",
       " '26.2875',\n",
       " '14.4542',\n",
       " '7.7417',\n",
       " '7.8542',\n",
       " '26',\n",
       " '13.5',\n",
       " '26.2875',\n",
       " '151.55',\n",
       " '15.2458',\n",
       " '49.5042',\n",
       " '26.55',\n",
       " '52',\n",
       " '9.4833',\n",
       " '13',\n",
       " '7.65',\n",
       " '227.525',\n",
       " '10.5',\n",
       " '15.5',\n",
       " '7.775',\n",
       " '33',\n",
       " '7.0542',\n",
       " '13',\n",
       " '13',\n",
       " '53.1',\n",
       " '8.6625',\n",
       " '21',\n",
       " '7.7375',\n",
       " '26',\n",
       " '7.925',\n",
       " '211.3375',\n",
       " '18.7875',\n",
       " '0',\n",
       " '13',\n",
       " '13',\n",
       " '16.1',\n",
       " '34.375',\n",
       " '512.3292',\n",
       " '7.8958',\n",
       " '7.8958',\n",
       " '30',\n",
       " '78.85',\n",
       " '262.375',\n",
       " '16.1',\n",
       " '7.925',\n",
       " '71',\n",
       " '20.25',\n",
       " '13',\n",
       " '53.1',\n",
       " '7.75',\n",
       " '23',\n",
       " '12.475',\n",
       " '9.5',\n",
       " '7.8958',\n",
       " '65',\n",
       " '14.5',\n",
       " '7.7958',\n",
       " '11.5',\n",
       " '8.05',\n",
       " '86.5',\n",
       " '14.5',\n",
       " '7.125',\n",
       " '7.2292',\n",
       " '120',\n",
       " '7.775',\n",
       " '77.9583',\n",
       " '39.6',\n",
       " '7.75',\n",
       " '24.15',\n",
       " '8.3625',\n",
       " '9.5',\n",
       " '7.8542',\n",
       " '10.5',\n",
       " '7.225',\n",
       " '23',\n",
       " '7.75',\n",
       " '7.75',\n",
       " '12.475',\n",
       " '7.7375',\n",
       " '211.3375',\n",
       " '7.2292',\n",
       " '57',\n",
       " '30',\n",
       " '23.45',\n",
       " '7.05',\n",
       " '7.25',\n",
       " '7.4958',\n",
       " '29.125',\n",
       " '20.575',\n",
       " '79.2',\n",
       " '7.75',\n",
       " '26',\n",
       " '69.55',\n",
       " '30.6958',\n",
       " '7.8958',\n",
       " '13',\n",
       " '25.9292',\n",
       " '8.6833',\n",
       " '7.2292',\n",
       " '24.15',\n",
       " '13',\n",
       " '26.25',\n",
       " '120',\n",
       " '8.5167',\n",
       " '6.975',\n",
       " '7.775',\n",
       " '0',\n",
       " '7.775',\n",
       " '13',\n",
       " '53.1',\n",
       " '7.8875',\n",
       " '24.15',\n",
       " '10.5',\n",
       " '31.275',\n",
       " '8.05',\n",
       " '0',\n",
       " '7.925',\n",
       " '37.0042',\n",
       " '6.45',\n",
       " '27.9',\n",
       " '93.5',\n",
       " '8.6625',\n",
       " '0',\n",
       " '12.475',\n",
       " '39.6875',\n",
       " '6.95',\n",
       " '56.4958',\n",
       " '37.0042',\n",
       " '7.75',\n",
       " '80',\n",
       " '14.4542',\n",
       " '18.75',\n",
       " '7.2292',\n",
       " '7.8542',\n",
       " '8.3',\n",
       " '83.1583',\n",
       " '8.6625',\n",
       " '8.05',\n",
       " '56.4958',\n",
       " '29.7',\n",
       " '7.925',\n",
       " '10.5',\n",
       " '31',\n",
       " '6.4375',\n",
       " '8.6625',\n",
       " '7.55',\n",
       " '69.55',\n",
       " '7.8958',\n",
       " '33',\n",
       " '89.1042',\n",
       " '31.275',\n",
       " '7.775',\n",
       " '15.2458',\n",
       " '39.4',\n",
       " '26',\n",
       " '9.35',\n",
       " '164.8667',\n",
       " '26.55',\n",
       " '19.2583',\n",
       " '7.2292',\n",
       " '14.1083',\n",
       " '11.5',\n",
       " '25.9292',\n",
       " '69.55',\n",
       " '13',\n",
       " '13',\n",
       " '13.8583',\n",
       " '50.4958',\n",
       " '9.5',\n",
       " '11.1333',\n",
       " '7.8958',\n",
       " '52.5542',\n",
       " '5',\n",
       " '9',\n",
       " '24',\n",
       " '7.225',\n",
       " '9.8458',\n",
       " '7.8958',\n",
       " '7.8958',\n",
       " '83.1583',\n",
       " '26',\n",
       " '7.8958',\n",
       " '10.5167',\n",
       " '10.5',\n",
       " '7.05',\n",
       " '29.125',\n",
       " '13',\n",
       " '30',\n",
       " '23.45',\n",
       " '30',\n",
       " '7.75']"
      ]
     },
     "execution_count": 33,
     "metadata": {},
     "output_type": "execute_result"
    }
   ],
   "source": [
    "k = [d['Fare'] for d in house_train]\n",
    "k"
   ]
  },
  {
   "cell_type": "code",
   "execution_count": 34,
   "metadata": {},
   "outputs": [
    {
     "data": {
      "text/plain": [
       "0         7.25\n",
       "1      71.2833\n",
       "2        7.925\n",
       "3         53.1\n",
       "4         8.05\n",
       "5       8.4583\n",
       "6      51.8625\n",
       "7       21.075\n",
       "8      11.1333\n",
       "9      30.0708\n",
       "10        16.7\n",
       "11       26.55\n",
       "12        8.05\n",
       "13      31.275\n",
       "14      7.8542\n",
       "15          16\n",
       "16      29.125\n",
       "17          13\n",
       "18          18\n",
       "19       7.225\n",
       "20          26\n",
       "21          13\n",
       "22      8.0292\n",
       "23        35.5\n",
       "24      21.075\n",
       "25     31.3875\n",
       "26       7.225\n",
       "27         263\n",
       "28      7.8792\n",
       "29      7.8958\n",
       "        ...   \n",
       "861       11.5\n",
       "862    25.9292\n",
       "863      69.55\n",
       "864         13\n",
       "865         13\n",
       "866    13.8583\n",
       "867    50.4958\n",
       "868        9.5\n",
       "869    11.1333\n",
       "870     7.8958\n",
       "871    52.5542\n",
       "872          5\n",
       "873          9\n",
       "874         24\n",
       "875      7.225\n",
       "876     9.8458\n",
       "877     7.8958\n",
       "878     7.8958\n",
       "879    83.1583\n",
       "880         26\n",
       "881     7.8958\n",
       "882    10.5167\n",
       "883       10.5\n",
       "884       7.05\n",
       "885     29.125\n",
       "886         13\n",
       "887         30\n",
       "888      23.45\n",
       "889         30\n",
       "890       7.75\n",
       "Name: Fare, Length: 891, dtype: object"
      ]
     },
     "execution_count": 34,
     "metadata": {},
     "output_type": "execute_result"
    }
   ],
   "source": [
    "m.loc['Fare']"
   ]
  },
  {
   "cell_type": "markdown",
   "metadata": {},
   "source": [
    "# Dates and Time"
   ]
  },
  {
   "cell_type": "code",
   "execution_count": 35,
   "metadata": {},
   "outputs": [],
   "source": [
    "import datetime as dt\n",
    "import time as tm"
   ]
  },
  {
   "cell_type": "code",
   "execution_count": 36,
   "metadata": {},
   "outputs": [
    {
     "data": {
      "text/plain": [
       "1587475943.21"
      ]
     },
     "execution_count": 36,
     "metadata": {},
     "output_type": "execute_result"
    }
   ],
   "source": [
    "tm.time()"
   ]
  },
  {
   "cell_type": "code",
   "execution_count": 37,
   "metadata": {},
   "outputs": [
    {
     "data": {
      "text/plain": [
       "datetime.datetime(2020, 4, 21, 16, 32, 23, 358092)"
      ]
     },
     "execution_count": 37,
     "metadata": {},
     "output_type": "execute_result"
    }
   ],
   "source": [
    "dtnow = dt.datetime.fromtimestamp(tm.time())\n",
    "dtnow"
   ]
  },
  {
   "cell_type": "code",
   "execution_count": 38,
   "metadata": {},
   "outputs": [
    {
     "data": {
      "text/plain": [
       "(2020, 4, 21, 16, 32, 23)"
      ]
     },
     "execution_count": 38,
     "metadata": {},
     "output_type": "execute_result"
    }
   ],
   "source": [
    "dtnow.year, dtnow.month, dtnow.day, dtnow.hour, dtnow.minute, dtnow.second # get year, month, day, etc.from a datetime"
   ]
  },
  {
   "cell_type": "code",
   "execution_count": 39,
   "metadata": {},
   "outputs": [
    {
     "data": {
      "text/plain": [
       "datetime.timedelta(days=100)"
      ]
     },
     "execution_count": 39,
     "metadata": {},
     "output_type": "execute_result"
    }
   ],
   "source": [
    "delta = dt.timedelta(days = 100) # create a timedelta of 100 days\n",
    "delta"
   ]
  },
  {
   "cell_type": "code",
   "execution_count": 40,
   "metadata": {},
   "outputs": [
    {
     "data": {
      "text/plain": [
       "datetime.date(2020, 4, 21)"
      ]
     },
     "execution_count": 40,
     "metadata": {},
     "output_type": "execute_result"
    }
   ],
   "source": [
    "today = dt.date.today()\n",
    "today"
   ]
  },
  {
   "cell_type": "markdown",
   "metadata": {},
   "source": [
    "# Objects and map()¶"
   ]
  },
  {
   "cell_type": "code",
   "execution_count": 41,
   "metadata": {},
   "outputs": [],
   "source": [
    "class person:\n",
    "    department = 'purchase team'\n",
    "    \n",
    "    def set_name(self, new_name):\n",
    "        self.name = new_name\n",
    "        \n",
    "    def set_location(self, new_location):\n",
    "        self.location = new_location"
   ]
  },
  {
   "cell_type": "code",
   "execution_count": 42,
   "metadata": {},
   "outputs": [
    {
     "name": "stdout",
     "output_type": "stream",
     "text": [
      "Thomas lives in Ruaka, Nairobi, Kenya and works in the department purchase team\n"
     ]
    }
   ],
   "source": [
    "person = person()\n",
    "person.set_name('Thomas')\n",
    "person.set_location('Ruaka, Nairobi, Kenya')\n",
    "print('{} lives in {} and works in the department {}'.format(person.name, person.location, person.department))"
   ]
  },
  {
   "cell_type": "markdown",
   "metadata": {},
   "source": [
    "# Lambda"
   ]
  },
  {
   "cell_type": "code",
   "execution_count": 43,
   "metadata": {},
   "outputs": [],
   "source": [
    "my_function = lambda a, b, c : a + b +c"
   ]
  },
  {
   "cell_type": "code",
   "execution_count": 44,
   "metadata": {},
   "outputs": [
    {
     "data": {
      "text/plain": [
       "6"
      ]
     },
     "execution_count": 44,
     "metadata": {},
     "output_type": "execute_result"
    }
   ],
   "source": [
    "my_function(1, 2, 3)"
   ]
  },
  {
   "cell_type": "markdown",
   "metadata": {},
   "source": [
    "# Iterate"
   ]
  },
  {
   "cell_type": "code",
   "execution_count": 45,
   "metadata": {},
   "outputs": [
    {
     "name": "stdout",
     "output_type": "stream",
     "text": [
      "[0, 2, 4, 6, 8]\n"
     ]
    }
   ],
   "source": [
    "my_list = []\n",
    "for x in range(0, 9):\n",
    "    if x % 2 == 0:\n",
    "        my_list.append(x)\n",
    "print(my_list)    "
   ]
  },
  {
   "cell_type": "code",
   "execution_count": 46,
   "metadata": {},
   "outputs": [
    {
     "name": "stdout",
     "output_type": "stream",
     "text": [
      "[0, 7, 14, 21, 28, 35, 42, 49, 56, 63, 70, 77, 84, 91, 98]\n"
     ]
    }
   ],
   "source": [
    "multiples_of_7 = []\n",
    "for x in range(100):\n",
    "    if x % 7 == 0:\n",
    "        multiples_of_7.append(x)\n",
    "print(multiples_of_7)        \n"
   ]
  },
  {
   "cell_type": "code",
   "execution_count": 47,
   "metadata": {},
   "outputs": [
    {
     "data": {
      "text/plain": [
       "[0, 2, 4, 6, 8]"
      ]
     },
     "execution_count": 47,
     "metadata": {},
     "output_type": "execute_result"
    }
   ],
   "source": [
    "my_list = [x for x in range(9) if x % 2 == 0]\n",
    "my_list"
   ]
  },
  {
   "cell_type": "code",
   "execution_count": 48,
   "metadata": {},
   "outputs": [
    {
     "data": {
      "text/plain": [
       "[0, 7, 14, 21, 28, 35, 42, 49, 56, 63, 70, 77, 84, 91, 98]"
      ]
     },
     "execution_count": 48,
     "metadata": {},
     "output_type": "execute_result"
    }
   ],
   "source": [
    "multiples_of_7 = [x for x in range(100) if x % 7 == 0]\n",
    "multiples_of_7"
   ]
  },
  {
   "cell_type": "code",
   "execution_count": 49,
   "metadata": {},
   "outputs": [],
   "source": [
    "class animal:\n",
    "    type_animal = 'pet'\n",
    "    \n",
    "    def set_owner(self, new_nickname):\n",
    "        self.owner = new_nickname\n",
    "    \n",
    "    def set_name(self, new_name):\n",
    "        self.name = new_name\n",
    "        \n",
    "    def set_breed(self, new_breed):\n",
    "        self.breed = new_breed\n"
   ]
  },
  {
   "cell_type": "code",
   "execution_count": 50,
   "metadata": {},
   "outputs": [
    {
     "name": "stdout",
     "output_type": "stream",
     "text": [
      "Amelia has a German shephered pet Dog\n"
     ]
    }
   ],
   "source": [
    "animal = animal()\n",
    "animal.set_owner('Amelia')\n",
    "animal.set_name('Dog')\n",
    "animal.set_breed('German shephered')\n",
    "print('{} has a {} {} {}'.format(animal.owner, animal.breed, animal.type_animal, animal.name))"
   ]
  },
  {
   "cell_type": "code",
   "execution_count": 51,
   "metadata": {},
   "outputs": [],
   "source": [
    "class firstclass:\n",
    "    test = 'test'    \n",
    "    def __init__(self,name,symbol):\n",
    "        self.name = name\n",
    "        self.symbol = symbol        \n",
    "        "
   ]
  },
  {
   "cell_type": "code",
   "execution_count": 52,
   "metadata": {},
   "outputs": [],
   "source": [
    "eg3 = firstclass('Three',3)"
   ]
  },
  {
   "cell_type": "code",
   "execution_count": 53,
   "metadata": {},
   "outputs": [
    {
     "name": "stdout",
     "output_type": "stream",
     "text": [
      "test Three\n"
     ]
    }
   ],
   "source": [
    "print (eg3.test, eg3.name)"
   ]
  },
  {
   "cell_type": "code",
   "execution_count": 54,
   "metadata": {},
   "outputs": [],
   "source": [
    "class FirstClass:\n",
    "    def __init__(self,name,symbol):\n",
    "        self.name = name\n",
    "        self.symbol = symbol\n",
    "        \n",
    "    def square(self):\n",
    "        return self.symbol ** 2\n",
    "    def cube(self):\n",
    "        return self.symbol ** 3\n",
    "    def multiply(self):\n",
    "        return self.symbol * x"
   ]
  },
  {
   "cell_type": "code",
   "execution_count": 55,
   "metadata": {},
   "outputs": [],
   "source": [
    "eg4 = FirstClass('Five',5)"
   ]
  },
  {
   "cell_type": "code",
   "execution_count": 56,
   "metadata": {
    "scrolled": true
   },
   "outputs": [
    {
     "name": "stdout",
     "output_type": "stream",
     "text": [
      "25\n",
      "125\n"
     ]
    }
   ],
   "source": [
    "print (eg4.square())\n",
    "print (eg4.cube())           # Q on multiplication"
   ]
  },
  {
   "cell_type": "markdown",
   "metadata": {},
   "source": [
    "# inheritance"
   ]
  },
  {
   "cell_type": "code",
   "execution_count": 57,
   "metadata": {},
   "outputs": [],
   "source": [
    "class SoftwareEngineer:\n",
    "    def __init__(self,name,age):\n",
    "        self.name = name\n",
    "        self.age = age\n",
    "    def salary(self, value):\n",
    "        self.money = value\n",
    "        print (self.name,\"earns\",self.money)"
   ]
  },
  {
   "cell_type": "code",
   "execution_count": 58,
   "metadata": {},
   "outputs": [],
   "source": [
    "a = SoftwareEngineer('Kartik',26)"
   ]
  },
  {
   "cell_type": "code",
   "execution_count": 59,
   "metadata": {},
   "outputs": [
    {
     "name": "stdout",
     "output_type": "stream",
     "text": [
      "Kartik earns 40000\n"
     ]
    }
   ],
   "source": [
    "a.salary(40000)"
   ]
  },
  {
   "cell_type": "code",
   "execution_count": 60,
   "metadata": {},
   "outputs": [
    {
     "data": {
      "text/plain": [
       "['__class__',\n",
       " '__delattr__',\n",
       " '__dict__',\n",
       " '__dir__',\n",
       " '__doc__',\n",
       " '__eq__',\n",
       " '__format__',\n",
       " '__ge__',\n",
       " '__getattribute__',\n",
       " '__gt__',\n",
       " '__hash__',\n",
       " '__init__',\n",
       " '__init_subclass__',\n",
       " '__le__',\n",
       " '__lt__',\n",
       " '__module__',\n",
       " '__ne__',\n",
       " '__new__',\n",
       " '__reduce__',\n",
       " '__reduce_ex__',\n",
       " '__repr__',\n",
       " '__setattr__',\n",
       " '__sizeof__',\n",
       " '__str__',\n",
       " '__subclasshook__',\n",
       " '__weakref__',\n",
       " 'salary']"
      ]
     },
     "execution_count": 60,
     "metadata": {},
     "output_type": "execute_result"
    }
   ],
   "source": [
    "dir(SoftwareEngineer)"
   ]
  },
  {
   "cell_type": "code",
   "execution_count": 61,
   "metadata": {},
   "outputs": [],
   "source": [
    "class Artist:\n",
    "    def __init__(self,name,age):\n",
    "        self.name = name\n",
    "        self.age = age\n",
    "    def money(self, value):\n",
    "        self.money = value\n",
    "        print (self.name,\"earns\",self.money)\n",
    "    def artform(self,job):\n",
    "        self.job = job                            #Q why is self,job not self.artform\n",
    "        print(self.name,\"is a\", self.job)     \n",
    "        "
   ]
  },
  {
   "cell_type": "code",
   "execution_count": 62,
   "metadata": {},
   "outputs": [
    {
     "name": "stdout",
     "output_type": "stream",
     "text": [
      "Azzanet earns 70000\n",
      "Azzanet is a Musician\n"
     ]
    }
   ],
   "source": [
    "a = Artist('Azzanet', 15)\n",
    "a.money(70000)\n",
    "a.artform('Musician')"
   ]
  },
  {
   "cell_type": "code",
   "execution_count": 63,
   "metadata": {},
   "outputs": [
    {
     "data": {
      "text/plain": [
       "['__class__',\n",
       " '__delattr__',\n",
       " '__dict__',\n",
       " '__dir__',\n",
       " '__doc__',\n",
       " '__eq__',\n",
       " '__format__',\n",
       " '__ge__',\n",
       " '__getattribute__',\n",
       " '__gt__',\n",
       " '__hash__',\n",
       " '__init__',\n",
       " '__init_subclass__',\n",
       " '__le__',\n",
       " '__lt__',\n",
       " '__module__',\n",
       " '__ne__',\n",
       " '__new__',\n",
       " '__reduce__',\n",
       " '__reduce_ex__',\n",
       " '__repr__',\n",
       " '__setattr__',\n",
       " '__sizeof__',\n",
       " '__str__',\n",
       " '__subclasshook__',\n",
       " '__weakref__',\n",
       " 'artform',\n",
       " 'money']"
      ]
     },
     "execution_count": 63,
     "metadata": {},
     "output_type": "execute_result"
    }
   ],
   "source": [
    "dir(Artist)"
   ]
  },
  {
   "cell_type": "markdown",
   "metadata": {},
   "source": [
    "# jason python"
   ]
  },
  {
   "cell_type": "code",
   "execution_count": 64,
   "metadata": {},
   "outputs": [
    {
     "name": "stdout",
     "output_type": "stream",
     "text": [
      "30\n"
     ]
    }
   ],
   "source": [
    "# some JSON:\n",
    "x =  '{ \"name\":\"John\", \"age\":30, \"city\":\"New York\"}'\n",
    "\n",
    "# parse x:\n",
    "y = json.loads(x) \n",
    "\n",
    "# the result is a Python dictionary:\n",
    "print(y[\"age\"])"
   ]
  },
  {
   "cell_type": "code",
   "execution_count": 65,
   "metadata": {},
   "outputs": [
    {
     "data": {
      "text/plain": [
       "{'name': 'John', 'age': 30, 'city': 'New York'}"
      ]
     },
     "execution_count": 65,
     "metadata": {},
     "output_type": "execute_result"
    }
   ],
   "source": [
    "y"
   ]
  },
  {
   "cell_type": "code",
   "execution_count": 66,
   "metadata": {},
   "outputs": [
    {
     "data": {
      "text/plain": [
       "str"
      ]
     },
     "execution_count": 66,
     "metadata": {},
     "output_type": "execute_result"
    }
   ],
   "source": [
    "type(x)              # Q difference between str and dict"
   ]
  },
  {
   "cell_type": "code",
   "execution_count": 67,
   "metadata": {},
   "outputs": [
    {
     "data": {
      "text/plain": [
       "dict"
      ]
     },
     "execution_count": 67,
     "metadata": {},
     "output_type": "execute_result"
    }
   ],
   "source": [
    "type(y)"
   ]
  },
  {
   "cell_type": "code",
   "execution_count": 68,
   "metadata": {},
   "outputs": [],
   "source": [
    "# a Python object (dict):\n",
    "x = {\n",
    "  \"name\": \"John\",\n",
    "  \"age\": 30,\n",
    "  \"city\": \"New York\"\n",
    "}\n"
   ]
  },
  {
   "cell_type": "code",
   "execution_count": 69,
   "metadata": {},
   "outputs": [],
   "source": [
    "# convert into JSON:\n",
    "y = json.dumps(x)"
   ]
  },
  {
   "cell_type": "code",
   "execution_count": 70,
   "metadata": {},
   "outputs": [
    {
     "data": {
      "text/plain": [
       "'{\"name\": \"John\", \"age\": 30, \"city\": \"New York\"}'"
      ]
     },
     "execution_count": 70,
     "metadata": {},
     "output_type": "execute_result"
    }
   ],
   "source": [
    "y"
   ]
  },
  {
   "cell_type": "code",
   "execution_count": 71,
   "metadata": {},
   "outputs": [
    {
     "data": {
      "text/plain": [
       "dict"
      ]
     },
     "execution_count": 71,
     "metadata": {},
     "output_type": "execute_result"
    }
   ],
   "source": [
    "type(x)"
   ]
  },
  {
   "cell_type": "code",
   "execution_count": 72,
   "metadata": {},
   "outputs": [
    {
     "data": {
      "text/plain": [
       "str"
      ]
     },
     "execution_count": 72,
     "metadata": {},
     "output_type": "execute_result"
    }
   ],
   "source": [
    "type(y)"
   ]
  },
  {
   "cell_type": "code",
   "execution_count": 73,
   "metadata": {},
   "outputs": [
    {
     "name": "stdout",
     "output_type": "stream",
     "text": [
      "{\"name\": \"John\", \"age\": 30}\n",
      "[\"apple\", \"bananas\"]\n",
      "[\"apple\", \"bananas\"]\n",
      "\"hello\"\n",
      "42\n",
      "31.76\n",
      "true\n",
      "false\n",
      "null\n"
     ]
    }
   ],
   "source": [
    "#You can convert Python objects of the following types, into JSON strings:w3schools\n",
    "#dict,list,tuple,string,int,float,True,False,None\n",
    "\n",
    "print(json.dumps({\"name\": \"John\", \"age\": 30}))\n",
    "print(json.dumps([\"apple\", \"bananas\"]))\n",
    "print(json.dumps((\"apple\", \"bananas\")))\n",
    "print(json.dumps(\"hello\"))\n",
    "print(json.dumps(42))\n",
    "print(json.dumps(31.76))\n",
    "print(json.dumps(True))\n",
    "print(json.dumps(False))\n",
    "print(json.dumps(None))"
   ]
  },
  {
   "cell_type": "code",
   "execution_count": 74,
   "metadata": {},
   "outputs": [
    {
     "name": "stdout",
     "output_type": "stream",
     "text": [
      "{\"name\": \"MJ\", \"age\": 32, \"married\": true, \"divorced\": false, \"children\": [\"Ann\", \"Billy\"], \"pets\": null, \"cars\": [{\"model\": \"BMW 230\", \"mpg\": 27.5}, {\"model\": \"Ford Edge\", \"mpg\": 24.1}]}\n"
     ]
    }
   ],
   "source": [
    "x = {\n",
    "  \"name\": \"MJ\",\n",
    "  \"age\": 32,\n",
    "  \"married\": True,\n",
    "  \"divorced\": False,\n",
    "  \"children\": (\"Ann\",\"Billy\"),\n",
    "  \"pets\": None,\n",
    "  \"cars\": [\n",
    "    {\"model\": \"BMW 230\", \"mpg\": 27.5},\n",
    "    {\"model\": \"Ford Edge\", \"mpg\": 24.1}\n",
    "  ]\n",
    "}\n",
    "y = print(json.dumps(x))"
   ]
  },
  {
   "cell_type": "code",
   "execution_count": 75,
   "metadata": {},
   "outputs": [
    {
     "data": {
      "text/plain": [
       "{'name': 'MJ',\n",
       " 'age': 32,\n",
       " 'married': True,\n",
       " 'divorced': False,\n",
       " 'children': ('Ann', 'Billy'),\n",
       " 'pets': None,\n",
       " 'cars': [{'model': 'BMW 230', 'mpg': 27.50},\n",
       "  {'model': 'Ford Edge', 'mpg': 24.10}]}"
      ]
     },
     "execution_count": 75,
     "metadata": {},
     "output_type": "execute_result"
    }
   ],
   "source": [
    "x"
   ]
  },
  {
   "cell_type": "code",
   "execution_count": 76,
   "metadata": {},
   "outputs": [
    {
     "data": {
      "text/plain": [
       "dict"
      ]
     },
     "execution_count": 76,
     "metadata": {},
     "output_type": "execute_result"
    }
   ],
   "source": [
    "type(x)"
   ]
  },
  {
   "cell_type": "code",
   "execution_count": 77,
   "metadata": {},
   "outputs": [
    {
     "data": {
      "text/plain": [
       "NoneType"
      ]
     },
     "execution_count": 77,
     "metadata": {},
     "output_type": "execute_result"
    }
   ],
   "source": [
    "type(y)"
   ]
  },
  {
   "cell_type": "markdown",
   "metadata": {},
   "source": [
    "#  Python Try Except¶"
   ]
  },
  {
   "cell_type": "code",
   "execution_count": 78,
   "metadata": {},
   "outputs": [
    {
     "name": "stdout",
     "output_type": "stream",
     "text": [
      "variable x is not defined\n"
     ]
    }
   ],
   "source": [
    "try:\n",
    "  print(q)\n",
    "except NameError:\n",
    "  print(\"variable x is not defined\")\n",
    "except:\n",
    "  Print(\"something else went wrong\")   \n",
    "    "
   ]
  },
  {
   "cell_type": "code",
   "execution_count": 79,
   "metadata": {},
   "outputs": [
    {
     "name": "stdout",
     "output_type": "stream",
     "text": [
      "{'name': 'MJ', 'age': 32, 'married': True, 'divorced': False, 'children': ('Ann', 'Billy'), 'pets': None, 'cars': [{'model': 'BMW 230', 'mpg': 27.5}, {'model': 'Ford Edge', 'mpg': 24.1}]}\n"
     ]
    }
   ],
   "source": [
    "try:\n",
    "  print(x)\n",
    "except NameError:\n",
    "  print(\"variable x is not defined\")\n",
    "except:\n",
    "  Print(\"something else went wrong\") "
   ]
  },
  {
   "cell_type": "code",
   "execution_count": 80,
   "metadata": {},
   "outputs": [
    {
     "name": "stdout",
     "output_type": "stream",
     "text": [
      "Something went wrong\n",
      "The 'try except' is finished\n"
     ]
    }
   ],
   "source": [
    "try:\n",
    "  print(q)\n",
    "except:\n",
    "  print(\"Something went wrong\")\n",
    "finally:\n",
    "  print(\"The 'try except' is finished\")"
   ]
  },
  {
   "cell_type": "code",
   "execution_count": 81,
   "metadata": {},
   "outputs": [
    {
     "name": "stdout",
     "output_type": "stream",
     "text": [
      "{'name': 'MJ', 'age': 32, 'married': True, 'divorced': False, 'children': ('Ann', 'Billy'), 'pets': None, 'cars': [{'model': 'BMW 230', 'mpg': 27.5}, {'model': 'Ford Edge', 'mpg': 24.1}]}\n",
      "The 'try except' is finished\n"
     ]
    }
   ],
   "source": [
    "try:\n",
    "  print(x)\n",
    "except:\n",
    "  print(\"Something went wrong\")\n",
    "finally:\n",
    "  print(\"The 'try except' is finished\")"
   ]
  },
  {
   "cell_type": "markdown",
   "metadata": {},
   "source": [
    "# 2-14 Python Iterators¶"
   ]
  },
  {
   "cell_type": "code",
   "execution_count": 87,
   "metadata": {},
   "outputs": [
    {
     "name": "stdout",
     "output_type": "stream",
     "text": [
      "apple\n",
      "banana\n",
      "cherry\n"
     ]
    }
   ],
   "source": [
    "mytuple = (\"apple\", \"banana\", \"cherry\")\n",
    "myit = iter(mytuple)\n",
    "\n",
    "print(next(myit))\n",
    "print(next(myit))\n",
    "print(next(myit))"
   ]
  },
  {
   "cell_type": "code",
   "execution_count": 83,
   "metadata": {},
   "outputs": [
    {
     "name": "stdout",
     "output_type": "stream",
     "text": [
      "apple\n",
      "banana\n",
      "cherry\n"
     ]
    }
   ],
   "source": [
    "i = 0\n",
    "for i in mytuple:\n",
    "    print(i)"
   ]
  },
  {
   "cell_type": "code",
   "execution_count": 88,
   "metadata": {},
   "outputs": [
    {
     "name": "stdout",
     "output_type": "stream",
     "text": [
      "apple\n",
      "banana\n",
      "cherry\n"
     ]
    }
   ],
   "source": [
    "mytuple = (\"apple\", \"banana\", \"cherry\")\n",
    "\n",
    "for x in mytuple:\n",
    "  print(x)"
   ]
  },
  {
   "cell_type": "markdown",
   "metadata": {},
   "source": [
    "\n",
    "# 2- 15 Dictionary"
   ]
  },
  {
   "cell_type": "code",
   "execution_count": 89,
   "metadata": {},
   "outputs": [
    {
     "name": "stdout",
     "output_type": "stream",
     "text": [
      "{'brand': 'Ford', 'model': 'Mustang', 'year': 1964}\n"
     ]
    }
   ],
   "source": [
    "thisdict =\t{\n",
    "  \"brand\": \"Ford\",\n",
    "  \"model\": \"Mustang\",\n",
    "  \"year\": 1964\n",
    "}\n",
    "print(thisdict)"
   ]
  },
  {
   "cell_type": "markdown",
   "metadata": {},
   "source": [
    "# 2-16 Tuples"
   ]
  },
  {
   "cell_type": "code",
   "execution_count": 90,
   "metadata": {},
   "outputs": [
    {
     "name": "stdout",
     "output_type": "stream",
     "text": [
      "('apple', 'banana', 'cherry')\n"
     ]
    }
   ],
   "source": [
    "thistuple = (\"apple\", \"banana\", \"cherry\")\n",
    "print(thistuple)"
   ]
  },
  {
   "cell_type": "markdown",
   "metadata": {},
   "source": [
    "# 2-17 Set¶"
   ]
  },
  {
   "cell_type": "code",
   "execution_count": 91,
   "metadata": {},
   "outputs": [
    {
     "name": "stdout",
     "output_type": "stream",
     "text": [
      "{'apartment', 'store', 'house'}\n"
     ]
    }
   ],
   "source": [
    "house_price = {\"store\", \"apartment\", \"house\"}\n",
    "print(house_price)"
   ]
  },
  {
   "cell_type": "code",
   "execution_count": 92,
   "metadata": {},
   "outputs": [
    {
     "name": "stdout",
     "output_type": "stream",
     "text": [
      "apartment\n",
      "store\n",
      "house\n"
     ]
    }
   ],
   "source": [
    "house_price = {\"store\", \"apartment\", \"house\"}\n",
    "\n",
    "for x in house_price:\n",
    "  print(x)"
   ]
  },
  {
   "cell_type": "code",
   "execution_count": 93,
   "metadata": {},
   "outputs": [
    {
     "name": "stdout",
     "output_type": "stream",
     "text": [
      "{'banana', 'apple', 'cherry', 'orange'}\n"
     ]
    }
   ],
   "source": [
    "thisset = {\"apple\", \"banana\", \"cherry\"}\n",
    "\n",
    "thisset.add(\"orange\")\n",
    "\n",
    "print(thisset)"
   ]
  },
  {
   "cell_type": "code",
   "execution_count": null,
   "metadata": {},
   "outputs": [],
   "source": []
  }
 ],
 "metadata": {
  "kernelspec": {
   "display_name": "Python 3",
   "language": "python",
   "name": "python3"
  },
  "language_info": {
   "codemirror_mode": {
    "name": "ipython",
    "version": 3
   },
   "file_extension": ".py",
   "mimetype": "text/x-python",
   "name": "python",
   "nbconvert_exporter": "python",
   "pygments_lexer": "ipython3",
   "version": "3.7.1"
  }
 },
 "nbformat": 4,
 "nbformat_minor": 2
}
